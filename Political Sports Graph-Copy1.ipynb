{
 "cells": [
  {
   "cell_type": "code",
   "execution_count": 3,
   "id": "77027998",
   "metadata": {},
   "outputs": [],
   "source": [
    "#Graph of percentage of total donation given to each party by year \n",
    "#change to stacked bar graph\n",
    "#change the y-axis values \n",
    "#change to specific dates\n",
    "#percentage values\n",
    "#annotation for each lines\n",
    "#Election Year needs to become an object "
   ]
  },
  {
   "cell_type": "code",
   "execution_count": 4,
   "id": "ac1f3b18",
   "metadata": {},
   "outputs": [],
   "source": [
    "import pandas as pd\n",
    "import numpy as np\n",
    "import matplotlib.pyplot as plt"
   ]
  },
  {
   "cell_type": "code",
   "execution_count": 5,
   "id": "ba9ad2e3",
   "metadata": {
    "scrolled": false
   },
   "outputs": [
    {
     "name": "stdout",
     "output_type": "stream",
     "text": [
      "<class 'pandas.core.frame.DataFrame'>\n",
      "Index: 2798 entries, Adam Silver to Zygi Wilf\n",
      "Data columns (total 6 columns):\n",
      " #   Column         Non-Null Count  Dtype  \n",
      "---  ------         --------------  -----  \n",
      " 0   Team           2798 non-null   object \n",
      " 1   League         2798 non-null   object \n",
      " 2   Recipient      2798 non-null   object \n",
      " 3   Amount         2798 non-null   float64\n",
      " 4   Election Year  2798 non-null   int64  \n",
      " 5   Party          2789 non-null   object \n",
      "dtypes: float64(1), int64(1), object(4)\n",
      "memory usage: 153.0+ KB\n"
     ]
    },
    {
     "data": {
      "text/html": [
       "<div>\n",
       "<style scoped>\n",
       "    .dataframe tbody tr th:only-of-type {\n",
       "        vertical-align: middle;\n",
       "    }\n",
       "\n",
       "    .dataframe tbody tr th {\n",
       "        vertical-align: top;\n",
       "    }\n",
       "\n",
       "    .dataframe thead th {\n",
       "        text-align: right;\n",
       "    }\n",
       "</style>\n",
       "<table border=\"1\" class=\"dataframe\">\n",
       "  <thead>\n",
       "    <tr style=\"text-align: right;\">\n",
       "      <th></th>\n",
       "      <th>Team</th>\n",
       "      <th>League</th>\n",
       "      <th>Recipient</th>\n",
       "      <th>Amount</th>\n",
       "      <th>Election Year</th>\n",
       "      <th>Party</th>\n",
       "    </tr>\n",
       "    <tr>\n",
       "      <th>Owner</th>\n",
       "      <th></th>\n",
       "      <th></th>\n",
       "      <th></th>\n",
       "      <th></th>\n",
       "      <th></th>\n",
       "      <th></th>\n",
       "    </tr>\n",
       "  </thead>\n",
       "  <tbody>\n",
       "    <tr>\n",
       "      <th>Adam Silver</th>\n",
       "      <td>Commissioner</td>\n",
       "      <td>NBA</td>\n",
       "      <td>WRIGHT 2016</td>\n",
       "      <td>4000.0</td>\n",
       "      <td>2016</td>\n",
       "      <td>Democrat</td>\n",
       "    </tr>\n",
       "    <tr>\n",
       "      <th>Adam Silver</th>\n",
       "      <td>Commissioner</td>\n",
       "      <td>NBA</td>\n",
       "      <td>BIDEN FOR PRESIDENT</td>\n",
       "      <td>2800.0</td>\n",
       "      <td>2020</td>\n",
       "      <td>Democrat</td>\n",
       "    </tr>\n",
       "    <tr>\n",
       "      <th>Adam Silver</th>\n",
       "      <td>Commissioner</td>\n",
       "      <td>NBA</td>\n",
       "      <td>CORY 2020</td>\n",
       "      <td>2700.0</td>\n",
       "      <td>2020</td>\n",
       "      <td>Democrat</td>\n",
       "    </tr>\n",
       "    <tr>\n",
       "      <th>Adam Silver</th>\n",
       "      <td>Commissioner</td>\n",
       "      <td>NBA</td>\n",
       "      <td>Kamala Harris for the People</td>\n",
       "      <td>2700.0</td>\n",
       "      <td>2020</td>\n",
       "      <td>Democrat</td>\n",
       "    </tr>\n",
       "    <tr>\n",
       "      <th>Adam Silver</th>\n",
       "      <td>Commissioner</td>\n",
       "      <td>NBA</td>\n",
       "      <td>Win The Era PAC</td>\n",
       "      <td>2700.0</td>\n",
       "      <td>2020</td>\n",
       "      <td>Democrat</td>\n",
       "    </tr>\n",
       "    <tr>\n",
       "      <th>...</th>\n",
       "      <td>...</td>\n",
       "      <td>...</td>\n",
       "      <td>...</td>\n",
       "      <td>...</td>\n",
       "      <td>...</td>\n",
       "      <td>...</td>\n",
       "    </tr>\n",
       "    <tr>\n",
       "      <th>Zygi Wilf</th>\n",
       "      <td>Minnesota Vikings</td>\n",
       "      <td>NFL</td>\n",
       "      <td>ANGIE CRAIG FOR CONGRESS</td>\n",
       "      <td>2700.0</td>\n",
       "      <td>2018</td>\n",
       "      <td>Democrat</td>\n",
       "    </tr>\n",
       "    <tr>\n",
       "      <th>Zygi Wilf</th>\n",
       "      <td>Minnesota Vikings</td>\n",
       "      <td>NFL</td>\n",
       "      <td>DEAN PHILLIPS FOR CONGRESS</td>\n",
       "      <td>2700.0</td>\n",
       "      <td>2018</td>\n",
       "      <td>Democrat</td>\n",
       "    </tr>\n",
       "    <tr>\n",
       "      <th>Zygi Wilf</th>\n",
       "      <td>Minnesota Vikings</td>\n",
       "      <td>NFL</td>\n",
       "      <td>MENENDEZ FOR SENATE</td>\n",
       "      <td>2700.0</td>\n",
       "      <td>2018</td>\n",
       "      <td>Democrat</td>\n",
       "    </tr>\n",
       "    <tr>\n",
       "      <th>Zygi Wilf</th>\n",
       "      <td>Minnesota Vikings</td>\n",
       "      <td>NFL</td>\n",
       "      <td>TINA SMITH FOR MINNESOTA</td>\n",
       "      <td>2700.0</td>\n",
       "      <td>2018</td>\n",
       "      <td>Democrat</td>\n",
       "    </tr>\n",
       "    <tr>\n",
       "      <th>Zygi Wilf</th>\n",
       "      <td>Minnesota Vikings</td>\n",
       "      <td>NFL</td>\n",
       "      <td>TOM MALINOWSKI FOR CONGRESS</td>\n",
       "      <td>2700.0</td>\n",
       "      <td>2018</td>\n",
       "      <td>Democrat</td>\n",
       "    </tr>\n",
       "  </tbody>\n",
       "</table>\n",
       "<p>2798 rows × 6 columns</p>\n",
       "</div>"
      ],
      "text/plain": [
       "                          Team League                     Recipient  Amount  \\\n",
       "Owner                                                                         \n",
       "Adam Silver       Commissioner    NBA                   WRIGHT 2016  4000.0   \n",
       "Adam Silver       Commissioner    NBA           BIDEN FOR PRESIDENT  2800.0   \n",
       "Adam Silver       Commissioner    NBA                     CORY 2020  2700.0   \n",
       "Adam Silver       Commissioner    NBA  Kamala Harris for the People  2700.0   \n",
       "Adam Silver       Commissioner    NBA               Win The Era PAC  2700.0   \n",
       "...                        ...    ...                           ...     ...   \n",
       "Zygi Wilf    Minnesota Vikings    NFL      ANGIE CRAIG FOR CONGRESS  2700.0   \n",
       "Zygi Wilf    Minnesota Vikings    NFL    DEAN PHILLIPS FOR CONGRESS  2700.0   \n",
       "Zygi Wilf    Minnesota Vikings    NFL           MENENDEZ FOR SENATE  2700.0   \n",
       "Zygi Wilf    Minnesota Vikings    NFL      TINA SMITH FOR MINNESOTA  2700.0   \n",
       "Zygi Wilf    Minnesota Vikings    NFL   TOM MALINOWSKI FOR CONGRESS  2700.0   \n",
       "\n",
       "             Election Year     Party  \n",
       "Owner                                 \n",
       "Adam Silver           2016  Democrat  \n",
       "Adam Silver           2020  Democrat  \n",
       "Adam Silver           2020  Democrat  \n",
       "Adam Silver           2020  Democrat  \n",
       "Adam Silver           2020  Democrat  \n",
       "...                    ...       ...  \n",
       "Zygi Wilf             2018  Democrat  \n",
       "Zygi Wilf             2018  Democrat  \n",
       "Zygi Wilf             2018  Democrat  \n",
       "Zygi Wilf             2018  Democrat  \n",
       "Zygi Wilf             2018  Democrat  \n",
       "\n",
       "[2798 rows x 6 columns]"
      ]
     },
     "execution_count": 5,
     "metadata": {},
     "output_type": "execute_result"
    }
   ],
   "source": [
    "file ='spd.csv'\n",
    "df = pd.read_csv(file, index_col=0, parse_dates=True)\n",
    "df.head()\n",
    "df.info()\n",
    "df"
   ]
  },
  {
   "cell_type": "code",
   "execution_count": 6,
   "id": "cfac5cae",
   "metadata": {},
   "outputs": [
    {
     "data": {
      "text/html": [
       "<div>\n",
       "<style scoped>\n",
       "    .dataframe tbody tr th:only-of-type {\n",
       "        vertical-align: middle;\n",
       "    }\n",
       "\n",
       "    .dataframe tbody tr th {\n",
       "        vertical-align: top;\n",
       "    }\n",
       "\n",
       "    .dataframe thead th {\n",
       "        text-align: right;\n",
       "    }\n",
       "</style>\n",
       "<table border=\"1\" class=\"dataframe\">\n",
       "  <thead>\n",
       "    <tr style=\"text-align: right;\">\n",
       "      <th></th>\n",
       "      <th>Election Year</th>\n",
       "      <th>Party</th>\n",
       "      <th>Amount</th>\n",
       "    </tr>\n",
       "  </thead>\n",
       "  <tbody>\n",
       "    <tr>\n",
       "      <th>0</th>\n",
       "      <td>2016</td>\n",
       "      <td>Bipartisan</td>\n",
       "      <td>578050.0</td>\n",
       "    </tr>\n",
       "    <tr>\n",
       "      <th>1</th>\n",
       "      <td>2016</td>\n",
       "      <td>Bipartisan, but mostly Democratic</td>\n",
       "      <td>2000.0</td>\n",
       "    </tr>\n",
       "    <tr>\n",
       "      <th>2</th>\n",
       "      <td>2016</td>\n",
       "      <td>Bipartisan, but mostly Republican</td>\n",
       "      <td>83638.0</td>\n",
       "    </tr>\n",
       "    <tr>\n",
       "      <th>3</th>\n",
       "      <td>2016</td>\n",
       "      <td>Democrat</td>\n",
       "      <td>4065094.0</td>\n",
       "    </tr>\n",
       "    <tr>\n",
       "      <th>4</th>\n",
       "      <td>2016</td>\n",
       "      <td>Independent</td>\n",
       "      <td>2700.0</td>\n",
       "    </tr>\n",
       "    <tr>\n",
       "      <th>5</th>\n",
       "      <td>2016</td>\n",
       "      <td>Republican</td>\n",
       "      <td>12940514.0</td>\n",
       "    </tr>\n",
       "    <tr>\n",
       "      <th>6</th>\n",
       "      <td>2018</td>\n",
       "      <td>Bipartisan</td>\n",
       "      <td>540083.0</td>\n",
       "    </tr>\n",
       "    <tr>\n",
       "      <th>7</th>\n",
       "      <td>2018</td>\n",
       "      <td>Bipartisan, but mostly Democratic</td>\n",
       "      <td>6000.0</td>\n",
       "    </tr>\n",
       "    <tr>\n",
       "      <th>8</th>\n",
       "      <td>2018</td>\n",
       "      <td>Bipartisan, but mostly Republican</td>\n",
       "      <td>99103.0</td>\n",
       "    </tr>\n",
       "    <tr>\n",
       "      <th>9</th>\n",
       "      <td>2018</td>\n",
       "      <td>Democrat</td>\n",
       "      <td>4174212.0</td>\n",
       "    </tr>\n",
       "    <tr>\n",
       "      <th>10</th>\n",
       "      <td>2018</td>\n",
       "      <td>Independent</td>\n",
       "      <td>10800.0</td>\n",
       "    </tr>\n",
       "    <tr>\n",
       "      <th>11</th>\n",
       "      <td>2018</td>\n",
       "      <td>Republican</td>\n",
       "      <td>11282570.0</td>\n",
       "    </tr>\n",
       "    <tr>\n",
       "      <th>12</th>\n",
       "      <td>2020</td>\n",
       "      <td>Bipartisan</td>\n",
       "      <td>356566.0</td>\n",
       "    </tr>\n",
       "    <tr>\n",
       "      <th>13</th>\n",
       "      <td>2020</td>\n",
       "      <td>Bipartisan, but mostly Democratic</td>\n",
       "      <td>2800.0</td>\n",
       "    </tr>\n",
       "    <tr>\n",
       "      <th>14</th>\n",
       "      <td>2020</td>\n",
       "      <td>Bipartisan, but mostly Republican</td>\n",
       "      <td>88352.0</td>\n",
       "    </tr>\n",
       "    <tr>\n",
       "      <th>15</th>\n",
       "      <td>2020</td>\n",
       "      <td>Democrat</td>\n",
       "      <td>1874333.0</td>\n",
       "    </tr>\n",
       "    <tr>\n",
       "      <th>16</th>\n",
       "      <td>2020</td>\n",
       "      <td>Republican</td>\n",
       "      <td>10022932.0</td>\n",
       "    </tr>\n",
       "  </tbody>\n",
       "</table>\n",
       "</div>"
      ],
      "text/plain": [
       "    Election Year                              Party      Amount\n",
       "0            2016                         Bipartisan    578050.0\n",
       "1            2016  Bipartisan, but mostly Democratic      2000.0\n",
       "2            2016  Bipartisan, but mostly Republican     83638.0\n",
       "3            2016                           Democrat   4065094.0\n",
       "4            2016                        Independent      2700.0\n",
       "5            2016                         Republican  12940514.0\n",
       "6            2018                         Bipartisan    540083.0\n",
       "7            2018  Bipartisan, but mostly Democratic      6000.0\n",
       "8            2018  Bipartisan, but mostly Republican     99103.0\n",
       "9            2018                           Democrat   4174212.0\n",
       "10           2018                        Independent     10800.0\n",
       "11           2018                         Republican  11282570.0\n",
       "12           2020                         Bipartisan    356566.0\n",
       "13           2020  Bipartisan, but mostly Democratic      2800.0\n",
       "14           2020  Bipartisan, but mostly Republican     88352.0\n",
       "15           2020                           Democrat   1874333.0\n",
       "16           2020                         Republican  10022932.0"
      ]
     },
     "execution_count": 6,
     "metadata": {},
     "output_type": "execute_result"
    }
   ],
   "source": [
    "df1 = df.groupby(['Election Year', 'Party'], as_index=False)['Amount'].sum()\n",
    "df1"
   ]
  },
  {
   "cell_type": "code",
   "execution_count": 7,
   "id": "425303f1",
   "metadata": {},
   "outputs": [
    {
     "data": {
      "text/html": [
       "<div>\n",
       "<style scoped>\n",
       "    .dataframe tbody tr th:only-of-type {\n",
       "        vertical-align: middle;\n",
       "    }\n",
       "\n",
       "    .dataframe tbody tr th {\n",
       "        vertical-align: top;\n",
       "    }\n",
       "\n",
       "    .dataframe thead th {\n",
       "        text-align: right;\n",
       "    }\n",
       "</style>\n",
       "<table border=\"1\" class=\"dataframe\">\n",
       "  <thead>\n",
       "    <tr style=\"text-align: right;\">\n",
       "      <th></th>\n",
       "      <th>Election Year</th>\n",
       "      <th>Party</th>\n",
       "      <th>Amount</th>\n",
       "    </tr>\n",
       "  </thead>\n",
       "  <tbody>\n",
       "    <tr>\n",
       "      <th>5</th>\n",
       "      <td>2016</td>\n",
       "      <td>Republican</td>\n",
       "      <td>12940514.0</td>\n",
       "    </tr>\n",
       "    <tr>\n",
       "      <th>11</th>\n",
       "      <td>2018</td>\n",
       "      <td>Republican</td>\n",
       "      <td>11282570.0</td>\n",
       "    </tr>\n",
       "    <tr>\n",
       "      <th>16</th>\n",
       "      <td>2020</td>\n",
       "      <td>Republican</td>\n",
       "      <td>10022932.0</td>\n",
       "    </tr>\n",
       "  </tbody>\n",
       "</table>\n",
       "</div>"
      ],
      "text/plain": [
       "    Election Year       Party      Amount\n",
       "5            2016  Republican  12940514.0\n",
       "11           2018  Republican  11282570.0\n",
       "16           2020  Republican  10022932.0"
      ]
     },
     "execution_count": 7,
     "metadata": {},
     "output_type": "execute_result"
    }
   ],
   "source": [
    "df12=df1.loc[df1['Party'] == 'Republican']\n",
    "df12"
   ]
  },
  {
   "cell_type": "code",
   "execution_count": 8,
   "id": "70cf92d1",
   "metadata": {},
   "outputs": [
    {
     "data": {
      "text/html": [
       "<div>\n",
       "<style scoped>\n",
       "    .dataframe tbody tr th:only-of-type {\n",
       "        vertical-align: middle;\n",
       "    }\n",
       "\n",
       "    .dataframe tbody tr th {\n",
       "        vertical-align: top;\n",
       "    }\n",
       "\n",
       "    .dataframe thead th {\n",
       "        text-align: right;\n",
       "    }\n",
       "</style>\n",
       "<table border=\"1\" class=\"dataframe\">\n",
       "  <thead>\n",
       "    <tr style=\"text-align: right;\">\n",
       "      <th></th>\n",
       "      <th>Election Year</th>\n",
       "      <th>Party</th>\n",
       "      <th>Amount</th>\n",
       "    </tr>\n",
       "  </thead>\n",
       "  <tbody>\n",
       "    <tr>\n",
       "      <th>3</th>\n",
       "      <td>2016</td>\n",
       "      <td>Democrat</td>\n",
       "      <td>4065094.0</td>\n",
       "    </tr>\n",
       "    <tr>\n",
       "      <th>9</th>\n",
       "      <td>2018</td>\n",
       "      <td>Democrat</td>\n",
       "      <td>4174212.0</td>\n",
       "    </tr>\n",
       "    <tr>\n",
       "      <th>15</th>\n",
       "      <td>2020</td>\n",
       "      <td>Democrat</td>\n",
       "      <td>1874333.0</td>\n",
       "    </tr>\n",
       "  </tbody>\n",
       "</table>\n",
       "</div>"
      ],
      "text/plain": [
       "    Election Year     Party     Amount\n",
       "3            2016  Democrat  4065094.0\n",
       "9            2018  Democrat  4174212.0\n",
       "15           2020  Democrat  1874333.0"
      ]
     },
     "execution_count": 8,
     "metadata": {},
     "output_type": "execute_result"
    }
   ],
   "source": [
    "df123=df1.loc[df1['Party'] == 'Democrat']\n",
    "df123"
   ]
  },
  {
   "cell_type": "code",
   "execution_count": 10,
   "id": "83ce72e1",
   "metadata": {
    "scrolled": true
   },
   "outputs": [
    {
     "data": {
      "text/plain": [
       "46129747.0"
      ]
     },
     "execution_count": 10,
     "metadata": {},
     "output_type": "execute_result"
    }
   ],
   "source": [
    "#To calculate the percentage of Donations By Party\n",
    "#custom: change year and party  \n",
    "df_sum = df1[\"Amount\"].sum()\n",
    "df_sum"
   ]
  },
  {
   "cell_type": "code",
   "execution_count": 76,
   "id": "02edb5a8",
   "metadata": {},
   "outputs": [
    {
     "data": {
      "text/plain": [
       "5    28.052428\n",
       "Name: Amount, dtype: float64"
      ]
     },
     "execution_count": 76,
     "metadata": {},
     "output_type": "execute_result"
    }
   ],
   "source": [
    "#Republicans- 2016\n",
    "df1234 = df1.loc[(df1[\"Election Year\"]) == 2016] \n",
    "df12345 = df1234[\"Amount\"].sum()\n",
    "dfq = df1234.loc[(df1234[\"Party\"]) == \"Republican\"] [\"Amount\"]\n",
    "dfq \n",
    "#dfq.info()\n",
    "#dfq[\"Amount\"]\n",
    "#2. Final Percentage Calculation\n",
    "dfp = dfq/df_sum\n",
    "dfp\n",
    "d2016 = dfp*100\n",
    "d2016"
   ]
  },
  {
   "cell_type": "code",
   "execution_count": 77,
   "id": "8ed47060",
   "metadata": {},
   "outputs": [
    {
     "data": {
      "text/plain": [
       "3    8.812305\n",
       "Name: Amount, dtype: float64"
      ]
     },
     "execution_count": 77,
     "metadata": {},
     "output_type": "execute_result"
    }
   ],
   "source": [
    "#Democrat-2016\n",
    "dfg = df1.loc[(df1[\"Election Year\"]) == 2016] \n",
    "dfh = dfg.loc[(dfg[\"Party\"]) == \"Democrat\"] [\"Amount\"]\n",
    "dfh \n",
    "#2. Final Percentage Calculation\n",
    "dfi = dfh/df_sum\n",
    "dfi\n",
    "r2016 = dfi*100 \n",
    "r2016"
   ]
  },
  {
   "cell_type": "code",
   "execution_count": 75,
   "id": "c8a7af9f",
   "metadata": {},
   "outputs": [
    {
     "data": {
      "text/plain": [
       "11    24.458339\n",
       "Name: Amount, dtype: float64"
      ]
     },
     "execution_count": 75,
     "metadata": {},
     "output_type": "execute_result"
    }
   ],
   "source": [
    "#Republicans-2018\n",
    "dfa = df1.loc[(df1[\"Election Year\"]) == 2018] \n",
    "dfb = dfa.loc[(dfa[\"Party\"]) == \"Republican\"] [\"Amount\"]\n",
    "dfb \n",
    "#2. Final Percentage Calculation\n",
    "dfc = dfb/df_sum\n",
    "dfc\n",
    "d2018 = dfc*100\n",
    "d2018"
   ]
  },
  {
   "cell_type": "code",
   "execution_count": 72,
   "id": "201388fc",
   "metadata": {},
   "outputs": [
    {
     "data": {
      "text/plain": [
       "16    21.727698\n",
       "Name: Amount, dtype: float64"
      ]
     },
     "execution_count": 72,
     "metadata": {},
     "output_type": "execute_result"
    }
   ],
   "source": [
    "#Republicans-2020\n",
    "dfd = df1.loc[(df1[\"Election Year\"]) == 2020] \n",
    "dfe = dfd.loc[(dfd[\"Party\"]) == \"Republican\"] [\"Amount\"]\n",
    "dfe \n",
    "#2. Final Percentage Calculation\n",
    "dff = dfe/df_sum\n",
    "dff\n",
    "r2020 = dff*100\n",
    "r2020"
   ]
  },
  {
   "cell_type": "code",
   "execution_count": 74,
   "id": "43e7c91e",
   "metadata": {},
   "outputs": [
    {
     "data": {
      "image/png": "[encoded data removed]",
      "text/plain": [
       "<Figure size 432x288 with 1 Axes>"
      ]
     },
     "metadata": {
      "needs_background": "light"
     },
     "output_type": "display_data"
    }
   ],
   "source": [
    "#Main Stackbar Graph\n",
    "labels =['2016','2018','2020']\n",
    "width = 0.35 \n",
    "#2016 - r2016,d2016\n",
    "#2018 - r2018,d2018\n",
    "#2020 - r2020,d2020\n",
    "\n",
    "\n",
    "fig, ax = plt.subplots()\n",
    "ax.bar(labels,r2016,width, label = 'Republican',color = 'b')\n",
    "ax.bar(labels,d2016,width, label = 'Democrat',color = 'r', bottom =rep_percent1)\n",
    "\n",
    "ax.set_ylabel('Percentage')\n",
    "ax.set_title('Percent of Donation By Party')\n",
    "ax.legend()\n",
    "plt.show()"
   ]
  },
  {
   "cell_type": "code",
   "execution_count": null,
   "id": "81cbc159",
   "metadata": {},
   "outputs": [],
   "source": [
    "#6 mini subplots\n",
    "#subplots with different leagues  [3,2] "
   ]
  }
 ],
 "metadata": {
  "kernelspec": {
   "display_name": "Python 3",
   "language": "python",
   "name": "python3"
  },
  "language_info": {
   "codemirror_mode": {
    "name": "ipython",
    "version": 3
   },
   "file_extension": ".py",
   "mimetype": "text/x-python",
   "name": "python",
   "nbconvert_exporter": "python",
   "pygments_lexer": "ipython3",
   "version": "3.8.8"
  }
 },
 "nbformat": 4,
 "nbformat_minor": 5
}

{
 "cells": [
  {
   "cell_type": "code",
   "execution_count": 1,
   "id": "6a291667",
   "metadata": {},
   "outputs": [
    {
     "data": {
      "text/html": [
       "<div>\n",
       "<style scoped>\n",
       "    .dataframe tbody tr th:only-of-type {\n",
       "        vertical-align: middle;\n",
       "    }\n",
       "\n",
       "    .dataframe tbody tr th {\n",
       "        vertical-align: top;\n",
       "    }\n",
       "\n",
       "    .dataframe thead th {\n",
       "        text-align: right;\n",
       "    }\n",
       "</style>\n",
       "<table border=\"1\" class=\"dataframe\">\n",
       "  <thead>\n",
       "    <tr style=\"text-align: right;\">\n",
       "      <th></th>\n",
       "      <th>Owner</th>\n",
       "      <th>Team</th>\n",
       "      <th>League</th>\n",
       "      <th>Recipient</th>\n",
       "      <th>Amount</th>\n",
       "      <th>Election Year</th>\n",
       "      <th>Party</th>\n",
       "      <th>City</th>\n",
       "      <th>State</th>\n",
       "    </tr>\n",
       "  </thead>\n",
       "  <tbody>\n",
       "    <tr>\n",
       "      <th>1396</th>\n",
       "      <td>Laura Ricketts</td>\n",
       "      <td>Chicago Cubs</td>\n",
       "      <td>MLB</td>\n",
       "      <td>SCHAKOWSKY FOR CONGRESS</td>\n",
       "      <td>4500</td>\n",
       "      <td>2018</td>\n",
       "      <td>Democrat</td>\n",
       "      <td>Chicago</td>\n",
       "      <td>Illinois</td>\n",
       "    </tr>\n",
       "    <tr>\n",
       "      <th>1250</th>\n",
       "      <td>John Stanton</td>\n",
       "      <td>Seattle Mariners</td>\n",
       "      <td>MLB</td>\n",
       "      <td>Adam Smith for Congress Committee</td>\n",
       "      <td>2700</td>\n",
       "      <td>2018</td>\n",
       "      <td>Democrat</td>\n",
       "      <td>Seattle</td>\n",
       "      <td>Washington</td>\n",
       "    </tr>\n",
       "    <tr>\n",
       "      <th>1249</th>\n",
       "      <td>John Stanton</td>\n",
       "      <td>Seattle Mariners</td>\n",
       "      <td>MLB</td>\n",
       "      <td>Hatch Election Committee Inc.</td>\n",
       "      <td>2700</td>\n",
       "      <td>2018</td>\n",
       "      <td>Republican</td>\n",
       "      <td>Seattle</td>\n",
       "      <td>Washington</td>\n",
       "    </tr>\n",
       "    <tr>\n",
       "      <th>1248</th>\n",
       "      <td>John Stanton</td>\n",
       "      <td>Seattle Mariners</td>\n",
       "      <td>MLB</td>\n",
       "      <td>Office of the Commissioner of Major League Bas...</td>\n",
       "      <td>5000</td>\n",
       "      <td>2020</td>\n",
       "      <td>Bipartisan</td>\n",
       "      <td>Seattle</td>\n",
       "      <td>Washington</td>\n",
       "    </tr>\n",
       "    <tr>\n",
       "      <th>1247</th>\n",
       "      <td>John Stanton</td>\n",
       "      <td>Seattle Mariners</td>\n",
       "      <td>MLB</td>\n",
       "      <td>Office of the Commissioner of Major League Bas...</td>\n",
       "      <td>10000</td>\n",
       "      <td>2018</td>\n",
       "      <td>Bipartisan</td>\n",
       "      <td>Seattle</td>\n",
       "      <td>Washington</td>\n",
       "    </tr>\n",
       "    <tr>\n",
       "      <th>...</th>\n",
       "      <td>...</td>\n",
       "      <td>...</td>\n",
       "      <td>...</td>\n",
       "      <td>...</td>\n",
       "      <td>...</td>\n",
       "      <td>...</td>\n",
       "      <td>...</td>\n",
       "      <td>...</td>\n",
       "      <td>...</td>\n",
       "    </tr>\n",
       "    <tr>\n",
       "      <th>1134</th>\n",
       "      <td>John Rogers</td>\n",
       "      <td>Chicago Sky</td>\n",
       "      <td>WNBA</td>\n",
       "      <td>RUSS FOR WISCONSIN</td>\n",
       "      <td>5400</td>\n",
       "      <td>2016</td>\n",
       "      <td>Democrat</td>\n",
       "      <td>Chicago</td>\n",
       "      <td>Illinois</td>\n",
       "    </tr>\n",
       "    <tr>\n",
       "      <th>1133</th>\n",
       "      <td>John Rogers</td>\n",
       "      <td>Chicago Sky</td>\n",
       "      <td>WNBA</td>\n",
       "      <td>ROBIN KELLY FOR CONGRESS</td>\n",
       "      <td>5400</td>\n",
       "      <td>2016</td>\n",
       "      <td>Democrat</td>\n",
       "      <td>Chicago</td>\n",
       "      <td>Illinois</td>\n",
       "    </tr>\n",
       "    <tr>\n",
       "      <th>1132</th>\n",
       "      <td>John Rogers</td>\n",
       "      <td>Chicago Sky</td>\n",
       "      <td>WNBA</td>\n",
       "      <td>LON JOHNSON FOR CONGRESS</td>\n",
       "      <td>5400</td>\n",
       "      <td>2016</td>\n",
       "      <td>Democrat</td>\n",
       "      <td>Chicago</td>\n",
       "      <td>Illinois</td>\n",
       "    </tr>\n",
       "    <tr>\n",
       "      <th>103</th>\n",
       "      <td>Bill Hornbuckle (MGM Resorts International)</td>\n",
       "      <td>Las Vegas Aces</td>\n",
       "      <td>WNBA</td>\n",
       "      <td>NEVADANS FOR STEVEN HORSFORD</td>\n",
       "      <td>5600</td>\n",
       "      <td>2020</td>\n",
       "      <td>Democrat</td>\n",
       "      <td>Las Vegas</td>\n",
       "      <td>Neveda</td>\n",
       "    </tr>\n",
       "    <tr>\n",
       "      <th>3279</th>\n",
       "      <td>Ted Leonsis</td>\n",
       "      <td>Washington Mystics</td>\n",
       "      <td>WNBA</td>\n",
       "      <td>FRIENDS OF JOHN DELANEY</td>\n",
       "      <td>1000</td>\n",
       "      <td>2016</td>\n",
       "      <td>Democrat</td>\n",
       "      <td>Washington</td>\n",
       "      <td>D.C.</td>\n",
       "    </tr>\n",
       "  </tbody>\n",
       "</table>\n",
       "<p>3280 rows × 9 columns</p>\n",
       "</div>"
      ],
      "text/plain": [
       "                                            Owner                Team League  \\\n",
       "1396                               Laura Ricketts        Chicago Cubs    MLB   \n",
       "1250                                 John Stanton    Seattle Mariners    MLB   \n",
       "1249                                 John Stanton    Seattle Mariners    MLB   \n",
       "1248                                 John Stanton    Seattle Mariners    MLB   \n",
       "1247                                 John Stanton    Seattle Mariners    MLB   \n",
       "...                                           ...                 ...    ...   \n",
       "1134                                  John Rogers         Chicago Sky   WNBA   \n",
       "1133                                  John Rogers         Chicago Sky   WNBA   \n",
       "1132                                  John Rogers         Chicago Sky   WNBA   \n",
       "103   Bill Hornbuckle (MGM Resorts International)      Las Vegas Aces   WNBA   \n",
       "3279                                  Ted Leonsis  Washington Mystics   WNBA   \n",
       "\n",
       "                                              Recipient  Amount  \\\n",
       "1396                            SCHAKOWSKY FOR CONGRESS    4500   \n",
       "1250                  Adam Smith for Congress Committee    2700   \n",
       "1249                      Hatch Election Committee Inc.    2700   \n",
       "1248  Office of the Commissioner of Major League Bas...    5000   \n",
       "1247  Office of the Commissioner of Major League Bas...   10000   \n",
       "...                                                 ...     ...   \n",
       "1134                                 RUSS FOR WISCONSIN    5400   \n",
       "1133                           ROBIN KELLY FOR CONGRESS    5400   \n",
       "1132                           LON JOHNSON FOR CONGRESS    5400   \n",
       "103                        NEVADANS FOR STEVEN HORSFORD    5600   \n",
       "3279                            FRIENDS OF JOHN DELANEY    1000   \n",
       "\n",
       "      Election Year       Party        City        State  \n",
       "1396           2018    Democrat     Chicago     Illinois  \n",
       "1250           2018    Democrat     Seattle   Washington  \n",
       "1249           2018  Republican     Seattle   Washington  \n",
       "1248           2020  Bipartisan     Seattle   Washington  \n",
       "1247           2018  Bipartisan     Seattle   Washington  \n",
       "...             ...         ...         ...          ...  \n",
       "1134           2016    Democrat     Chicago     Illinois  \n",
       "1133           2016    Democrat     Chicago     Illinois  \n",
       "1132           2016    Democrat     Chicago     Illinois  \n",
       "103            2020    Democrat   Las Vegas       Neveda  \n",
       "3279           2016    Democrat  Washington         D.C.  \n",
       "\n",
       "[3280 rows x 9 columns]"
      ]
     },
     "execution_count": 1,
     "metadata": {},
     "output_type": "execute_result"
    }
   ],
   "source": [
    "import pandas as pd\n",
    "import numpy as np\n",
    "import matplotlib.pyplot as plt\n",
    "\n",
    "sports= \"SPD.csv\"\n",
    "sport= 'SPD(League only).csv'\n",
    "\n",
    "df = pd.read_csv(sports,index_col=0, parse_dates=True)\n",
    "dfd = pd.read_csv(sport)\n",
    "\n",
    "\n",
    "dfd=dfd.sort_values(by=['League'])\n",
    "\n",
    "dfd"
   ]
  },
  {
   "cell_type": "code",
   "execution_count": 2,
   "id": "ebec6217",
   "metadata": {},
   "outputs": [
    {
     "data": {
      "text/plain": [
       "1396     MLB\n",
       "1250     MLB\n",
       "1249     MLB\n",
       "1248     MLB\n",
       "1247     MLB\n",
       "        ... \n",
       "1134    WNBA\n",
       "1133    WNBA\n",
       "1132    WNBA\n",
       "103     WNBA\n",
       "3279    WNBA\n",
       "Name: League, Length: 3280, dtype: object"
      ]
     },
     "execution_count": 2,
     "metadata": {},
     "output_type": "execute_result"
    }
   ],
   "source": [
    "dfd['League'].str.strip()"
   ]
  },
  {
   "cell_type": "code",
   "execution_count": 3,
   "id": "dd4e3739",
   "metadata": {},
   "outputs": [
    {
     "name": "stdout",
     "output_type": "stream",
     "text": [
      "<class 'pandas.core.frame.DataFrame'>\n",
      "Int64Index: 3280 entries, 1396 to 3279\n",
      "Data columns (total 9 columns):\n",
      " #   Column         Non-Null Count  Dtype \n",
      "---  ------         --------------  ----- \n",
      " 0   Owner          3280 non-null   object\n",
      " 1   Team           3280 non-null   object\n",
      " 2   League         3280 non-null   object\n",
      " 3   Recipient      3280 non-null   object\n",
      " 4   Amount         3280 non-null   int64 \n",
      " 5   Election Year  3280 non-null   object\n",
      " 6   Party          3266 non-null   object\n",
      " 7   City           3280 non-null   object\n",
      " 8   State          3280 non-null   object\n",
      "dtypes: int64(1), object(8)\n",
      "memory usage: 256.2+ KB\n"
     ]
    }
   ],
   "source": [
    "dfd[\"Election Year\"]= dfd[\"Election Year\"].astype(object)\n",
    "df.head(20)\n",
    "dfd.info()"
   ]
  },
  {
   "cell_type": "code",
   "execution_count": 4,
   "id": "213bf348",
   "metadata": {},
   "outputs": [
    {
     "data": {
      "text/html": [
       "<div>\n",
       "<style scoped>\n",
       "    .dataframe tbody tr th:only-of-type {\n",
       "        vertical-align: middle;\n",
       "    }\n",
       "\n",
       "    .dataframe tbody tr th {\n",
       "        vertical-align: top;\n",
       "    }\n",
       "\n",
       "    .dataframe thead th {\n",
       "        text-align: right;\n",
       "    }\n",
       "</style>\n",
       "<table border=\"1\" class=\"dataframe\">\n",
       "  <thead>\n",
       "    <tr style=\"text-align: right;\">\n",
       "      <th></th>\n",
       "      <th>Election Year</th>\n",
       "      <th>Amount</th>\n",
       "    </tr>\n",
       "  </thead>\n",
       "  <tbody>\n",
       "    <tr>\n",
       "      <th>0</th>\n",
       "      <td>2016</td>\n",
       "      <td>17679696.0</td>\n",
       "    </tr>\n",
       "    <tr>\n",
       "      <th>1</th>\n",
       "      <td>2018</td>\n",
       "      <td>16932768.0</td>\n",
       "    </tr>\n",
       "    <tr>\n",
       "      <th>2</th>\n",
       "      <td>2020</td>\n",
       "      <td>12366233.0</td>\n",
       "    </tr>\n",
       "  </tbody>\n",
       "</table>\n",
       "</div>"
      ],
      "text/plain": [
       "   Election Year      Amount\n",
       "0           2016  17679696.0\n",
       "1           2018  16932768.0\n",
       "2           2020  12366233.0"
      ]
     },
     "execution_count": 4,
     "metadata": {},
     "output_type": "execute_result"
    }
   ],
   "source": [
    "df[\"Amount\"].sum()\n",
    "dfyr= df.groupby(['Election Year'],as_index=False)['Amount'].sum()\n",
    "dfyr"
   ]
  },
  {
   "cell_type": "code",
   "execution_count": 5,
   "id": "95b0b2ea",
   "metadata": {},
   "outputs": [
    {
     "data": {
      "image/png": "[encoded data removed]",
      "text/plain": [
       "<Figure size 432x288 with 1 Axes>"
      ]
     },
     "metadata": {
      "needs_background": "light"
     },
     "output_type": "display_data"
    }
   ],
   "source": [
    "x = dfyr ['Election Year']\n",
    "plt.bar(dfyr['Election Year'],dfyr['Amount'],color =\"cyan\", width=1.5)\n",
    "plt.ticklabel_format(axis=\"y\",style='plain')\n",
    "plt.xticks(np.arange(min(x),max(x)+1, 2.0))\n",
    "plt.xlabel('Election Year')\n",
    "plt.ylabel('Political Donations')\n",
    "plt.title('Sports Owners Political Donations by Year')\n",
    "bbox = dict(boxstyle =\"round\", fc =\"purple\")\n",
    "plt.annotate(\"17,679,696\",xy=(2016,17500000),xytext=(2015.5,10000000))\n",
    "plt.annotate(\"16,932,768\",xy=(2018,16932768),xytext=(2017.5,10000000))\n",
    "plt.annotate(\"12,366,233\",xy=(2016,12366233),xytext=(2019.5,10000000))\n",
    "plt.show()"
   ]
  },
  {
   "cell_type": "code",
   "execution_count": 6,
   "id": "e20f6fa9",
   "metadata": {},
   "outputs": [
    {
     "data": {
      "text/html": [
       "<div>\n",
       "<style scoped>\n",
       "    .dataframe tbody tr th:only-of-type {\n",
       "        vertical-align: middle;\n",
       "    }\n",
       "\n",
       "    .dataframe tbody tr th {\n",
       "        vertical-align: top;\n",
       "    }\n",
       "\n",
       "    .dataframe thead th {\n",
       "        text-align: right;\n",
       "    }\n",
       "</style>\n",
       "<table border=\"1\" class=\"dataframe\">\n",
       "  <thead>\n",
       "    <tr style=\"text-align: right;\">\n",
       "      <th></th>\n",
       "      <th>Election Year</th>\n",
       "      <th>Amount</th>\n",
       "    </tr>\n",
       "  </thead>\n",
       "  <tbody>\n",
       "    <tr>\n",
       "      <th>0</th>\n",
       "      <td>2016</td>\n",
       "      <td>7539533</td>\n",
       "    </tr>\n",
       "    <tr>\n",
       "      <th>1</th>\n",
       "      <td>2018</td>\n",
       "      <td>8972842</td>\n",
       "    </tr>\n",
       "    <tr>\n",
       "      <th>2</th>\n",
       "      <td>2020</td>\n",
       "      <td>5167673</td>\n",
       "    </tr>\n",
       "  </tbody>\n",
       "</table>\n",
       "</div>"
      ],
      "text/plain": [
       "   Election Year   Amount\n",
       "0           2016  7539533\n",
       "1           2018  8972842\n",
       "2           2020  5167673"
      ]
     },
     "execution_count": 6,
     "metadata": {},
     "output_type": "execute_result"
    }
   ],
   "source": [
    "dfmlb2= dfd.loc[dfd[\"League\"]==\"MLB\"]\n",
    "dfmlb= dfmlb2.groupby(['Election Year'], as_index = False)['Amount'].sum()\n",
    "dfmlb"
   ]
  },
  {
   "cell_type": "code",
   "execution_count": 7,
   "id": "7c3c98b5",
   "metadata": {},
   "outputs": [
    {
     "data": {
      "text/html": [
       "<div>\n",
       "<style scoped>\n",
       "    .dataframe tbody tr th:only-of-type {\n",
       "        vertical-align: middle;\n",
       "    }\n",
       "\n",
       "    .dataframe tbody tr th {\n",
       "        vertical-align: top;\n",
       "    }\n",
       "\n",
       "    .dataframe thead th {\n",
       "        text-align: right;\n",
       "    }\n",
       "</style>\n",
       "<table border=\"1\" class=\"dataframe\">\n",
       "  <thead>\n",
       "    <tr style=\"text-align: right;\">\n",
       "      <th></th>\n",
       "      <th>Election Year</th>\n",
       "      <th>Amount</th>\n",
       "    </tr>\n",
       "  </thead>\n",
       "  <tbody>\n",
       "    <tr>\n",
       "      <th>0</th>\n",
       "      <td>2016</td>\n",
       "      <td>4694789</td>\n",
       "    </tr>\n",
       "    <tr>\n",
       "      <th>1</th>\n",
       "      <td>2018</td>\n",
       "      <td>4120278</td>\n",
       "    </tr>\n",
       "    <tr>\n",
       "      <th>2</th>\n",
       "      <td>2020</td>\n",
       "      <td>3211820</td>\n",
       "    </tr>\n",
       "  </tbody>\n",
       "</table>\n",
       "</div>"
      ],
      "text/plain": [
       "   Election Year   Amount\n",
       "0           2016  4694789\n",
       "1           2018  4120278\n",
       "2           2020  3211820"
      ]
     },
     "execution_count": 7,
     "metadata": {},
     "output_type": "execute_result"
    }
   ],
   "source": [
    "dfnba2= dfd.loc[dfd[\"League\"]==\"NBA\"]\n",
    "dfnba= dfnba2.groupby(['Election Year'], as_index = False)['Amount'].sum()\n",
    "dfnba"
   ]
  },
  {
   "cell_type": "code",
   "execution_count": 8,
   "id": "fc4ed544",
   "metadata": {},
   "outputs": [
    {
     "data": {
      "text/html": [
       "<div>\n",
       "<style scoped>\n",
       "    .dataframe tbody tr th:only-of-type {\n",
       "        vertical-align: middle;\n",
       "    }\n",
       "\n",
       "    .dataframe tbody tr th {\n",
       "        vertical-align: top;\n",
       "    }\n",
       "\n",
       "    .dataframe thead th {\n",
       "        text-align: right;\n",
       "    }\n",
       "</style>\n",
       "<table border=\"1\" class=\"dataframe\">\n",
       "  <thead>\n",
       "    <tr style=\"text-align: right;\">\n",
       "      <th></th>\n",
       "      <th>Election Year</th>\n",
       "      <th>Amount</th>\n",
       "    </tr>\n",
       "  </thead>\n",
       "  <tbody>\n",
       "    <tr>\n",
       "      <th>0</th>\n",
       "      <td>2016</td>\n",
       "      <td>2989830</td>\n",
       "    </tr>\n",
       "    <tr>\n",
       "      <th>1</th>\n",
       "      <td>2018</td>\n",
       "      <td>2047405</td>\n",
       "    </tr>\n",
       "    <tr>\n",
       "      <th>2</th>\n",
       "      <td>2020</td>\n",
       "      <td>1591885</td>\n",
       "    </tr>\n",
       "  </tbody>\n",
       "</table>\n",
       "</div>"
      ],
      "text/plain": [
       "   Election Year   Amount\n",
       "0           2016  2989830\n",
       "1           2018  2047405\n",
       "2           2020  1591885"
      ]
     },
     "execution_count": 8,
     "metadata": {},
     "output_type": "execute_result"
    }
   ],
   "source": [
    "dfnfl2= dfd.loc[dfd[\"League\"]==\"NFL\"]\n",
    "dfnfl= dfnfl2.groupby(['Election Year'], as_index = False)['Amount'].sum()\n",
    "dfnfl"
   ]
  },
  {
   "cell_type": "code",
   "execution_count": 9,
   "id": "720f965a",
   "metadata": {},
   "outputs": [
    {
     "data": {
      "text/html": [
       "<div>\n",
       "<style scoped>\n",
       "    .dataframe tbody tr th:only-of-type {\n",
       "        vertical-align: middle;\n",
       "    }\n",
       "\n",
       "    .dataframe tbody tr th {\n",
       "        vertical-align: top;\n",
       "    }\n",
       "\n",
       "    .dataframe thead th {\n",
       "        text-align: right;\n",
       "    }\n",
       "</style>\n",
       "<table border=\"1\" class=\"dataframe\">\n",
       "  <thead>\n",
       "    <tr style=\"text-align: right;\">\n",
       "      <th></th>\n",
       "      <th>Election Year</th>\n",
       "      <th>Amount</th>\n",
       "    </tr>\n",
       "  </thead>\n",
       "  <tbody>\n",
       "    <tr>\n",
       "      <th>0</th>\n",
       "      <td>2016</td>\n",
       "      <td>1077029</td>\n",
       "    </tr>\n",
       "    <tr>\n",
       "      <th>1</th>\n",
       "      <td>2018</td>\n",
       "      <td>1051553</td>\n",
       "    </tr>\n",
       "    <tr>\n",
       "      <th>2</th>\n",
       "      <td>2020</td>\n",
       "      <td>1033873</td>\n",
       "    </tr>\n",
       "  </tbody>\n",
       "</table>\n",
       "</div>"
      ],
      "text/plain": [
       "   Election Year   Amount\n",
       "0           2016  1077029\n",
       "1           2018  1051553\n",
       "2           2020  1033873"
      ]
     },
     "execution_count": 9,
     "metadata": {},
     "output_type": "execute_result"
    }
   ],
   "source": [
    "dfwnba2= dfd.loc[dfd[\"League\"]==\"WNBA\"]\n",
    "dfwnba= dfwnba2.groupby(['Election Year'], as_index = False)['Amount'].sum()\n",
    "dfwnba"
   ]
  },
  {
   "cell_type": "code",
   "execution_count": 10,
   "id": "bb8c2882",
   "metadata": {},
   "outputs": [
    {
     "data": {
      "text/html": [
       "<div>\n",
       "<style scoped>\n",
       "    .dataframe tbody tr th:only-of-type {\n",
       "        vertical-align: middle;\n",
       "    }\n",
       "\n",
       "    .dataframe tbody tr th {\n",
       "        vertical-align: top;\n",
       "    }\n",
       "\n",
       "    .dataframe thead th {\n",
       "        text-align: right;\n",
       "    }\n",
       "</style>\n",
       "<table border=\"1\" class=\"dataframe\">\n",
       "  <thead>\n",
       "    <tr style=\"text-align: right;\">\n",
       "      <th></th>\n",
       "      <th>Election Year</th>\n",
       "      <th>Amount</th>\n",
       "    </tr>\n",
       "  </thead>\n",
       "  <tbody>\n",
       "    <tr>\n",
       "      <th>0</th>\n",
       "      <td>2016</td>\n",
       "      <td>3158003</td>\n",
       "    </tr>\n",
       "    <tr>\n",
       "      <th>1</th>\n",
       "      <td>2018</td>\n",
       "      <td>3245250</td>\n",
       "    </tr>\n",
       "    <tr>\n",
       "      <th>2</th>\n",
       "      <td>2020</td>\n",
       "      <td>2684362</td>\n",
       "    </tr>\n",
       "  </tbody>\n",
       "</table>\n",
       "</div>"
      ],
      "text/plain": [
       "   Election Year   Amount\n",
       "0           2016  3158003\n",
       "1           2018  3245250\n",
       "2           2020  2684362"
      ]
     },
     "execution_count": 10,
     "metadata": {},
     "output_type": "execute_result"
    }
   ],
   "source": [
    "dfnhl2= dfd.loc[dfd[\"League\"]==\"NHL\"]\n",
    "dfnhl= dfnhl2.groupby(['Election Year'], as_index = False)['Amount'].sum()\n",
    "dfnhl"
   ]
  },
  {
   "cell_type": "code",
   "execution_count": 11,
   "id": "54e494ba",
   "metadata": {},
   "outputs": [
    {
     "data": {
      "text/html": [
       "<div>\n",
       "<style scoped>\n",
       "    .dataframe tbody tr th:only-of-type {\n",
       "        vertical-align: middle;\n",
       "    }\n",
       "\n",
       "    .dataframe tbody tr th {\n",
       "        vertical-align: top;\n",
       "    }\n",
       "\n",
       "    .dataframe thead th {\n",
       "        text-align: right;\n",
       "    }\n",
       "</style>\n",
       "<table border=\"1\" class=\"dataframe\">\n",
       "  <thead>\n",
       "    <tr style=\"text-align: right;\">\n",
       "      <th></th>\n",
       "      <th>Election Year</th>\n",
       "      <th>Amount</th>\n",
       "    </tr>\n",
       "  </thead>\n",
       "  <tbody>\n",
       "    <tr>\n",
       "      <th>0</th>\n",
       "      <td>2016</td>\n",
       "      <td>370383</td>\n",
       "    </tr>\n",
       "    <tr>\n",
       "      <th>1</th>\n",
       "      <td>2018</td>\n",
       "      <td>223740</td>\n",
       "    </tr>\n",
       "    <tr>\n",
       "      <th>2</th>\n",
       "      <td>2020</td>\n",
       "      <td>136970</td>\n",
       "    </tr>\n",
       "  </tbody>\n",
       "</table>\n",
       "</div>"
      ],
      "text/plain": [
       "   Election Year  Amount\n",
       "0           2016  370383\n",
       "1           2018  223740\n",
       "2           2020  136970"
      ]
     },
     "execution_count": 11,
     "metadata": {},
     "output_type": "execute_result"
    }
   ],
   "source": [
    "dfnas2= dfd.loc[dfd[\"League\"]==\"NASCAR\"]\n",
    "dfnas= dfnas2.groupby(['Election Year'], as_index = False)['Amount'].sum()\n",
    "dfnas"
   ]
  },
  {
   "cell_type": "code",
   "execution_count": 12,
   "id": "8efb967f",
   "metadata": {},
   "outputs": [
    {
     "data": {
      "text/plain": [
       "([<matplotlib.axis.XTick at 0x7fe38e4d78b0>,\n",
       "  <matplotlib.axis.XTick at 0x7fe38e4d7880>,\n",
       "  <matplotlib.axis.XTick at 0x7fe38e4df310>],\n",
       " [Text(0, 0, ''), Text(0, 0, ''), Text(0, 0, '')])"
      ]
     },
     "execution_count": 12,
     "metadata": {},
     "output_type": "execute_result"
    },
    {
     "data": {
      "image/png": "[encoded data removed]",
      "text/plain": [
       "<Figure size 864x432 with 6 Axes>"
      ]
     },
     "metadata": {
      "needs_background": "light"
     },
     "output_type": "display_data"
    }
   ],
   "source": [
    "x = dfyr ['Election Year']\n",
    "fig,ax= plt.subplots(1,6,sharex=True, sharey=True,figsize=(12,6))\n",
    "ax[0].bar(dfmlb['Election Year'],dfmlb['Amount'],color =\"cyan\", width=1.5)\n",
    "ax[1].bar(dfnba['Election Year'],dfnba['Amount'],color =\"cyan\", width=1.5)\n",
    "ax[2].bar(dfnfl['Election Year'],dfnfl['Amount'],color =\"cyan\", width=1.5)\n",
    "ax[3].bar(dfnhl['Election Year'],dfnhl['Amount'],color =\"cyan\", width=1.5)\n",
    "ax[4].bar(dfwnba['Election Year'],dfwnba['Amount'],color =\"cyan\", width=1.5)\n",
    "ax[5].bar(dfnas['Election Year'],dfnas['Amount'],color =\"cyan\", width=1.5)\n",
    "ax[0].ticklabel_format(axis=\"y\",style='plain')\n",
    "\n",
    "plt.show\n",
    "plt.sca(ax[0])\n",
    "\n",
    "\n",
    "\n",
    "plt.xticks(np.arange(min(x),max(x)+1, 2.0))\n",
    "# Put percentage change by year in each subsequent bar\n",
    "# above each bar put the percent of all donation for the year\n",
    "# find out how to change annotation text colors\n",
    "# find out how to remove graph lines to have open space for text in last 5 graphs\n",
    "# create scatter plot teams x= number of donations y= total $ amount of donations"
   ]
  },
  {
   "cell_type": "code",
   "execution_count": 13,
   "id": "aa8cf59d",
   "metadata": {},
   "outputs": [
    {
     "data": {
      "image/png": "[encoded data removed]",
      "text/plain": [
       "<Figure size 432x288 with 1 Axes>"
      ]
     },
     "metadata": {
      "needs_background": "light"
     },
     "output_type": "display_data"
    }
   ],
   "source": [
    "x=dfd.groupby([\"Team\"],as_index=True)['Amount'].count()\n",
    "y=dfd.groupby([\"Team\"],as_index=True)[\"Amount\"].sum()\n",
    "plt.scatter(x,y)\n",
    "plt.ticklabel_format(axis=\"y\",style='plain')"
   ]
  },
  {
   "cell_type": "code",
   "execution_count": 14,
   "id": "becb1bb6",
   "metadata": {},
   "outputs": [
    {
     "data": {
      "image/png": "[encoded data removed]",
      "text/plain": [
       "<Figure size 432x288 with 1 Axes>"
      ]
     },
     "metadata": {
      "needs_background": "light"
     },
     "output_type": "display_data"
    }
   ],
   "source": [
    "\n",
    "plt.ticklabel_format(axis=\"y\",style='plain')"
   ]
  },
  {
   "cell_type": "code",
   "execution_count": 15,
   "id": "20748f19",
   "metadata": {},
   "outputs": [],
   "source": [
    "dfsc=dfd.groupby([\"Team\",'League'],as_index=False)['Amount'].count()\n",
    "dfsc2=dfd.groupby([\"Team\",'League'],as_index=False)['Amount'].sum()\n",
    "dfsc2=dfsc2.sort_values(by=['League','Team'])\n",
    "dfsc=dfsc.sort_values(by=['League','Team'])"
   ]
  },
  {
   "cell_type": "code",
   "execution_count": 16,
   "id": "33206b69",
   "metadata": {},
   "outputs": [
    {
     "data": {
      "text/html": [
       "<div>\n",
       "<style scoped>\n",
       "    .dataframe tbody tr th:only-of-type {\n",
       "        vertical-align: middle;\n",
       "    }\n",
       "\n",
       "    .dataframe tbody tr th {\n",
       "        vertical-align: top;\n",
       "    }\n",
       "\n",
       "    .dataframe thead th {\n",
       "        text-align: right;\n",
       "    }\n",
       "</style>\n",
       "<table border=\"1\" class=\"dataframe\">\n",
       "  <thead>\n",
       "    <tr style=\"text-align: right;\">\n",
       "      <th></th>\n",
       "      <th>Team</th>\n",
       "      <th>League</th>\n",
       "      <th>Amount</th>\n",
       "    </tr>\n",
       "  </thead>\n",
       "  <tbody>\n",
       "    <tr>\n",
       "      <th>3</th>\n",
       "      <td>Arizona Diamondbacks</td>\n",
       "      <td>MLB</td>\n",
       "      <td>86</td>\n",
       "    </tr>\n",
       "    <tr>\n",
       "      <th>7</th>\n",
       "      <td>Baltimore Orioles</td>\n",
       "      <td>MLB</td>\n",
       "      <td>20</td>\n",
       "    </tr>\n",
       "    <tr>\n",
       "      <th>11</th>\n",
       "      <td>Boston Red Sox</td>\n",
       "      <td>MLB</td>\n",
       "      <td>20</td>\n",
       "    </tr>\n",
       "    <tr>\n",
       "      <th>19</th>\n",
       "      <td>Chicago Cubs</td>\n",
       "      <td>MLB</td>\n",
       "      <td>56</td>\n",
       "    </tr>\n",
       "    <tr>\n",
       "      <th>21</th>\n",
       "      <td>Chicago White Sox</td>\n",
       "      <td>MLB</td>\n",
       "      <td>78</td>\n",
       "    </tr>\n",
       "    <tr>\n",
       "      <th>...</th>\n",
       "      <td>...</td>\n",
       "      <td>...</td>\n",
       "      <td>...</td>\n",
       "    </tr>\n",
       "    <tr>\n",
       "      <th>66</th>\n",
       "      <td>Los Angeles Sparks</td>\n",
       "      <td>WNBA</td>\n",
       "      <td>6</td>\n",
       "    </tr>\n",
       "    <tr>\n",
       "      <th>72</th>\n",
       "      <td>Minnesota Lynx</td>\n",
       "      <td>WNBA</td>\n",
       "      <td>32</td>\n",
       "    </tr>\n",
       "    <tr>\n",
       "      <th>96</th>\n",
       "      <td>Phoenix Mercury</td>\n",
       "      <td>WNBA</td>\n",
       "      <td>18</td>\n",
       "    </tr>\n",
       "    <tr>\n",
       "      <th>114</th>\n",
       "      <td>Seattle Storm</td>\n",
       "      <td>WNBA</td>\n",
       "      <td>27</td>\n",
       "    </tr>\n",
       "    <tr>\n",
       "      <th>128</th>\n",
       "      <td>Washington Mystics</td>\n",
       "      <td>WNBA</td>\n",
       "      <td>15</td>\n",
       "    </tr>\n",
       "  </tbody>\n",
       "</table>\n",
       "<p>131 rows × 3 columns</p>\n",
       "</div>"
      ],
      "text/plain": [
       "                     Team League  Amount\n",
       "3    Arizona Diamondbacks    MLB      86\n",
       "7       Baltimore Orioles    MLB      20\n",
       "11         Boston Red Sox    MLB      20\n",
       "19           Chicago Cubs    MLB      56\n",
       "21      Chicago White Sox    MLB      78\n",
       "..                    ...    ...     ...\n",
       "66     Los Angeles Sparks   WNBA       6\n",
       "72         Minnesota Lynx   WNBA      32\n",
       "96        Phoenix Mercury   WNBA      18\n",
       "114         Seattle Storm   WNBA      27\n",
       "128    Washington Mystics   WNBA      15\n",
       "\n",
       "[131 rows x 3 columns]"
      ]
     },
     "execution_count": 16,
     "metadata": {},
     "output_type": "execute_result"
    }
   ],
   "source": [
    "dfsc"
   ]
  },
  {
   "cell_type": "code",
   "execution_count": 18,
   "id": "2e90d6b0",
   "metadata": {},
   "outputs": [
    {
     "data": {
      "image/png": "[encoded data removed]",
      "text/plain": [
       "<Figure size 432x288 with 1 Axes>"
      ]
     },
     "metadata": {
      "needs_background": "light"
     },
     "output_type": "display_data"
    }
   ],
   "source": [
    "x=dfd.groupby([\"Team\"],as_index=True)['Amount'].count()\n",
    "y=dfsc2.groupby([\"Team\"],as_index=True)[\"Amount\"].sum()\n",
    "plt.scatter(x,y)\n",
    "plt.ticklabel_format(axis=\"y\",style='plain')\n",
    "#make scatterplot without san francisco giants to show graph with and without top donor"
   ]
  },
  {
   "cell_type": "code",
   "execution_count": null,
   "id": "d75a8b33",
   "metadata": {},
   "outputs": [],
   "source": []
  },
  {
   "cell_type": "code",
   "execution_count": null,
   "id": "83711fe1",
   "metadata": {},
   "outputs": [],
   "source": []
  },
  {
   "cell_type": "code",
   "execution_count": null,
   "id": "60517926",
   "metadata": {},
   "outputs": [],
   "source": []
  }
 ],
 "metadata": {
  "kernelspec": {
   "display_name": "Python 3",
   "language": "python",
   "name": "python3"
  },
  "language_info": {
   "codemirror_mode": {
    "name": "ipython",
    "version": 3
   },
   "file_extension": ".py",
   "mimetype": "text/x-python",
   "name": "python",
   "nbconvert_exporter": "python",
   "pygments_lexer": "ipython3",
   "version": "3.8.8"
  }
 },
 "nbformat": 4,
 "nbformat_minor": 5
}

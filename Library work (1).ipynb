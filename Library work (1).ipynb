{
 "cells": [
  {
   "cell_type": "code",
   "execution_count": null,
   "id": "328c1798",
   "metadata": {},
   "outputs": [],
   "source": [
    "import pandas as pd\n",
    "import numpy as np\n",
    "import matplotlib.pyplot as plt\n"
   ]
  },
  {
   "cell_type": "code",
   "execution_count": null,
   "id": "a5ed6ad0",
   "metadata": {},
   "outputs": [],
   "source": [
    "sports= \"SPD.csv\"\n",
    "sport= 'SPD(League only).csv'"
   ]
  },
  {
   "cell_type": "code",
   "execution_count": null,
   "id": "f937d569",
   "metadata": {},
   "outputs": [],
   "source": [
    "df = pd.read_csv(sports,index_col=0, parse_dates=True)\n",
    "dfd = pd.read_csv(sport)\n"
   ]
  },
  {
   "cell_type": "code",
   "execution_count": null,
   "id": "89659bb2",
   "metadata": {},
   "outputs": [],
   "source": [
    "dfd['League'].str.strip()"
   ]
  },
  {
   "cell_type": "code",
   "execution_count": null,
   "id": "49d1d8af",
   "metadata": {},
   "outputs": [],
   "source": [
    "df[\"Election Year\"]= df[\"Election Year\"].astype(object)\n",
    "df.head(20)\n",
    "df.info()"
   ]
  },
  {
   "cell_type": "code",
   "execution_count": null,
   "id": "c3232f82",
   "metadata": {},
   "outputs": [],
   "source": [
    "dfyr=df.groupby(['Election Year'], as_index=False)['Amount'].sum()\n",
    "dfyr=dfyr.set_index('Election Year')\n",
    "dfyr\n",
    "# put percent of of total by party by year in timeseries to see if republicans get more or less % by year\n",
    "\n",
    "# how all leagues donate by year, how speficic leagues donate by year time series all in one graph\n",
    "\n",
    "# how does the location of the team affect the donation patterns\n",
    "\n",
    "# do owners that own multiple teams donate differently than owners in that only have one team  \n",
    "# in terms of size or amount but also in who the who they donate to.\n"
   ]
  },
  {
   "cell_type": "code",
   "execution_count": null,
   "id": "4dd490de",
   "metadata": {},
   "outputs": [],
   "source": [
    "dfd2= dfd.groupby(['League'], as_index=False)['Amount'].sum()\n",
    "dfd2"
   ]
  },
  {
   "cell_type": "code",
   "execution_count": null,
   "id": "3569b984",
   "metadata": {},
   "outputs": [],
   "source": [
    "dfl=dfd['Owner']\n",
    "dfl"
   ]
  },
  {
   "cell_type": "code",
   "execution_count": null,
   "id": "6e33b554",
   "metadata": {},
   "outputs": [],
   "source": [
    "dfe= df.groupby(['Election Year',\"Party\"],as_index=False)['Amount'].sum()\n",
    "dfe\n"
   ]
  },
  {
   "cell_type": "code",
   "execution_count": null,
   "id": "b4384af8",
   "metadata": {},
   "outputs": [],
   "source": [
    "dfer=dfe.loc[dfe['Party'] =='Republican']\n",
    "dfer"
   ]
  },
  {
   "cell_type": "code",
   "execution_count": null,
   "id": "fe752dc9",
   "metadata": {},
   "outputs": [],
   "source": [
    "dfed=dfe.loc[dfe['Party'] =='Democrat']\n",
    "dfed"
   ]
  },
  {
   "cell_type": "code",
   "execution_count": null,
   "id": "1aad00e4",
   "metadata": {},
   "outputs": [],
   "source": [
    "dfsum=df[\"Amount\"].sum()\n",
    "\n",
    "dfsum\n",
    "df.info()"
   ]
  },
  {
   "cell_type": "code",
   "execution_count": null,
   "id": "24237e7e",
   "metadata": {},
   "outputs": [],
   "source": [
    "dfy=df.loc[(df[\"Election Year\"] == 2020)]\n",
    "dfq= dfy[\"Amount\"].sum()\n",
    "dfq"
   ]
  },
  {
   "cell_type": "code",
   "execution_count": null,
   "id": "320ec91f",
   "metadata": {},
   "outputs": [],
   "source": [
    "dfed[\"Amount\"].sum()\n",
    "dfed"
   ]
  },
  {
   "cell_type": "code",
   "execution_count": null,
   "id": "a393bc9e",
   "metadata": {},
   "outputs": [],
   "source": [
    "dfy2=df.loc[(df[\"Election Year\"] == 2020)& (df[\"Party\"] == \"Democrat\")]\n",
    "dfq2= dfy2[\"Amount\"].sum()\n",
    "dfq2"
   ]
  },
  {
   "cell_type": "code",
   "execution_count": null,
   "id": "561054c0",
   "metadata": {},
   "outputs": [],
   "source": [
    "dfq3=dfq2/dfq\n",
    "\n",
    "\n"
   ]
  },
  {
   "cell_type": "code",
   "execution_count": null,
   "id": "b07dbb3a",
   "metadata": {},
   "outputs": [],
   "source": [
    "dfq3"
   ]
  },
  {
   "cell_type": "code",
   "execution_count": null,
   "id": "659469e4",
   "metadata": {},
   "outputs": [],
   "source": [
    "dfyr=df.groupby(['Election Year'], as_index=False)['Amount'].sum()\n",
    "\n",
    "dfyr"
   ]
  },
  {
   "cell_type": "code",
   "execution_count": null,
   "id": "8c2a8cca",
   "metadata": {},
   "outputs": [],
   "source": [
    "y=dfyr[\"Amount\"]\n",
    "x=dfyr[\"Election Year\"]\n",
    "plt.bar(dfyr[\"Election Year\"],dfyr[\"Amount\"])\n",
    "plt.xticks(np.arange(min(x), max(x)+1, 2.0))\n",
    "plt.yticks(np.arange(min(0), max(y)+1, 2.0))\n",
    "plt.show()"
   ]
  },
  {
   "cell_type": "code",
   "execution_count": null,
   "id": "574fba44",
   "metadata": {},
   "outputs": [],
   "source": [
    "df.info()"
   ]
  },
  {
   "cell_type": "code",
   "execution_count": null,
   "id": "9f6a97f6",
   "metadata": {},
   "outputs": [],
   "source": []
  }
 ],
 "metadata": {
  "kernelspec": {
   "display_name": "Python 3",
   "language": "python",
   "name": "python3"
  },
  "language_info": {
   "codemirror_mode": {
    "name": "ipython",
    "version": 3
   },
   "file_extension": ".py",
   "mimetype": "text/x-python",
   "name": "python",
   "nbconvert_exporter": "python",
   "pygments_lexer": "ipython3",
   "version": "3.8.8"
  }
 },
 "nbformat": 4,
 "nbformat_minor": 5
}

{
 "cells": [
  {
   "cell_type": "code",
   "execution_count": 9,
   "id": "dd0b80c4",
   "metadata": {},
   "outputs": [
    {
     "data": {
      "text/html": [
       "<div>\n",
       "<style scoped>\n",
       "    .dataframe tbody tr th:only-of-type {\n",
       "        vertical-align: middle;\n",
       "    }\n",
       "\n",
       "    .dataframe tbody tr th {\n",
       "        vertical-align: top;\n",
       "    }\n",
       "\n",
       "    .dataframe thead th {\n",
       "        text-align: right;\n",
       "    }\n",
       "</style>\n",
       "<table border=\"1\" class=\"dataframe\">\n",
       "  <thead>\n",
       "    <tr style=\"text-align: right;\">\n",
       "      <th></th>\n",
       "      <th>Owner</th>\n",
       "      <th>Team</th>\n",
       "      <th>League</th>\n",
       "      <th>Recipient</th>\n",
       "      <th>Amount</th>\n",
       "      <th>Election Year</th>\n",
       "      <th>Party</th>\n",
       "      <th>City</th>\n",
       "      <th>State</th>\n",
       "    </tr>\n",
       "  </thead>\n",
       "  <tbody>\n",
       "    <tr>\n",
       "      <th>0</th>\n",
       "      <td>Adam Silver</td>\n",
       "      <td>Commissioner</td>\n",
       "      <td>NBA</td>\n",
       "      <td>WRIGHT 2016</td>\n",
       "      <td>4000</td>\n",
       "      <td>2016</td>\n",
       "      <td>Democrat</td>\n",
       "      <td>New York</td>\n",
       "      <td>New York</td>\n",
       "    </tr>\n",
       "    <tr>\n",
       "      <th>1</th>\n",
       "      <td>Adam Silver</td>\n",
       "      <td>Commissioner</td>\n",
       "      <td>NBA</td>\n",
       "      <td>BIDEN FOR PRESIDENT</td>\n",
       "      <td>2800</td>\n",
       "      <td>2020</td>\n",
       "      <td>Democrat</td>\n",
       "      <td>New York</td>\n",
       "      <td>New York</td>\n",
       "    </tr>\n",
       "    <tr>\n",
       "      <th>2</th>\n",
       "      <td>Adam Silver</td>\n",
       "      <td>Commissioner</td>\n",
       "      <td>NBA</td>\n",
       "      <td>CORY 2020</td>\n",
       "      <td>2700</td>\n",
       "      <td>2020</td>\n",
       "      <td>Democrat</td>\n",
       "      <td>New York</td>\n",
       "      <td>New York</td>\n",
       "    </tr>\n",
       "    <tr>\n",
       "      <th>3</th>\n",
       "      <td>Adam Silver</td>\n",
       "      <td>Commissioner</td>\n",
       "      <td>NBA</td>\n",
       "      <td>Kamala Harris for the People</td>\n",
       "      <td>2700</td>\n",
       "      <td>2020</td>\n",
       "      <td>Democrat</td>\n",
       "      <td>New York</td>\n",
       "      <td>New York</td>\n",
       "    </tr>\n",
       "    <tr>\n",
       "      <th>4</th>\n",
       "      <td>Adam Silver</td>\n",
       "      <td>Commissioner</td>\n",
       "      <td>NBA</td>\n",
       "      <td>Win The Era PAC</td>\n",
       "      <td>2700</td>\n",
       "      <td>2020</td>\n",
       "      <td>Democrat</td>\n",
       "      <td>New York</td>\n",
       "      <td>New York</td>\n",
       "    </tr>\n",
       "    <tr>\n",
       "      <th>...</th>\n",
       "      <td>...</td>\n",
       "      <td>...</td>\n",
       "      <td>...</td>\n",
       "      <td>...</td>\n",
       "      <td>...</td>\n",
       "      <td>...</td>\n",
       "      <td>...</td>\n",
       "      <td>...</td>\n",
       "      <td>...</td>\n",
       "    </tr>\n",
       "    <tr>\n",
       "      <th>3275</th>\n",
       "      <td>Ted Leonsis</td>\n",
       "      <td>Washington Mystics</td>\n",
       "      <td>WNBA</td>\n",
       "      <td>DAS FOR CONGRESS</td>\n",
       "      <td>2600</td>\n",
       "      <td>2018</td>\n",
       "      <td>Democrat</td>\n",
       "      <td>Washington</td>\n",
       "      <td>D.C.</td>\n",
       "    </tr>\n",
       "    <tr>\n",
       "      <th>3276</th>\n",
       "      <td>Ted Leonsis</td>\n",
       "      <td>Washington Mystics</td>\n",
       "      <td>WNBA</td>\n",
       "      <td>ALEX T FOR CONGRESS</td>\n",
       "      <td>2400</td>\n",
       "      <td>2018</td>\n",
       "      <td>Democrat</td>\n",
       "      <td>Washington</td>\n",
       "      <td>D.C.</td>\n",
       "    </tr>\n",
       "    <tr>\n",
       "      <th>3277</th>\n",
       "      <td>Ted Leonsis</td>\n",
       "      <td>Washington Mystics</td>\n",
       "      <td>WNBA</td>\n",
       "      <td>THE NIKI TSONGAS COMMITTEE</td>\n",
       "      <td>2000</td>\n",
       "      <td>2016</td>\n",
       "      <td>Democrat</td>\n",
       "      <td>Washington</td>\n",
       "      <td>D.C.</td>\n",
       "    </tr>\n",
       "    <tr>\n",
       "      <th>3278</th>\n",
       "      <td>Ted Leonsis</td>\n",
       "      <td>Washington Mystics</td>\n",
       "      <td>WNBA</td>\n",
       "      <td>FRIENDS OF JOHN SARBANES</td>\n",
       "      <td>2000</td>\n",
       "      <td>2018</td>\n",
       "      <td>Democrat</td>\n",
       "      <td>Washington</td>\n",
       "      <td>D.C.</td>\n",
       "    </tr>\n",
       "    <tr>\n",
       "      <th>3279</th>\n",
       "      <td>Ted Leonsis</td>\n",
       "      <td>Washington Mystics</td>\n",
       "      <td>WNBA</td>\n",
       "      <td>FRIENDS OF JOHN DELANEY</td>\n",
       "      <td>1000</td>\n",
       "      <td>2016</td>\n",
       "      <td>Democrat</td>\n",
       "      <td>Washington</td>\n",
       "      <td>D.C.</td>\n",
       "    </tr>\n",
       "  </tbody>\n",
       "</table>\n",
       "<p>3280 rows × 9 columns</p>\n",
       "</div>"
      ],
      "text/plain": [
       "            Owner                Team League                     Recipient  \\\n",
       "0     Adam Silver        Commissioner    NBA                   WRIGHT 2016   \n",
       "1     Adam Silver        Commissioner    NBA           BIDEN FOR PRESIDENT   \n",
       "2     Adam Silver        Commissioner    NBA                     CORY 2020   \n",
       "3     Adam Silver        Commissioner    NBA  Kamala Harris for the People   \n",
       "4     Adam Silver        Commissioner    NBA               Win The Era PAC   \n",
       "...           ...                 ...    ...                           ...   \n",
       "3275  Ted Leonsis  Washington Mystics   WNBA              DAS FOR CONGRESS   \n",
       "3276  Ted Leonsis  Washington Mystics   WNBA           ALEX T FOR CONGRESS   \n",
       "3277  Ted Leonsis  Washington Mystics   WNBA    THE NIKI TSONGAS COMMITTEE   \n",
       "3278  Ted Leonsis  Washington Mystics   WNBA      FRIENDS OF JOHN SARBANES   \n",
       "3279  Ted Leonsis  Washington Mystics   WNBA       FRIENDS OF JOHN DELANEY   \n",
       "\n",
       "      Amount  Election Year     Party        City      State  \n",
       "0       4000           2016  Democrat    New York   New York  \n",
       "1       2800           2020  Democrat    New York   New York  \n",
       "2       2700           2020  Democrat    New York   New York  \n",
       "3       2700           2020  Democrat    New York   New York  \n",
       "4       2700           2020  Democrat    New York   New York  \n",
       "...      ...            ...       ...         ...        ...  \n",
       "3275    2600           2018  Democrat  Washington       D.C.  \n",
       "3276    2400           2018  Democrat  Washington       D.C.  \n",
       "3277    2000           2016  Democrat  Washington       D.C.  \n",
       "3278    2000           2018  Democrat  Washington       D.C.  \n",
       "3279    1000           2016  Democrat  Washington       D.C.  \n",
       "\n",
       "[3280 rows x 9 columns]"
      ]
     },
     "execution_count": 9,
     "metadata": {},
     "output_type": "execute_result"
    }
   ],
   "source": [
    "import pandas as pd\n",
    "import numpy as np\n",
    "import matplotlib.pyplot as plt\n",
    "\n",
    "\n",
    "sports= \"SPD.csv\"\n",
    "sport= 'SPD(League only).csv'\n",
    "\n",
    "df = pd.read_csv(sports,index_col=0, parse_dates=True)\n",
    "dfd = pd.read_csv(sport)\n",
    "\n",
    "\n",
    "\n",
    "\n",
    "dfd"
   ]
  },
  {
   "cell_type": "code",
   "execution_count": 10,
   "id": "e28eb5af",
   "metadata": {},
   "outputs": [
    {
     "data": {
      "text/plain": [
       "0        NBA\n",
       "1        NBA\n",
       "2        NBA\n",
       "3        NBA\n",
       "4        NBA\n",
       "        ... \n",
       "3275    WNBA\n",
       "3276    WNBA\n",
       "3277    WNBA\n",
       "3278    WNBA\n",
       "3279    WNBA\n",
       "Name: League, Length: 3280, dtype: object"
      ]
     },
     "execution_count": 10,
     "metadata": {},
     "output_type": "execute_result"
    }
   ],
   "source": [
    "dfd['League'].str.strip()"
   ]
  },
  {
   "cell_type": "code",
   "execution_count": 11,
   "id": "ddc432c1",
   "metadata": {},
   "outputs": [
    {
     "name": "stdout",
     "output_type": "stream",
     "text": [
      "<class 'pandas.core.frame.DataFrame'>\n",
      "Index: 2798 entries, Adam Silver to Zygi Wilf\n",
      "Data columns (total 6 columns):\n",
      " #   Column         Non-Null Count  Dtype  \n",
      "---  ------         --------------  -----  \n",
      " 0   Team           2798 non-null   object \n",
      " 1   League         2798 non-null   object \n",
      " 2   Recipient      2798 non-null   object \n",
      " 3   Amount         2798 non-null   float64\n",
      " 4   Election Year  2798 non-null   object \n",
      " 5   Party          2789 non-null   object \n",
      "dtypes: float64(1), object(5)\n",
      "memory usage: 153.0+ KB\n"
     ]
    }
   ],
   "source": [
    "df[\"Election Year\"]= df[\"Election Year\"].astype(object)\n",
    "df.head(20)\n",
    "df.info()"
   ]
  },
  {
   "cell_type": "code",
   "execution_count": 92,
   "id": "c83dcc88",
   "metadata": {},
   "outputs": [
    {
     "data": {
      "text/html": [
       "<div>\n",
       "<style scoped>\n",
       "    .dataframe tbody tr th:only-of-type {\n",
       "        vertical-align: middle;\n",
       "    }\n",
       "\n",
       "    .dataframe tbody tr th {\n",
       "        vertical-align: top;\n",
       "    }\n",
       "\n",
       "    .dataframe thead th {\n",
       "        text-align: right;\n",
       "    }\n",
       "</style>\n",
       "<table border=\"1\" class=\"dataframe\">\n",
       "  <thead>\n",
       "    <tr style=\"text-align: right;\">\n",
       "      <th></th>\n",
       "      <th>Election Year</th>\n",
       "      <th>Amount</th>\n",
       "    </tr>\n",
       "  </thead>\n",
       "  <tbody>\n",
       "    <tr>\n",
       "      <th>0</th>\n",
       "      <td>2016</td>\n",
       "      <td>17679696.0</td>\n",
       "    </tr>\n",
       "    <tr>\n",
       "      <th>1</th>\n",
       "      <td>2018</td>\n",
       "      <td>16932768.0</td>\n",
       "    </tr>\n",
       "    <tr>\n",
       "      <th>2</th>\n",
       "      <td>2020</td>\n",
       "      <td>12366233.0</td>\n",
       "    </tr>\n",
       "  </tbody>\n",
       "</table>\n",
       "</div>"
      ],
      "text/plain": [
       "   Election Year      Amount\n",
       "0           2016  17679696.0\n",
       "1           2018  16932768.0\n",
       "2           2020  12366233.0"
      ]
     },
     "execution_count": 92,
     "metadata": {},
     "output_type": "execute_result"
    }
   ],
   "source": [
    "df[\"Amount\"].sum()\n",
    "dfyr= df.groupby(['Election Year'],as_index=False)['Amount'].sum()\n",
    "dfyr"
   ]
  },
  {
   "cell_type": "code",
   "execution_count": 87,
   "id": "db5d96bc",
   "metadata": {},
   "outputs": [
    {
     "data": {
      "image/png": "[encoded data removed]",
      "text/plain": [
       "<Figure size 432x288 with 1 Axes>"
      ]
     },
     "metadata": {
      "needs_background": "light"
     },
     "output_type": "display_data"
    }
   ],
   "source": [
    "x = dfyr ['Election Year']\n",
    "plt.bar(dfyr['Election Year'],dfyr['Amount'],color =\"cyan\", width=1.5)\n",
    "plt.ticklabel_format(axis=\"y\",style='plain')\n",
    "plt.xticks(np.arange(min(x),max(x)+1, 2.0))\n",
    "plt.xlabel('Election Year')\n",
    "plt.ylabel('Political Donations')\n",
    "plt.title('Sports Owners Political Donations by Year')\n",
    "bbox = dict(boxstyle =\"round\", fc =\"purple\")\n",
    "plt.annotate(\"17,679,696\",xy=(2016,17500000),xytext=(2015.5,10000000))\n",
    "plt.annotate(\"16,932,768\",xy=(2018,16932768),xytext=(2017.5,10000000))\n",
    "plt.annotate(\"12,366,233\",xy=(2016,12366233),xytext=(2019.5,10000000))\n",
    "plt.show()"
   ]
  },
  {
   "cell_type": "code",
   "execution_count": 123,
   "id": "035ea26c",
   "metadata": {},
   "outputs": [
    {
     "data": {
      "text/html": [
       "<div>\n",
       "<style scoped>\n",
       "    .dataframe tbody tr th:only-of-type {\n",
       "        vertical-align: middle;\n",
       "    }\n",
       "\n",
       "    .dataframe tbody tr th {\n",
       "        vertical-align: top;\n",
       "    }\n",
       "\n",
       "    .dataframe thead th {\n",
       "        text-align: right;\n",
       "    }\n",
       "</style>\n",
       "<table border=\"1\" class=\"dataframe\">\n",
       "  <thead>\n",
       "    <tr style=\"text-align: right;\">\n",
       "      <th></th>\n",
       "      <th>Election Year</th>\n",
       "      <th>Amount</th>\n",
       "    </tr>\n",
       "  </thead>\n",
       "  <tbody>\n",
       "    <tr>\n",
       "      <th>0</th>\n",
       "      <td>2016</td>\n",
       "      <td>7146058.0</td>\n",
       "    </tr>\n",
       "    <tr>\n",
       "      <th>1</th>\n",
       "      <td>2018</td>\n",
       "      <td>7567842.0</td>\n",
       "    </tr>\n",
       "    <tr>\n",
       "      <th>2</th>\n",
       "      <td>2020</td>\n",
       "      <td>4771773.0</td>\n",
       "    </tr>\n",
       "  </tbody>\n",
       "</table>\n",
       "</div>"
      ],
      "text/plain": [
       "   Election Year     Amount\n",
       "0           2016  7146058.0\n",
       "1           2018  7567842.0\n",
       "2           2020  4771773.0"
      ]
     },
     "execution_count": 123,
     "metadata": {},
     "output_type": "execute_result"
    }
   ],
   "source": [
    "dfmlb2= df.loc[df[\"League\"]==\"MLB\"]\n",
    "dfmlb= dfmlb2.groupby(['Election Year'], as_index = False)['Amount'].sum()\n",
    "dfmlb"
   ]
  },
  {
   "cell_type": "code",
   "execution_count": 124,
   "id": "ac4d43ec",
   "metadata": {},
   "outputs": [
    {
     "data": {
      "text/html": [
       "<div>\n",
       "<style scoped>\n",
       "    .dataframe tbody tr th:only-of-type {\n",
       "        vertical-align: middle;\n",
       "    }\n",
       "\n",
       "    .dataframe tbody tr th {\n",
       "        vertical-align: top;\n",
       "    }\n",
       "\n",
       "    .dataframe thead th {\n",
       "        text-align: right;\n",
       "    }\n",
       "</style>\n",
       "<table border=\"1\" class=\"dataframe\">\n",
       "  <thead>\n",
       "    <tr style=\"text-align: right;\">\n",
       "      <th></th>\n",
       "      <th>Election Year</th>\n",
       "      <th>Amount</th>\n",
       "    </tr>\n",
       "  </thead>\n",
       "  <tbody>\n",
       "    <tr>\n",
       "      <th>0</th>\n",
       "      <td>2016</td>\n",
       "      <td>3273331.0</td>\n",
       "    </tr>\n",
       "    <tr>\n",
       "      <th>1</th>\n",
       "      <td>2018</td>\n",
       "      <td>1455978.0</td>\n",
       "    </tr>\n",
       "    <tr>\n",
       "      <th>2</th>\n",
       "      <td>2020</td>\n",
       "      <td>1772470.0</td>\n",
       "    </tr>\n",
       "  </tbody>\n",
       "</table>\n",
       "</div>"
      ],
      "text/plain": [
       "   Election Year     Amount\n",
       "0           2016  3273331.0\n",
       "1           2018  1455978.0\n",
       "2           2020  1772470.0"
      ]
     },
     "execution_count": 124,
     "metadata": {},
     "output_type": "execute_result"
    }
   ],
   "source": [
    "dfnba2= df.loc[df[\"League\"]==\"NBA\"]\n",
    "dfnba= dfnba2.groupby(['Election Year'], as_index = False)['Amount'].sum()\n",
    "dfnba"
   ]
  },
  {
   "cell_type": "code",
   "execution_count": 125,
   "id": "267445bb",
   "metadata": {},
   "outputs": [
    {
     "data": {
      "text/html": [
       "<div>\n",
       "<style scoped>\n",
       "    .dataframe tbody tr th:only-of-type {\n",
       "        vertical-align: middle;\n",
       "    }\n",
       "\n",
       "    .dataframe tbody tr th {\n",
       "        vertical-align: top;\n",
       "    }\n",
       "\n",
       "    .dataframe thead th {\n",
       "        text-align: right;\n",
       "    }\n",
       "</style>\n",
       "<table border=\"1\" class=\"dataframe\">\n",
       "  <thead>\n",
       "    <tr style=\"text-align: right;\">\n",
       "      <th></th>\n",
       "      <th>Election Year</th>\n",
       "      <th>Amount</th>\n",
       "    </tr>\n",
       "  </thead>\n",
       "  <tbody>\n",
       "    <tr>\n",
       "      <th>0</th>\n",
       "      <td>2016</td>\n",
       "      <td>2597130.0</td>\n",
       "    </tr>\n",
       "    <tr>\n",
       "      <th>1</th>\n",
       "      <td>2018</td>\n",
       "      <td>1743405.0</td>\n",
       "    </tr>\n",
       "    <tr>\n",
       "      <th>2</th>\n",
       "      <td>2020</td>\n",
       "      <td>1586285.0</td>\n",
       "    </tr>\n",
       "  </tbody>\n",
       "</table>\n",
       "</div>"
      ],
      "text/plain": [
       "   Election Year     Amount\n",
       "0           2016  2597130.0\n",
       "1           2018  1743405.0\n",
       "2           2020  1586285.0"
      ]
     },
     "execution_count": 125,
     "metadata": {},
     "output_type": "execute_result"
    }
   ],
   "source": [
    "dfnfl2= df.loc[df[\"League\"]==\"NFL\"]\n",
    "dfnfl= dfnfl2.groupby(['Election Year'], as_index = False)['Amount'].sum()\n",
    "dfnfl"
   ]
  },
  {
   "cell_type": "code",
   "execution_count": 126,
   "id": "af6e44d0",
   "metadata": {},
   "outputs": [
    {
     "data": {
      "text/html": [
       "<div>\n",
       "<style scoped>\n",
       "    .dataframe tbody tr th:only-of-type {\n",
       "        vertical-align: middle;\n",
       "    }\n",
       "\n",
       "    .dataframe tbody tr th {\n",
       "        vertical-align: top;\n",
       "    }\n",
       "\n",
       "    .dataframe thead th {\n",
       "        text-align: right;\n",
       "    }\n",
       "</style>\n",
       "<table border=\"1\" class=\"dataframe\">\n",
       "  <thead>\n",
       "    <tr style=\"text-align: right;\">\n",
       "      <th></th>\n",
       "      <th>Election Year</th>\n",
       "      <th>Amount</th>\n",
       "    </tr>\n",
       "  </thead>\n",
       "  <tbody>\n",
       "    <tr>\n",
       "      <th>0</th>\n",
       "      <td>2016</td>\n",
       "      <td>400216.0</td>\n",
       "    </tr>\n",
       "    <tr>\n",
       "      <th>1</th>\n",
       "      <td>2018</td>\n",
       "      <td>626553.0</td>\n",
       "    </tr>\n",
       "    <tr>\n",
       "      <th>2</th>\n",
       "      <td>2020</td>\n",
       "      <td>857173.0</td>\n",
       "    </tr>\n",
       "  </tbody>\n",
       "</table>\n",
       "</div>"
      ],
      "text/plain": [
       "   Election Year    Amount\n",
       "0           2016  400216.0\n",
       "1           2018  626553.0\n",
       "2           2020  857173.0"
      ]
     },
     "execution_count": 126,
     "metadata": {},
     "output_type": "execute_result"
    }
   ],
   "source": [
    "dfwnba2= df.loc[df[\"League\"]==\"WNBA\"]\n",
    "dfwnba= dfwnba2.groupby(['Election Year'], as_index = False)['Amount'].sum()\n",
    "dfwnba"
   ]
  },
  {
   "cell_type": "code",
   "execution_count": 127,
   "id": "43b25ee5",
   "metadata": {},
   "outputs": [
    {
     "data": {
      "text/html": [
       "<div>\n",
       "<style scoped>\n",
       "    .dataframe tbody tr th:only-of-type {\n",
       "        vertical-align: middle;\n",
       "    }\n",
       "\n",
       "    .dataframe tbody tr th {\n",
       "        vertical-align: top;\n",
       "    }\n",
       "\n",
       "    .dataframe thead th {\n",
       "        text-align: right;\n",
       "    }\n",
       "</style>\n",
       "<table border=\"1\" class=\"dataframe\">\n",
       "  <thead>\n",
       "    <tr style=\"text-align: right;\">\n",
       "      <th></th>\n",
       "      <th>Election Year</th>\n",
       "      <th>Amount</th>\n",
       "    </tr>\n",
       "  </thead>\n",
       "  <tbody>\n",
       "    <tr>\n",
       "      <th>0</th>\n",
       "      <td>2016</td>\n",
       "      <td>2024120.0</td>\n",
       "    </tr>\n",
       "    <tr>\n",
       "      <th>1</th>\n",
       "      <td>2018</td>\n",
       "      <td>2614750.0</td>\n",
       "    </tr>\n",
       "    <tr>\n",
       "      <th>2</th>\n",
       "      <td>2020</td>\n",
       "      <td>1786612.0</td>\n",
       "    </tr>\n",
       "  </tbody>\n",
       "</table>\n",
       "</div>"
      ],
      "text/plain": [
       "   Election Year     Amount\n",
       "0           2016  2024120.0\n",
       "1           2018  2614750.0\n",
       "2           2020  1786612.0"
      ]
     },
     "execution_count": 127,
     "metadata": {},
     "output_type": "execute_result"
    }
   ],
   "source": [
    "dfnhl2= df.loc[df[\"League\"]==\"NHL\"]\n",
    "dfnhl= dfnhl2.groupby(['Election Year'], as_index = False)['Amount'].sum()\n",
    "dfnhl"
   ]
  },
  {
   "cell_type": "code",
   "execution_count": 128,
   "id": "18967f78",
   "metadata": {},
   "outputs": [
    {
     "data": {
      "text/html": [
       "<div>\n",
       "<style scoped>\n",
       "    .dataframe tbody tr th:only-of-type {\n",
       "        vertical-align: middle;\n",
       "    }\n",
       "\n",
       "    .dataframe tbody tr th {\n",
       "        vertical-align: top;\n",
       "    }\n",
       "\n",
       "    .dataframe thead th {\n",
       "        text-align: right;\n",
       "    }\n",
       "</style>\n",
       "<table border=\"1\" class=\"dataframe\">\n",
       "  <thead>\n",
       "    <tr style=\"text-align: right;\">\n",
       "      <th></th>\n",
       "      <th>Election Year</th>\n",
       "      <th>Amount</th>\n",
       "    </tr>\n",
       "  </thead>\n",
       "  <tbody>\n",
       "    <tr>\n",
       "      <th>0</th>\n",
       "      <td>2016</td>\n",
       "      <td>370383.0</td>\n",
       "    </tr>\n",
       "    <tr>\n",
       "      <th>1</th>\n",
       "      <td>2018</td>\n",
       "      <td>221040.0</td>\n",
       "    </tr>\n",
       "    <tr>\n",
       "      <th>2</th>\n",
       "      <td>2020</td>\n",
       "      <td>136970.0</td>\n",
       "    </tr>\n",
       "  </tbody>\n",
       "</table>\n",
       "</div>"
      ],
      "text/plain": [
       "   Election Year    Amount\n",
       "0           2016  370383.0\n",
       "1           2018  221040.0\n",
       "2           2020  136970.0"
      ]
     },
     "execution_count": 128,
     "metadata": {},
     "output_type": "execute_result"
    }
   ],
   "source": [
    "dfnas2= df.loc[df[\"League\"]==\"NASCAR\"]\n",
    "dfnas= dfnas2.groupby(['Election Year'], as_index = False)['Amount'].sum()\n",
    "dfnas"
   ]
  },
  {
   "cell_type": "code",
   "execution_count": 140,
   "id": "77ad0069",
   "metadata": {},
   "outputs": [
    {
     "data": {
      "text/plain": [
       "([<matplotlib.axis.XTick at 0x7fe17f4d6b20>,\n",
       "  <matplotlib.axis.XTick at 0x7fe17f4d6400>,\n",
       "  <matplotlib.axis.XTick at 0x7fe1810a4340>],\n",
       " [Text(0, 0, ''), Text(0, 0, ''), Text(0, 0, '')])"
      ]
     },
     "execution_count": 140,
     "metadata": {},
     "output_type": "execute_result"
    },
    {
     "data": {
      "image/png": "[encoded data removed]",
      "text/plain": [
       "<Figure size 864x432 with 6 Axes>"
      ]
     },
     "metadata": {
      "needs_background": "light"
     },
     "output_type": "display_data"
    }
   ],
   "source": [
    "x = dfyr ['Election Year']\n",
    "fig,ax= plt.subplots(1,6,sharex=True, sharey=True,figsize=(12,6))\n",
    "ax[0].bar(dfmlb['Election Year'],dfmlb['Amount'],color =\"cyan\", width=1.5)\n",
    "ax[1].bar(dfnba['Election Year'],dfnba['Amount'],color =\"cyan\", width=1.5)\n",
    "ax[2].bar(dfnfl['Election Year'],dfnfl['Amount'],color =\"cyan\", width=1.5)\n",
    "ax[3].bar(dfnhl['Election Year'],dfnhl['Amount'],color =\"cyan\", width=1.5)\n",
    "ax[4].bar(dfwnba['Election Year'],dfwnba['Amount'],color =\"cyan\", width=1.5)\n",
    "ax[5].bar(dfnas['Election Year'],dfnas['Amount'],color =\"cyan\", width=1.5)\n",
    "ax[0].ticklabel_format(axis=\"y\",style='plain')\n",
    "\n",
    "plt.show\n",
    "plt.sca(ax[0])\n",
    "\n",
    "\n",
    "\n",
    "plt.xticks(np.arange(min(x),max(x)+1, 2.0))\n",
    "# Put percentage change by year in each subsequent bar\n",
    "# above each bar put the percent of all donation for the year\n",
    "# find out how to change annotation text colors\n",
    "# find out how to remove graph lines to have open space for text in last 5 graphs\n"
   ]
  },
  {
   "cell_type": "code",
   "execution_count": null,
   "id": "9f6a365a",
   "metadata": {},
   "outputs": [],
   "source": []
  },
  {
   "cell_type": "code",
   "execution_count": null,
   "id": "617eef6a",
   "metadata": {},
   "outputs": [],
   "source": []
  },
  {
   "cell_type": "code",
   "execution_count": null,
   "id": "c1835cf0",
   "metadata": {},
   "outputs": [],
   "source": [
    "\n",
    "plt.ticklabel_format(axis=\"y\",style='plain')"
   ]
  }
 ],
 "metadata": {
  "kernelspec": {
   "display_name": "Python 3",
   "language": "python",
   "name": "python3"
  },
  "language_info": {
   "codemirror_mode": {
    "name": "ipython",
    "version": 3
   },
   "file_extension": ".py",
   "mimetype": "text/x-python",
   "name": "python",
   "nbconvert_exporter": "python",
   "pygments_lexer": "ipython3",
   "version": "3.8.8"
  }
 },
 "nbformat": 4,
 "nbformat_minor": 5
}

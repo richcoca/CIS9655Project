{
 "cells": [
  {
   "cell_type": "code",
   "execution_count": 400,
   "id": "77027998",
   "metadata": {},
   "outputs": [],
   "source": [
    "#Graph of percentage of total donation given to each party by year "
   ]
  },
  {
   "cell_type": "code",
   "execution_count": 1,
   "id": "ac1f3b18",
   "metadata": {},
   "outputs": [],
   "source": [
    "import pandas as pd\n",
    "import numpy as np\n",
    "import matplotlib.pyplot as plt"
   ]
  },
  {
   "cell_type": "code",
   "execution_count": 2,
   "id": "ba9ad2e3",
   "metadata": {
    "scrolled": false
   },
   "outputs": [
    {
     "data": {
      "text/html": [
       "<div>\n",
       "<style scoped>\n",
       "    .dataframe tbody tr th:only-of-type {\n",
       "        vertical-align: middle;\n",
       "    }\n",
       "\n",
       "    .dataframe tbody tr th {\n",
       "        vertical-align: top;\n",
       "    }\n",
       "\n",
       "    .dataframe thead th {\n",
       "        text-align: right;\n",
       "    }\n",
       "</style>\n",
       "<table border=\"1\" class=\"dataframe\">\n",
       "  <thead>\n",
       "    <tr style=\"text-align: right;\">\n",
       "      <th></th>\n",
       "      <th>Team</th>\n",
       "      <th>League</th>\n",
       "      <th>Recipient</th>\n",
       "      <th>Amount</th>\n",
       "      <th>Election Year</th>\n",
       "      <th>Party</th>\n",
       "    </tr>\n",
       "    <tr>\n",
       "      <th>Owner</th>\n",
       "      <th></th>\n",
       "      <th></th>\n",
       "      <th></th>\n",
       "      <th></th>\n",
       "      <th></th>\n",
       "      <th></th>\n",
       "    </tr>\n",
       "  </thead>\n",
       "  <tbody>\n",
       "    <tr>\n",
       "      <th>Adam Silver</th>\n",
       "      <td>Commissioner</td>\n",
       "      <td>NBA</td>\n",
       "      <td>WRIGHT 2016</td>\n",
       "      <td>4000.0</td>\n",
       "      <td>2016</td>\n",
       "      <td>Democrat</td>\n",
       "    </tr>\n",
       "    <tr>\n",
       "      <th>Adam Silver</th>\n",
       "      <td>Commissioner</td>\n",
       "      <td>NBA</td>\n",
       "      <td>BIDEN FOR PRESIDENT</td>\n",
       "      <td>2800.0</td>\n",
       "      <td>2020</td>\n",
       "      <td>Democrat</td>\n",
       "    </tr>\n",
       "    <tr>\n",
       "      <th>Adam Silver</th>\n",
       "      <td>Commissioner</td>\n",
       "      <td>NBA</td>\n",
       "      <td>CORY 2020</td>\n",
       "      <td>2700.0</td>\n",
       "      <td>2020</td>\n",
       "      <td>Democrat</td>\n",
       "    </tr>\n",
       "    <tr>\n",
       "      <th>Adam Silver</th>\n",
       "      <td>Commissioner</td>\n",
       "      <td>NBA</td>\n",
       "      <td>Kamala Harris for the People</td>\n",
       "      <td>2700.0</td>\n",
       "      <td>2020</td>\n",
       "      <td>Democrat</td>\n",
       "    </tr>\n",
       "    <tr>\n",
       "      <th>Adam Silver</th>\n",
       "      <td>Commissioner</td>\n",
       "      <td>NBA</td>\n",
       "      <td>Win The Era PAC</td>\n",
       "      <td>2700.0</td>\n",
       "      <td>2020</td>\n",
       "      <td>Democrat</td>\n",
       "    </tr>\n",
       "    <tr>\n",
       "      <th>...</th>\n",
       "      <td>...</td>\n",
       "      <td>...</td>\n",
       "      <td>...</td>\n",
       "      <td>...</td>\n",
       "      <td>...</td>\n",
       "      <td>...</td>\n",
       "    </tr>\n",
       "    <tr>\n",
       "      <th>Zygi Wilf</th>\n",
       "      <td>Minnesota Vikings</td>\n",
       "      <td>NFL</td>\n",
       "      <td>ANGIE CRAIG FOR CONGRESS</td>\n",
       "      <td>2700.0</td>\n",
       "      <td>2018</td>\n",
       "      <td>Democrat</td>\n",
       "    </tr>\n",
       "    <tr>\n",
       "      <th>Zygi Wilf</th>\n",
       "      <td>Minnesota Vikings</td>\n",
       "      <td>NFL</td>\n",
       "      <td>DEAN PHILLIPS FOR CONGRESS</td>\n",
       "      <td>2700.0</td>\n",
       "      <td>2018</td>\n",
       "      <td>Democrat</td>\n",
       "    </tr>\n",
       "    <tr>\n",
       "      <th>Zygi Wilf</th>\n",
       "      <td>Minnesota Vikings</td>\n",
       "      <td>NFL</td>\n",
       "      <td>MENENDEZ FOR SENATE</td>\n",
       "      <td>2700.0</td>\n",
       "      <td>2018</td>\n",
       "      <td>Democrat</td>\n",
       "    </tr>\n",
       "    <tr>\n",
       "      <th>Zygi Wilf</th>\n",
       "      <td>Minnesota Vikings</td>\n",
       "      <td>NFL</td>\n",
       "      <td>TINA SMITH FOR MINNESOTA</td>\n",
       "      <td>2700.0</td>\n",
       "      <td>2018</td>\n",
       "      <td>Democrat</td>\n",
       "    </tr>\n",
       "    <tr>\n",
       "      <th>Zygi Wilf</th>\n",
       "      <td>Minnesota Vikings</td>\n",
       "      <td>NFL</td>\n",
       "      <td>TOM MALINOWSKI FOR CONGRESS</td>\n",
       "      <td>2700.0</td>\n",
       "      <td>2018</td>\n",
       "      <td>Democrat</td>\n",
       "    </tr>\n",
       "  </tbody>\n",
       "</table>\n",
       "<p>2798 rows × 6 columns</p>\n",
       "</div>"
      ],
      "text/plain": [
       "                          Team League                     Recipient  Amount  \\\n",
       "Owner                                                                         \n",
       "Adam Silver       Commissioner    NBA                   WRIGHT 2016  4000.0   \n",
       "Adam Silver       Commissioner    NBA           BIDEN FOR PRESIDENT  2800.0   \n",
       "Adam Silver       Commissioner    NBA                     CORY 2020  2700.0   \n",
       "Adam Silver       Commissioner    NBA  Kamala Harris for the People  2700.0   \n",
       "Adam Silver       Commissioner    NBA               Win The Era PAC  2700.0   \n",
       "...                        ...    ...                           ...     ...   \n",
       "Zygi Wilf    Minnesota Vikings    NFL      ANGIE CRAIG FOR CONGRESS  2700.0   \n",
       "Zygi Wilf    Minnesota Vikings    NFL    DEAN PHILLIPS FOR CONGRESS  2700.0   \n",
       "Zygi Wilf    Minnesota Vikings    NFL           MENENDEZ FOR SENATE  2700.0   \n",
       "Zygi Wilf    Minnesota Vikings    NFL      TINA SMITH FOR MINNESOTA  2700.0   \n",
       "Zygi Wilf    Minnesota Vikings    NFL   TOM MALINOWSKI FOR CONGRESS  2700.0   \n",
       "\n",
       "             Election Year     Party  \n",
       "Owner                                 \n",
       "Adam Silver           2016  Democrat  \n",
       "Adam Silver           2020  Democrat  \n",
       "Adam Silver           2020  Democrat  \n",
       "Adam Silver           2020  Democrat  \n",
       "Adam Silver           2020  Democrat  \n",
       "...                    ...       ...  \n",
       "Zygi Wilf             2018  Democrat  \n",
       "Zygi Wilf             2018  Democrat  \n",
       "Zygi Wilf             2018  Democrat  \n",
       "Zygi Wilf             2018  Democrat  \n",
       "Zygi Wilf             2018  Democrat  \n",
       "\n",
       "[2798 rows x 6 columns]"
      ]
     },
     "execution_count": 2,
     "metadata": {},
     "output_type": "execute_result"
    }
   ],
   "source": [
    "file ='spd.csv'\n",
    "df = pd.read_csv(file, index_col=0, parse_dates=True)\n",
    "#df.head()\n",
    "#df.info()\n",
    "df"
   ]
  },
  {
   "cell_type": "code",
   "execution_count": 3,
   "id": "cfac5cae",
   "metadata": {},
   "outputs": [
    {
     "data": {
      "text/html": [
       "<div>\n",
       "<style scoped>\n",
       "    .dataframe tbody tr th:only-of-type {\n",
       "        vertical-align: middle;\n",
       "    }\n",
       "\n",
       "    .dataframe tbody tr th {\n",
       "        vertical-align: top;\n",
       "    }\n",
       "\n",
       "    .dataframe thead th {\n",
       "        text-align: right;\n",
       "    }\n",
       "</style>\n",
       "<table border=\"1\" class=\"dataframe\">\n",
       "  <thead>\n",
       "    <tr style=\"text-align: right;\">\n",
       "      <th></th>\n",
       "      <th>Election Year</th>\n",
       "      <th>Party</th>\n",
       "      <th>Amount</th>\n",
       "    </tr>\n",
       "  </thead>\n",
       "  <tbody>\n",
       "    <tr>\n",
       "      <th>0</th>\n",
       "      <td>2016</td>\n",
       "      <td>Bipartisan</td>\n",
       "      <td>578050.0</td>\n",
       "    </tr>\n",
       "    <tr>\n",
       "      <th>1</th>\n",
       "      <td>2016</td>\n",
       "      <td>Bipartisan, but mostly Democratic</td>\n",
       "      <td>2000.0</td>\n",
       "    </tr>\n",
       "    <tr>\n",
       "      <th>2</th>\n",
       "      <td>2016</td>\n",
       "      <td>Bipartisan, but mostly Republican</td>\n",
       "      <td>83638.0</td>\n",
       "    </tr>\n",
       "    <tr>\n",
       "      <th>3</th>\n",
       "      <td>2016</td>\n",
       "      <td>Democrat</td>\n",
       "      <td>4065094.0</td>\n",
       "    </tr>\n",
       "    <tr>\n",
       "      <th>4</th>\n",
       "      <td>2016</td>\n",
       "      <td>Independent</td>\n",
       "      <td>2700.0</td>\n",
       "    </tr>\n",
       "    <tr>\n",
       "      <th>5</th>\n",
       "      <td>2016</td>\n",
       "      <td>Republican</td>\n",
       "      <td>12940514.0</td>\n",
       "    </tr>\n",
       "    <tr>\n",
       "      <th>6</th>\n",
       "      <td>2018</td>\n",
       "      <td>Bipartisan</td>\n",
       "      <td>540083.0</td>\n",
       "    </tr>\n",
       "    <tr>\n",
       "      <th>7</th>\n",
       "      <td>2018</td>\n",
       "      <td>Bipartisan, but mostly Democratic</td>\n",
       "      <td>6000.0</td>\n",
       "    </tr>\n",
       "    <tr>\n",
       "      <th>8</th>\n",
       "      <td>2018</td>\n",
       "      <td>Bipartisan, but mostly Republican</td>\n",
       "      <td>99103.0</td>\n",
       "    </tr>\n",
       "    <tr>\n",
       "      <th>9</th>\n",
       "      <td>2018</td>\n",
       "      <td>Democrat</td>\n",
       "      <td>4174212.0</td>\n",
       "    </tr>\n",
       "    <tr>\n",
       "      <th>10</th>\n",
       "      <td>2018</td>\n",
       "      <td>Independent</td>\n",
       "      <td>10800.0</td>\n",
       "    </tr>\n",
       "    <tr>\n",
       "      <th>11</th>\n",
       "      <td>2018</td>\n",
       "      <td>Republican</td>\n",
       "      <td>11282570.0</td>\n",
       "    </tr>\n",
       "    <tr>\n",
       "      <th>12</th>\n",
       "      <td>2020</td>\n",
       "      <td>Bipartisan</td>\n",
       "      <td>356566.0</td>\n",
       "    </tr>\n",
       "    <tr>\n",
       "      <th>13</th>\n",
       "      <td>2020</td>\n",
       "      <td>Bipartisan, but mostly Democratic</td>\n",
       "      <td>2800.0</td>\n",
       "    </tr>\n",
       "    <tr>\n",
       "      <th>14</th>\n",
       "      <td>2020</td>\n",
       "      <td>Bipartisan, but mostly Republican</td>\n",
       "      <td>88352.0</td>\n",
       "    </tr>\n",
       "    <tr>\n",
       "      <th>15</th>\n",
       "      <td>2020</td>\n",
       "      <td>Democrat</td>\n",
       "      <td>1874333.0</td>\n",
       "    </tr>\n",
       "    <tr>\n",
       "      <th>16</th>\n",
       "      <td>2020</td>\n",
       "      <td>Republican</td>\n",
       "      <td>10022932.0</td>\n",
       "    </tr>\n",
       "  </tbody>\n",
       "</table>\n",
       "</div>"
      ],
      "text/plain": [
       "    Election Year                              Party      Amount\n",
       "0            2016                         Bipartisan    578050.0\n",
       "1            2016  Bipartisan, but mostly Democratic      2000.0\n",
       "2            2016  Bipartisan, but mostly Republican     83638.0\n",
       "3            2016                           Democrat   4065094.0\n",
       "4            2016                        Independent      2700.0\n",
       "5            2016                         Republican  12940514.0\n",
       "6            2018                         Bipartisan    540083.0\n",
       "7            2018  Bipartisan, but mostly Democratic      6000.0\n",
       "8            2018  Bipartisan, but mostly Republican     99103.0\n",
       "9            2018                           Democrat   4174212.0\n",
       "10           2018                        Independent     10800.0\n",
       "11           2018                         Republican  11282570.0\n",
       "12           2020                         Bipartisan    356566.0\n",
       "13           2020  Bipartisan, but mostly Democratic      2800.0\n",
       "14           2020  Bipartisan, but mostly Republican     88352.0\n",
       "15           2020                           Democrat   1874333.0\n",
       "16           2020                         Republican  10022932.0"
      ]
     },
     "execution_count": 3,
     "metadata": {},
     "output_type": "execute_result"
    }
   ],
   "source": [
    "dfgroup = df.groupby(['Election Year', 'Party'], as_index=False)['Amount'].sum()\n",
    "dfgroup"
   ]
  },
  {
   "cell_type": "code",
   "execution_count": 6,
   "id": "425303f1",
   "metadata": {},
   "outputs": [
    {
     "data": {
      "text/html": [
       "<div>\n",
       "<style scoped>\n",
       "    .dataframe tbody tr th:only-of-type {\n",
       "        vertical-align: middle;\n",
       "    }\n",
       "\n",
       "    .dataframe tbody tr th {\n",
       "        vertical-align: top;\n",
       "    }\n",
       "\n",
       "    .dataframe thead th {\n",
       "        text-align: right;\n",
       "    }\n",
       "</style>\n",
       "<table border=\"1\" class=\"dataframe\">\n",
       "  <thead>\n",
       "    <tr style=\"text-align: right;\">\n",
       "      <th></th>\n",
       "      <th>Election Year</th>\n",
       "      <th>Party</th>\n",
       "      <th>Amount</th>\n",
       "    </tr>\n",
       "  </thead>\n",
       "  <tbody>\n",
       "    <tr>\n",
       "      <th>5</th>\n",
       "      <td>2016</td>\n",
       "      <td>Republican</td>\n",
       "      <td>12940514.0</td>\n",
       "    </tr>\n",
       "    <tr>\n",
       "      <th>11</th>\n",
       "      <td>2018</td>\n",
       "      <td>Republican</td>\n",
       "      <td>11282570.0</td>\n",
       "    </tr>\n",
       "    <tr>\n",
       "      <th>16</th>\n",
       "      <td>2020</td>\n",
       "      <td>Republican</td>\n",
       "      <td>10022932.0</td>\n",
       "    </tr>\n",
       "  </tbody>\n",
       "</table>\n",
       "</div>"
      ],
      "text/plain": [
       "    Election Year       Party      Amount\n",
       "5            2016  Republican  12940514.0\n",
       "11           2018  Republican  11282570.0\n",
       "16           2020  Republican  10022932.0"
      ]
     },
     "execution_count": 6,
     "metadata": {},
     "output_type": "execute_result"
    }
   ],
   "source": [
    "df12=dfgroup.loc[dfgroup['Party'] == 'Republican']\n",
    "df12"
   ]
  },
  {
   "cell_type": "code",
   "execution_count": 8,
   "id": "70cf92d1",
   "metadata": {},
   "outputs": [
    {
     "data": {
      "text/html": [
       "<div>\n",
       "<style scoped>\n",
       "    .dataframe tbody tr th:only-of-type {\n",
       "        vertical-align: middle;\n",
       "    }\n",
       "\n",
       "    .dataframe tbody tr th {\n",
       "        vertical-align: top;\n",
       "    }\n",
       "\n",
       "    .dataframe thead th {\n",
       "        text-align: right;\n",
       "    }\n",
       "</style>\n",
       "<table border=\"1\" class=\"dataframe\">\n",
       "  <thead>\n",
       "    <tr style=\"text-align: right;\">\n",
       "      <th></th>\n",
       "      <th>Election Year</th>\n",
       "      <th>Party</th>\n",
       "      <th>Amount</th>\n",
       "    </tr>\n",
       "  </thead>\n",
       "  <tbody>\n",
       "    <tr>\n",
       "      <th>3</th>\n",
       "      <td>2016</td>\n",
       "      <td>Democrat</td>\n",
       "      <td>4065094.0</td>\n",
       "    </tr>\n",
       "    <tr>\n",
       "      <th>9</th>\n",
       "      <td>2018</td>\n",
       "      <td>Democrat</td>\n",
       "      <td>4174212.0</td>\n",
       "    </tr>\n",
       "    <tr>\n",
       "      <th>15</th>\n",
       "      <td>2020</td>\n",
       "      <td>Democrat</td>\n",
       "      <td>1874333.0</td>\n",
       "    </tr>\n",
       "  </tbody>\n",
       "</table>\n",
       "</div>"
      ],
      "text/plain": [
       "    Election Year     Party     Amount\n",
       "3            2016  Democrat  4065094.0\n",
       "9            2018  Democrat  4174212.0\n",
       "15           2020  Democrat  1874333.0"
      ]
     },
     "execution_count": 8,
     "metadata": {},
     "output_type": "execute_result"
    }
   ],
   "source": [
    "df123=dfgroup.loc[dfgroup['Party'] == 'Democrat']\n",
    "df123"
   ]
  },
  {
   "cell_type": "code",
   "execution_count": 9,
   "id": "83ce72e1",
   "metadata": {
    "scrolled": true
   },
   "outputs": [
    {
     "data": {
      "text/plain": [
       "46129747.0"
      ]
     },
     "execution_count": 9,
     "metadata": {},
     "output_type": "execute_result"
    }
   ],
   "source": [
    "#Total Sum of all 3 years \n",
    "df_sum = dfgroup[\"Amount\"].sum()\n",
    "df_sum"
   ]
  },
  {
   "cell_type": "code",
   "execution_count": 10,
   "id": "02edb5a8",
   "metadata": {},
   "outputs": [
    {
     "data": {
      "text/plain": [
       "73.22610303895497"
      ]
     },
     "execution_count": 10,
     "metadata": {},
     "output_type": "execute_result"
    }
   ],
   "source": [
    "#Calculations for Percentage of Donations By Party For a Specific Year\n",
    "#Republicans2016\n",
    "dfx = dfgroup.loc[(dfgroup[\"Election Year\"]) == 2016] \n",
    "dfy = dfx[\"Amount\"].sum() #Total Amount Donated in only 2016\n",
    "dfz = dfx.loc[(dfx[\"Party\"]) == \"Republican\"] [\"Amount\"].sum()\n",
    "dfz #dfz.info()#dfz[\"Amount\"]\n",
    "r2016 = dfz/dfy*100 #Percent=TotalPartyAmount/TotalAmt2020\n",
    "r2016\n"
   ]
  },
  {
   "cell_type": "code",
   "execution_count": 11,
   "id": "03a17bb9",
   "metadata": {},
   "outputs": [
    {
     "data": {
      "text/plain": [
       "23.003026935949965"
      ]
     },
     "execution_count": 11,
     "metadata": {},
     "output_type": "execute_result"
    }
   ],
   "source": [
    "#Democrat-2016\n",
    "dfg = dfgroup.loc[(dfgroup[\"Election Year\"]) == 2016] \n",
    "dfh = dfg[\"Amount\"].sum()\n",
    "dfi = dfg.loc[(dfg[\"Party\"]) == \"Democrat\"] [\"Amount\"].sum()\n",
    "dfi \n",
    "d2016 = dfi/dfh * 100\n",
    "d2016"
   ]
  },
  {
   "cell_type": "code",
   "execution_count": 12,
   "id": "dd06752f",
   "metadata": {},
   "outputs": [
    {
     "data": {
      "text/plain": [
       "70.02254361261826"
      ]
     },
     "execution_count": 12,
     "metadata": {},
     "output_type": "execute_result"
    }
   ],
   "source": [
    "#Republicans-2018\n",
    "dfa = dfgroup.loc[(dfgroup[\"Election Year\"]) == 2018] \n",
    "dfb = dfa[\"Amount\"].sum()\n",
    "dfc = dfa.loc[(dfa[\"Party\"]) == \"Republican\"] [\"Amount\"].sum()\n",
    "dfc \n",
    "r2018 = dfc/dfb * 100\n",
    "r2018"
   ]
  },
  {
   "cell_type": "code",
   "execution_count": 13,
   "id": "28d5819e",
   "metadata": {},
   "outputs": [
    {
     "data": {
      "text/plain": [
       "25.906237835733748"
      ]
     },
     "execution_count": 13,
     "metadata": {},
     "output_type": "execute_result"
    }
   ],
   "source": [
    "#Democrat-2018\n",
    "dfj = dfgroup.loc[(dfgroup[\"Election Year\"]) == 2018] \n",
    "dfk = dfj[\"Amount\"].sum()\n",
    "dfl = dfj.loc[(dfj[\"Party\"]) == \"Democrat\"] [\"Amount\"].sum()\n",
    "dfl \n",
    "d2018 = dfl/dfk * 100\n",
    "d2018"
   ]
  },
  {
   "cell_type": "code",
   "execution_count": 14,
   "id": "bc0409ba",
   "metadata": {},
   "outputs": [
    {
     "data": {
      "text/plain": [
       "81.19032646703523"
      ]
     },
     "execution_count": 14,
     "metadata": {},
     "output_type": "execute_result"
    }
   ],
   "source": [
    "#Republicans-2020\n",
    "dfd = dfgroup.loc[(dfgroup[\"Election Year\"]) == 2020] \n",
    "dfe = dfd[\"Amount\"].sum()\n",
    "dff = dfd.loc[(dfd[\"Party\"]) == \"Republican\"] [\"Amount\"].sum()\n",
    "dff \n",
    "r2020 = dff/dfe*100\n",
    "r2020 "
   ]
  },
  {
   "cell_type": "code",
   "execution_count": 15,
   "id": "b519b036",
   "metadata": {},
   "outputs": [
    {
     "data": {
      "text/plain": [
       "15.182953269356467"
      ]
     },
     "execution_count": 15,
     "metadata": {},
     "output_type": "execute_result"
    }
   ],
   "source": [
    "#Democrat-2020\n",
    "dfm = dfgroup.loc[(dfgroup[\"Election Year\"]) == 2020] \n",
    "dfn = dfm[\"Amount\"].sum()\n",
    "dfo = dfm.loc[(dfm[\"Party\"]) == \"Democrat\"] [\"Amount\"].sum()\n",
    "dfo \n",
    "d2020 = dfo/dfn * 100\n",
    "d2020"
   ]
  },
  {
   "cell_type": "markdown",
   "id": "37f81482",
   "metadata": {},
   "source": [
    "## Political Donations by Sports Owners"
   ]
  },
  {
   "cell_type": "code",
   "execution_count": 36,
   "id": "43e7c91e",
   "metadata": {
    "scrolled": true
   },
   "outputs": [
    {
     "data": {
      "image/png": "[encoded data removed]",
      "text/plain": [
       "<Figure size 540x360 with 1 Axes>"
      ]
     },
     "metadata": {
      "needs_background": "light"
     },
     "output_type": "display_data"
    }
   ],
   "source": [
    "#Main Stacked bargraph\n",
    "#DataFrame for Republican\n",
    "data = { 'year': ['2016','2018','2020'], 'values' :[r2016,r2018,r2020]}\n",
    "info = pd.DataFrame(data)\n",
    "info\n",
    "#DataFrame for Democrat\n",
    "data0 = { 'year': ['2016','2018','2020'], 'values' :[d2016,d2018,d2020]}\n",
    "info0 = pd.DataFrame(data0)\n",
    "info0\n",
    "\n",
    "labels =['2016','2018','2020']\n",
    "width = 0.80\n",
    "fig, ax = plt.subplots()\n",
    "ax.bar(data ['year'], data ['values'],width, label = 'Republican',color = '#DE0100')\n",
    "ax.bar(data0 ['year'], data0 ['values'],width, label = 'Democrat',color = '#1405BD', bottom = data['values'])\n",
    "\n",
    "#label percentages on bars\n",
    "for p in ax.patches:\n",
    "        width, height = p.get_width(), p.get_height() \n",
    "        x, y = p.get_xy() \n",
    "        ax.text(x+width/2, \n",
    "                y+height/2, \n",
    "                '{:.0f} %'.format(height), \n",
    "                horizontalalignment='center', \n",
    "                verticalalignment='center',\n",
    "                color = '#FFFFFF')\n",
    "        \n",
    "# grid lines\n",
    "ax.set_axisbelow(True)\n",
    "ax.yaxis.grid(color='black', linestyle='dashed', alpha=0.2)\n",
    "        \n",
    "#labels\n",
    "#plt.xticks(rotation=30, horizontalalignment=\"center\")\n",
    "ax.set_xlabel('Year')\n",
    "ax.set_ylabel('Amount Donated (%)')\n",
    "ax.set_title('Political Donations by Sports Owners',size = 15, fontweight=\"bold\")\n",
    "ax.legend(bbox_to_anchor = (1.05,1.0),loc = 'upper left')\n",
    "fig.set_dpi(90)\n",
    "plt.show()"
   ]
  },
  {
   "cell_type": "markdown",
   "id": "1120061b",
   "metadata": {},
   "source": [
    "#subplots with different leagues\n",
    "#How much donations go into each league from each party"
   ]
  },
  {
   "cell_type": "code",
   "execution_count": 17,
   "id": "5a3e1d26",
   "metadata": {},
   "outputs": [],
   "source": [
    "dfgroup2 = df.groupby(['League', 'Party'], as_index=False)['Amount'].sum()\n",
    "#dfgroup2"
   ]
  },
  {
   "cell_type": "code",
   "execution_count": 18,
   "id": "1040bd2d",
   "metadata": {},
   "outputs": [
    {
     "data": {
      "text/plain": [
       "22.939567289448394"
      ]
     },
     "execution_count": 18,
     "metadata": {},
     "output_type": "execute_result"
    }
   ],
   "source": [
    "#MLB-Democrat\n",
    "MLB= dfgroup2.loc[(dfgroup2[\"League\"]) == 'MLB'] \n",
    "MLB2 = MLB[\"Amount\"].sum()\n",
    "MLB3 = MLB.loc[(MLB[\"Party\"]) == \"Democrat\"] [\"Amount\"].sum()\n",
    "MLB3\n",
    "New_MLB = MLB3/MLB2 * 100\n",
    "New_MLB"
   ]
  },
  {
   "cell_type": "code",
   "execution_count": 19,
   "id": "b6d35ec9",
   "metadata": {},
   "outputs": [
    {
     "data": {
      "text/plain": [
       "17.750203444318853"
      ]
     },
     "execution_count": 19,
     "metadata": {},
     "output_type": "execute_result"
    }
   ],
   "source": [
    "#NBA-Democrat\n",
    "NBA= dfgroup2.loc[(dfgroup2[\"League\"]) == 'NBA'] \n",
    "NBA2 = NBA[\"Amount\"].sum()\n",
    "NBA3 = NBA.loc[(NBA[\"Party\"]) == \"Democrat\"] [\"Amount\"].sum()\n",
    "NBA3\n",
    "New_NBA = NBA3/NBA2 * 100\n",
    "New_NBA"
   ]
  },
  {
   "cell_type": "code",
   "execution_count": 20,
   "id": "4ab508cc",
   "metadata": {},
   "outputs": [
    {
     "data": {
      "text/plain": [
       "10.283028770133507"
      ]
     },
     "execution_count": 20,
     "metadata": {},
     "output_type": "execute_result"
    }
   ],
   "source": [
    "#NFL-Democrat\n",
    "NFL= dfgroup2.loc[(dfgroup2[\"League\"]) == 'NFL'] \n",
    "NFL2 = NFL[\"Amount\"].sum()\n",
    "NFL3 = NFL.loc[(NFL[\"Party\"]) == \"Democrat\"] [\"Amount\"].sum()\n",
    "NFL3\n",
    "New_NFL = NFL3/NFL2 * 100\n",
    "New_NFL"
   ]
  },
  {
   "cell_type": "code",
   "execution_count": 21,
   "id": "9144132a",
   "metadata": {},
   "outputs": [
    {
     "data": {
      "text/plain": [
       "18.512229899640214"
      ]
     },
     "execution_count": 21,
     "metadata": {},
     "output_type": "execute_result"
    }
   ],
   "source": [
    "#NHL-Democrat\n",
    "NHL = dfgroup2.loc[(dfgroup2[\"League\"]) == 'NHL'] \n",
    "NHL2 = NHL[\"Amount\"].sum()\n",
    "NHL3 = NHL.loc[(NHL[\"Party\"]) == \"Democrat\"] [\"Amount\"].sum()\n",
    "NHL3\n",
    "New_NHL = NHL3/NHL2 * 100\n",
    "New_NHL"
   ]
  },
  {
   "cell_type": "code",
   "execution_count": 22,
   "id": "f90e913c",
   "metadata": {},
   "outputs": [
    {
     "data": {
      "text/plain": [
       "12.90278736890662"
      ]
     },
     "execution_count": 22,
     "metadata": {},
     "output_type": "execute_result"
    }
   ],
   "source": [
    "#NASCAR-Democrat\n",
    "NASCAR = dfgroup2.loc[(dfgroup2[\"League\"]) == 'NASCAR'] \n",
    "NASCAR2 = NASCAR[\"Amount\"].sum()\n",
    "NASCAR3 = NASCAR.loc[(NASCAR[\"Party\"]) == \"Democrat\"] [\"Amount\"].sum()\n",
    "NASCAR3\n",
    "New_NASCAR = NASCAR3/NASCAR2 * 100\n",
    "New_NASCAR"
   ]
  },
  {
   "cell_type": "code",
   "execution_count": 23,
   "id": "365291b0",
   "metadata": {},
   "outputs": [
    {
     "data": {
      "text/plain": [
       "43.77204818407361"
      ]
     },
     "execution_count": 23,
     "metadata": {},
     "output_type": "execute_result"
    }
   ],
   "source": [
    "#WNBA-Democrat\n",
    "WNBA = dfgroup2.loc[(dfgroup2[\"League\"]) == 'WNBA'] \n",
    "WNBA2 = WNBA[\"Amount\"].sum()\n",
    "WNBA3 = WNBA.loc[(WNBA[\"Party\"]) == \"Democrat\"] [\"Amount\"].sum()\n",
    "WNBA3\n",
    "New_WNBA = WNBA3/WNBA2 * 100\n",
    "New_WNBA"
   ]
  },
  {
   "cell_type": "code",
   "execution_count": 24,
   "id": "c7597ea7",
   "metadata": {},
   "outputs": [
    {
     "data": {
      "text/plain": [
       "74.89147724626115"
      ]
     },
     "execution_count": 24,
     "metadata": {},
     "output_type": "execute_result"
    }
   ],
   "source": [
    "#MLB-Republican\n",
    "RMLB= dfgroup2.loc[(dfgroup2[\"League\"]) == 'MLB'] \n",
    "RMLB2 = RMLB[\"Amount\"].sum()\n",
    "RMLB3 = RMLB.loc[(RMLB[\"Party\"]) == \"Republican\"] [\"Amount\"].sum()\n",
    "RMLB3\n",
    "New_RMLB = RMLB3/RMLB2 * 100\n",
    "New_RMLB"
   ]
  },
  {
   "cell_type": "code",
   "execution_count": 25,
   "id": "a7440c62",
   "metadata": {},
   "outputs": [
    {
     "data": {
      "text/plain": [
       "80.36415879407774"
      ]
     },
     "execution_count": 25,
     "metadata": {},
     "output_type": "execute_result"
    }
   ],
   "source": [
    "#NBA-Republican\n",
    "RNBA = dfgroup2.loc[(dfgroup2[\"League\"]) == 'NBA'] \n",
    "RNBA2 = RNBA[\"Amount\"].sum()\n",
    "RNBA3 = RNBA.loc[(RNBA[\"Party\"]) == \"Republican\"] [\"Amount\"].sum()\n",
    "RNBA3\n",
    "New_RNBA = RNBA3/RNBA2 * 100\n",
    "New_RNBA"
   ]
  },
  {
   "cell_type": "code",
   "execution_count": 26,
   "id": "4db9a9c0",
   "metadata": {},
   "outputs": [
    {
     "data": {
      "text/plain": [
       "78.23617445596784"
      ]
     },
     "execution_count": 26,
     "metadata": {},
     "output_type": "execute_result"
    }
   ],
   "source": [
    "#NFL-Republican\n",
    "RNFL= dfgroup2.loc[(dfgroup2[\"League\"]) == 'NFL'] \n",
    "RNFL2 = RNFL[\"Amount\"].sum()\n",
    "RNFL3 = RNFL.loc[(RNFL[\"Party\"]) == \"Republican\"] [\"Amount\"].sum()\n",
    "RNFL3\n",
    "New_RNFL = RNFL3/RNFL2 * 100\n",
    "New_RNFL"
   ]
  },
  {
   "cell_type": "code",
   "execution_count": 27,
   "id": "62d2eefd",
   "metadata": {},
   "outputs": [
    {
     "data": {
      "text/plain": [
       "77.97105337778551"
      ]
     },
     "execution_count": 27,
     "metadata": {},
     "output_type": "execute_result"
    }
   ],
   "source": [
    "#NHL-Republican\n",
    "RNHL = dfgroup2.loc[(dfgroup2[\"League\"]) == 'NHL'] \n",
    "RNHL2 = RNHL[\"Amount\"].sum()\n",
    "RNHL3 = RNHL.loc[(RNHL[\"Party\"]) == \"Republican\"] [\"Amount\"].sum()\n",
    "RNHL3\n",
    "New_RNHL = RNHL3/RNHL2 * 100\n",
    "New_RNHL"
   ]
  },
  {
   "cell_type": "code",
   "execution_count": 28,
   "id": "bb6420e7",
   "metadata": {},
   "outputs": [
    {
     "data": {
      "text/plain": [
       "78.72261265553074"
      ]
     },
     "execution_count": 28,
     "metadata": {},
     "output_type": "execute_result"
    }
   ],
   "source": [
    "#NASCAR-Republican\n",
    "RNASCAR = dfgroup2.loc[(dfgroup2[\"League\"]) == 'NASCAR'] \n",
    "RNASCAR2 = RNASCAR[\"Amount\"].sum()\n",
    "RNASCAR3 = RNASCAR.loc[(RNASCAR[\"Party\"]) == \"Republican\"] [\"Amount\"].sum()\n",
    "RNASCAR3\n",
    "New_RNASCAR = RNASCAR3/RNASCAR2 * 100\n",
    "New_RNASCAR"
   ]
  },
  {
   "cell_type": "code",
   "execution_count": 29,
   "id": "dc31298f",
   "metadata": {},
   "outputs": [
    {
     "data": {
      "text/plain": [
       "51.67138903426963"
      ]
     },
     "execution_count": 29,
     "metadata": {},
     "output_type": "execute_result"
    }
   ],
   "source": [
    "#WNBA-Republican\n",
    "RWNBA = dfgroup2.loc[(dfgroup2[\"League\"]) == 'WNBA'] \n",
    "RWNBA2 = RWNBA[\"Amount\"].sum()\n",
    "RWNBA3 = RWNBA.loc[(RWNBA[\"Party\"]) == \"Republican\"] [\"Amount\"].sum()\n",
    "RWNBA3\n",
    "New_RWNBA = RWNBA3/RWNBA2 * 100\n",
    "New_RWNBA"
   ]
  },
  {
   "cell_type": "markdown",
   "id": "75b0646b",
   "metadata": {},
   "source": [
    "### Leagues are mostly supported by which political party- R/D ?"
   ]
  },
  {
   "cell_type": "code",
   "execution_count": 75,
   "id": "c84456f0",
   "metadata": {},
   "outputs": [
    {
     "data": {
      "image/png": "[encoded data removed]",
      "text/plain": [
       "<Figure size 600x400 with 6 Axes>"
      ]
     },
     "metadata": {
      "needs_background": "light"
     },
     "output_type": "display_data"
    }
   ],
   "source": [
    "#DataFrame for  League-MLB\n",
    "data1 = {'party':['Democrat','Republican', ], 'values': [New_MLB, New_RMLB]}\n",
    "info1 = pd.DataFrame(data1)\n",
    "info1\n",
    "data2 = {'party':['Democrat','Republican', ], 'values': [New_NBA, New_RNBA]}\n",
    "info2 = pd.DataFrame(data2)\n",
    "info2\n",
    "data3 = {'party':['Democrat','Republican', ], 'values': [New_NFL, New_RNFL]}\n",
    "info3 = pd.DataFrame(data3)\n",
    "info3\n",
    "data4 = {'party':['Democrat','Republican', ], 'values': [New_NHL, New_RNHL]}\n",
    "info4 = pd.DataFrame(data4)\n",
    "info4\n",
    "data5 = {'party':['Democrat','Republican', ], 'values': [New_NASCAR, New_RNASCAR]}\n",
    "info5 = pd.DataFrame(data5)\n",
    "info5\n",
    "data6 = {'party':['Democrat','Republican', ], 'values': [New_WNBA, New_RWNBA]}\n",
    "info6 = pd.DataFrame(data6)\n",
    "info6\n",
    "\n",
    "fig, ax = plt.subplots(3,2)\n",
    "ax[0,0].bar(info1 ['party'], info1 ['values'], label = ['Democrat','Republican'],color = ['#1405BD', '#DE0100'])\n",
    "ax[0,1].bar(info2 ['party'], info2 ['values'], label = ['Democrat','Republican'],color = ['#1405BD', '#DE0100'])\n",
    "ax[1,0].bar(info3 ['party'], info3 ['values'], label = ['Democrat','Republican'],color = ['#1405BD', '#DE0100'])\n",
    "ax[1,1].bar(info4 ['party'], info4 ['values'], label = ['Democrat','Republican'],color = ['#1405BD', '#DE0100'])\n",
    "ax[2,0].bar(info5 ['party'], info5 ['values'], label = ['Democrat','Republican'],color = ['#1405BD', '#DE0100'])\n",
    "ax[2,1].bar(info6 ['party'], info6 ['values'], label = ['Democrat','Republican'],color = ['#1405BD', '#DE0100'])\n",
    "\n",
    "fig.suptitle('Donations Per League (%)', size = 15,  fontweight=\"bold\")\n",
    "ax[0, 0].title.set_text('MLB')\n",
    "ax[0, 1].title.set_text('NBA')\n",
    "ax[1, 0].title.set_text('NFL')\n",
    "ax[1, 1].title.set_text('NHL')\n",
    "ax[2, 0].title.set_text('NASCAR')\n",
    "ax[2, 1].title.set_text('WNBA')\n",
    "\n",
    "ax[0, 0].set_yticks([0,25,50,75])\n",
    "ax[0, 1].set_yticks([0,25,50,75])\n",
    "ax[1, 0].set_yticks([0,25,50,75])\n",
    "ax[1, 1].set_yticks([0,25,50,75])\n",
    "ax[2, 0].set_yticks([0,25,50,75])\n",
    "ax[2, 1].set_yticks([0,25,50,75])\n",
    "fig.set_dpi(100)\n",
    "#fig.tight_layout()\n",
    "plt.subplots_adjust(top = 0.85, bottom=0.08, hspace=0.8, wspace=0.20)\n",
    "plt.show()"
   ]
  },
  {
   "cell_type": "code",
   "execution_count": null,
   "id": "2fecbaf6",
   "metadata": {},
   "outputs": [],
   "source": []
  }
 ],
 "metadata": {
  "kernelspec": {
   "display_name": "Python 3",
   "language": "python",
   "name": "python3"
  },
  "language_info": {
   "codemirror_mode": {
    "name": "ipython",
    "version": 3
   },
   "file_extension": ".py",
   "mimetype": "text/x-python",
   "name": "python",
   "nbconvert_exporter": "python",
   "pygments_lexer": "ipython3",
   "version": "3.8.8"
  }
 },
 "nbformat": 4,
 "nbformat_minor": 5
}

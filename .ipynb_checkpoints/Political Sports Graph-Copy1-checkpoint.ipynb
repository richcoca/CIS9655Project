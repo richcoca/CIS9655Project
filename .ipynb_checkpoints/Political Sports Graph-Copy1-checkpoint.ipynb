{
 "cells": [
  {
   "cell_type": "code",
   "execution_count": 122,
   "id": "77027998",
   "metadata": {},
   "outputs": [],
   "source": [
    "#Graph of percentage of total donation given to each party by year \n",
    "#change to stacked bar graph\n",
    "#change the y-axis values \n",
    "#change to specific dates\n",
    "#percentage values\n",
    "#annotation for each lines\n",
    "#Election Year needs to become an object "
   ]
  },
  {
   "cell_type": "code",
   "execution_count": 123,
   "id": "ac1f3b18",
   "metadata": {},
   "outputs": [],
   "source": [
    "import pandas as pd\n",
    "import numpy as np\n",
    "import matplotlib.pyplot as plt"
   ]
  },
  {
   "cell_type": "code",
   "execution_count": 124,
   "id": "ba9ad2e3",
   "metadata": {
    "scrolled": false
   },
   "outputs": [
    {
     "data": {
      "text/html": [
       "<div>\n",
       "<style scoped>\n",
       "    .dataframe tbody tr th:only-of-type {\n",
       "        vertical-align: middle;\n",
       "    }\n",
       "\n",
       "    .dataframe tbody tr th {\n",
       "        vertical-align: top;\n",
       "    }\n",
       "\n",
       "    .dataframe thead th {\n",
       "        text-align: right;\n",
       "    }\n",
       "</style>\n",
       "<table border=\"1\" class=\"dataframe\">\n",
       "  <thead>\n",
       "    <tr style=\"text-align: right;\">\n",
       "      <th></th>\n",
       "      <th>Team</th>\n",
       "      <th>League</th>\n",
       "      <th>Recipient</th>\n",
       "      <th>Amount</th>\n",
       "      <th>Election Year</th>\n",
       "      <th>Party</th>\n",
       "    </tr>\n",
       "    <tr>\n",
       "      <th>Owner</th>\n",
       "      <th></th>\n",
       "      <th></th>\n",
       "      <th></th>\n",
       "      <th></th>\n",
       "      <th></th>\n",
       "      <th></th>\n",
       "    </tr>\n",
       "  </thead>\n",
       "  <tbody>\n",
       "    <tr>\n",
       "      <th>Adam Silver</th>\n",
       "      <td>Commissioner</td>\n",
       "      <td>NBA</td>\n",
       "      <td>WRIGHT 2016</td>\n",
       "      <td>4000.0</td>\n",
       "      <td>2016</td>\n",
       "      <td>Democrat</td>\n",
       "    </tr>\n",
       "    <tr>\n",
       "      <th>Adam Silver</th>\n",
       "      <td>Commissioner</td>\n",
       "      <td>NBA</td>\n",
       "      <td>BIDEN FOR PRESIDENT</td>\n",
       "      <td>2800.0</td>\n",
       "      <td>2020</td>\n",
       "      <td>Democrat</td>\n",
       "    </tr>\n",
       "    <tr>\n",
       "      <th>Adam Silver</th>\n",
       "      <td>Commissioner</td>\n",
       "      <td>NBA</td>\n",
       "      <td>CORY 2020</td>\n",
       "      <td>2700.0</td>\n",
       "      <td>2020</td>\n",
       "      <td>Democrat</td>\n",
       "    </tr>\n",
       "    <tr>\n",
       "      <th>Adam Silver</th>\n",
       "      <td>Commissioner</td>\n",
       "      <td>NBA</td>\n",
       "      <td>Kamala Harris for the People</td>\n",
       "      <td>2700.0</td>\n",
       "      <td>2020</td>\n",
       "      <td>Democrat</td>\n",
       "    </tr>\n",
       "    <tr>\n",
       "      <th>Adam Silver</th>\n",
       "      <td>Commissioner</td>\n",
       "      <td>NBA</td>\n",
       "      <td>Win The Era PAC</td>\n",
       "      <td>2700.0</td>\n",
       "      <td>2020</td>\n",
       "      <td>Democrat</td>\n",
       "    </tr>\n",
       "    <tr>\n",
       "      <th>...</th>\n",
       "      <td>...</td>\n",
       "      <td>...</td>\n",
       "      <td>...</td>\n",
       "      <td>...</td>\n",
       "      <td>...</td>\n",
       "      <td>...</td>\n",
       "    </tr>\n",
       "    <tr>\n",
       "      <th>Zygi Wilf</th>\n",
       "      <td>Minnesota Vikings</td>\n",
       "      <td>NFL</td>\n",
       "      <td>ANGIE CRAIG FOR CONGRESS</td>\n",
       "      <td>2700.0</td>\n",
       "      <td>2018</td>\n",
       "      <td>Democrat</td>\n",
       "    </tr>\n",
       "    <tr>\n",
       "      <th>Zygi Wilf</th>\n",
       "      <td>Minnesota Vikings</td>\n",
       "      <td>NFL</td>\n",
       "      <td>DEAN PHILLIPS FOR CONGRESS</td>\n",
       "      <td>2700.0</td>\n",
       "      <td>2018</td>\n",
       "      <td>Democrat</td>\n",
       "    </tr>\n",
       "    <tr>\n",
       "      <th>Zygi Wilf</th>\n",
       "      <td>Minnesota Vikings</td>\n",
       "      <td>NFL</td>\n",
       "      <td>MENENDEZ FOR SENATE</td>\n",
       "      <td>2700.0</td>\n",
       "      <td>2018</td>\n",
       "      <td>Democrat</td>\n",
       "    </tr>\n",
       "    <tr>\n",
       "      <th>Zygi Wilf</th>\n",
       "      <td>Minnesota Vikings</td>\n",
       "      <td>NFL</td>\n",
       "      <td>TINA SMITH FOR MINNESOTA</td>\n",
       "      <td>2700.0</td>\n",
       "      <td>2018</td>\n",
       "      <td>Democrat</td>\n",
       "    </tr>\n",
       "    <tr>\n",
       "      <th>Zygi Wilf</th>\n",
       "      <td>Minnesota Vikings</td>\n",
       "      <td>NFL</td>\n",
       "      <td>TOM MALINOWSKI FOR CONGRESS</td>\n",
       "      <td>2700.0</td>\n",
       "      <td>2018</td>\n",
       "      <td>Democrat</td>\n",
       "    </tr>\n",
       "  </tbody>\n",
       "</table>\n",
       "<p>2798 rows × 6 columns</p>\n",
       "</div>"
      ],
      "text/plain": [
       "                          Team League                     Recipient  Amount  \\\n",
       "Owner                                                                         \n",
       "Adam Silver       Commissioner    NBA                   WRIGHT 2016  4000.0   \n",
       "Adam Silver       Commissioner    NBA           BIDEN FOR PRESIDENT  2800.0   \n",
       "Adam Silver       Commissioner    NBA                     CORY 2020  2700.0   \n",
       "Adam Silver       Commissioner    NBA  Kamala Harris for the People  2700.0   \n",
       "Adam Silver       Commissioner    NBA               Win The Era PAC  2700.0   \n",
       "...                        ...    ...                           ...     ...   \n",
       "Zygi Wilf    Minnesota Vikings    NFL      ANGIE CRAIG FOR CONGRESS  2700.0   \n",
       "Zygi Wilf    Minnesota Vikings    NFL    DEAN PHILLIPS FOR CONGRESS  2700.0   \n",
       "Zygi Wilf    Minnesota Vikings    NFL           MENENDEZ FOR SENATE  2700.0   \n",
       "Zygi Wilf    Minnesota Vikings    NFL      TINA SMITH FOR MINNESOTA  2700.0   \n",
       "Zygi Wilf    Minnesota Vikings    NFL   TOM MALINOWSKI FOR CONGRESS  2700.0   \n",
       "\n",
       "             Election Year     Party  \n",
       "Owner                                 \n",
       "Adam Silver           2016  Democrat  \n",
       "Adam Silver           2020  Democrat  \n",
       "Adam Silver           2020  Democrat  \n",
       "Adam Silver           2020  Democrat  \n",
       "Adam Silver           2020  Democrat  \n",
       "...                    ...       ...  \n",
       "Zygi Wilf             2018  Democrat  \n",
       "Zygi Wilf             2018  Democrat  \n",
       "Zygi Wilf             2018  Democrat  \n",
       "Zygi Wilf             2018  Democrat  \n",
       "Zygi Wilf             2018  Democrat  \n",
       "\n",
       "[2798 rows x 6 columns]"
      ]
     },
     "execution_count": 124,
     "metadata": {},
     "output_type": "execute_result"
    }
   ],
   "source": [
    "file ='spd.csv'\n",
    "df = pd.read_csv(file, index_col=0, parse_dates=True)\n",
    "#df.head()\n",
    "#df.info()\n",
    "df"
   ]
  },
  {
   "cell_type": "code",
   "execution_count": 125,
   "id": "cfac5cae",
   "metadata": {},
   "outputs": [
    {
     "data": {
      "text/html": [
       "<div>\n",
       "<style scoped>\n",
       "    .dataframe tbody tr th:only-of-type {\n",
       "        vertical-align: middle;\n",
       "    }\n",
       "\n",
       "    .dataframe tbody tr th {\n",
       "        vertical-align: top;\n",
       "    }\n",
       "\n",
       "    .dataframe thead th {\n",
       "        text-align: right;\n",
       "    }\n",
       "</style>\n",
       "<table border=\"1\" class=\"dataframe\">\n",
       "  <thead>\n",
       "    <tr style=\"text-align: right;\">\n",
       "      <th></th>\n",
       "      <th>Election Year</th>\n",
       "      <th>Party</th>\n",
       "      <th>Amount</th>\n",
       "    </tr>\n",
       "  </thead>\n",
       "  <tbody>\n",
       "    <tr>\n",
       "      <th>0</th>\n",
       "      <td>2016</td>\n",
       "      <td>Bipartisan</td>\n",
       "      <td>578050.0</td>\n",
       "    </tr>\n",
       "    <tr>\n",
       "      <th>1</th>\n",
       "      <td>2016</td>\n",
       "      <td>Bipartisan, but mostly Democratic</td>\n",
       "      <td>2000.0</td>\n",
       "    </tr>\n",
       "    <tr>\n",
       "      <th>2</th>\n",
       "      <td>2016</td>\n",
       "      <td>Bipartisan, but mostly Republican</td>\n",
       "      <td>83638.0</td>\n",
       "    </tr>\n",
       "    <tr>\n",
       "      <th>3</th>\n",
       "      <td>2016</td>\n",
       "      <td>Democrat</td>\n",
       "      <td>4065094.0</td>\n",
       "    </tr>\n",
       "    <tr>\n",
       "      <th>4</th>\n",
       "      <td>2016</td>\n",
       "      <td>Independent</td>\n",
       "      <td>2700.0</td>\n",
       "    </tr>\n",
       "    <tr>\n",
       "      <th>5</th>\n",
       "      <td>2016</td>\n",
       "      <td>Republican</td>\n",
       "      <td>12940514.0</td>\n",
       "    </tr>\n",
       "    <tr>\n",
       "      <th>6</th>\n",
       "      <td>2018</td>\n",
       "      <td>Bipartisan</td>\n",
       "      <td>540083.0</td>\n",
       "    </tr>\n",
       "    <tr>\n",
       "      <th>7</th>\n",
       "      <td>2018</td>\n",
       "      <td>Bipartisan, but mostly Democratic</td>\n",
       "      <td>6000.0</td>\n",
       "    </tr>\n",
       "    <tr>\n",
       "      <th>8</th>\n",
       "      <td>2018</td>\n",
       "      <td>Bipartisan, but mostly Republican</td>\n",
       "      <td>99103.0</td>\n",
       "    </tr>\n",
       "    <tr>\n",
       "      <th>9</th>\n",
       "      <td>2018</td>\n",
       "      <td>Democrat</td>\n",
       "      <td>4174212.0</td>\n",
       "    </tr>\n",
       "    <tr>\n",
       "      <th>10</th>\n",
       "      <td>2018</td>\n",
       "      <td>Independent</td>\n",
       "      <td>10800.0</td>\n",
       "    </tr>\n",
       "    <tr>\n",
       "      <th>11</th>\n",
       "      <td>2018</td>\n",
       "      <td>Republican</td>\n",
       "      <td>11282570.0</td>\n",
       "    </tr>\n",
       "    <tr>\n",
       "      <th>12</th>\n",
       "      <td>2020</td>\n",
       "      <td>Bipartisan</td>\n",
       "      <td>356566.0</td>\n",
       "    </tr>\n",
       "    <tr>\n",
       "      <th>13</th>\n",
       "      <td>2020</td>\n",
       "      <td>Bipartisan, but mostly Democratic</td>\n",
       "      <td>2800.0</td>\n",
       "    </tr>\n",
       "    <tr>\n",
       "      <th>14</th>\n",
       "      <td>2020</td>\n",
       "      <td>Bipartisan, but mostly Republican</td>\n",
       "      <td>88352.0</td>\n",
       "    </tr>\n",
       "    <tr>\n",
       "      <th>15</th>\n",
       "      <td>2020</td>\n",
       "      <td>Democrat</td>\n",
       "      <td>1874333.0</td>\n",
       "    </tr>\n",
       "    <tr>\n",
       "      <th>16</th>\n",
       "      <td>2020</td>\n",
       "      <td>Republican</td>\n",
       "      <td>10022932.0</td>\n",
       "    </tr>\n",
       "  </tbody>\n",
       "</table>\n",
       "</div>"
      ],
      "text/plain": [
       "    Election Year                              Party      Amount\n",
       "0            2016                         Bipartisan    578050.0\n",
       "1            2016  Bipartisan, but mostly Democratic      2000.0\n",
       "2            2016  Bipartisan, but mostly Republican     83638.0\n",
       "3            2016                           Democrat   4065094.0\n",
       "4            2016                        Independent      2700.0\n",
       "5            2016                         Republican  12940514.0\n",
       "6            2018                         Bipartisan    540083.0\n",
       "7            2018  Bipartisan, but mostly Democratic      6000.0\n",
       "8            2018  Bipartisan, but mostly Republican     99103.0\n",
       "9            2018                           Democrat   4174212.0\n",
       "10           2018                        Independent     10800.0\n",
       "11           2018                         Republican  11282570.0\n",
       "12           2020                         Bipartisan    356566.0\n",
       "13           2020  Bipartisan, but mostly Democratic      2800.0\n",
       "14           2020  Bipartisan, but mostly Republican     88352.0\n",
       "15           2020                           Democrat   1874333.0\n",
       "16           2020                         Republican  10022932.0"
      ]
     },
     "execution_count": 125,
     "metadata": {},
     "output_type": "execute_result"
    }
   ],
   "source": [
    "dfgroup = df.groupby(['Election Year', 'Party'], as_index=False)['Amount'].sum()\n",
    "dfgroup"
   ]
  },
  {
   "cell_type": "code",
   "execution_count": 126,
   "id": "425303f1",
   "metadata": {},
   "outputs": [
    {
     "data": {
      "text/html": [
       "<div>\n",
       "<style scoped>\n",
       "    .dataframe tbody tr th:only-of-type {\n",
       "        vertical-align: middle;\n",
       "    }\n",
       "\n",
       "    .dataframe tbody tr th {\n",
       "        vertical-align: top;\n",
       "    }\n",
       "\n",
       "    .dataframe thead th {\n",
       "        text-align: right;\n",
       "    }\n",
       "</style>\n",
       "<table border=\"1\" class=\"dataframe\">\n",
       "  <thead>\n",
       "    <tr style=\"text-align: right;\">\n",
       "      <th></th>\n",
       "      <th>Election Year</th>\n",
       "      <th>Party</th>\n",
       "      <th>Amount</th>\n",
       "    </tr>\n",
       "  </thead>\n",
       "  <tbody>\n",
       "    <tr>\n",
       "      <th>5</th>\n",
       "      <td>2016</td>\n",
       "      <td>Republican</td>\n",
       "      <td>12940514.0</td>\n",
       "    </tr>\n",
       "    <tr>\n",
       "      <th>11</th>\n",
       "      <td>2018</td>\n",
       "      <td>Republican</td>\n",
       "      <td>11282570.0</td>\n",
       "    </tr>\n",
       "    <tr>\n",
       "      <th>16</th>\n",
       "      <td>2020</td>\n",
       "      <td>Republican</td>\n",
       "      <td>10022932.0</td>\n",
       "    </tr>\n",
       "  </tbody>\n",
       "</table>\n",
       "</div>"
      ],
      "text/plain": [
       "    Election Year       Party      Amount\n",
       "5            2016  Republican  12940514.0\n",
       "11           2018  Republican  11282570.0\n",
       "16           2020  Republican  10022932.0"
      ]
     },
     "execution_count": 126,
     "metadata": {},
     "output_type": "execute_result"
    }
   ],
   "source": [
    "df12=dfgroup.loc[df1['Party'] == 'Republican']\n",
    "df12"
   ]
  },
  {
   "cell_type": "code",
   "execution_count": 127,
   "id": "70cf92d1",
   "metadata": {},
   "outputs": [
    {
     "data": {
      "text/html": [
       "<div>\n",
       "<style scoped>\n",
       "    .dataframe tbody tr th:only-of-type {\n",
       "        vertical-align: middle;\n",
       "    }\n",
       "\n",
       "    .dataframe tbody tr th {\n",
       "        vertical-align: top;\n",
       "    }\n",
       "\n",
       "    .dataframe thead th {\n",
       "        text-align: right;\n",
       "    }\n",
       "</style>\n",
       "<table border=\"1\" class=\"dataframe\">\n",
       "  <thead>\n",
       "    <tr style=\"text-align: right;\">\n",
       "      <th></th>\n",
       "      <th>Election Year</th>\n",
       "      <th>Party</th>\n",
       "      <th>Amount</th>\n",
       "    </tr>\n",
       "  </thead>\n",
       "  <tbody>\n",
       "    <tr>\n",
       "      <th>3</th>\n",
       "      <td>2016</td>\n",
       "      <td>Democrat</td>\n",
       "      <td>4065094.0</td>\n",
       "    </tr>\n",
       "    <tr>\n",
       "      <th>9</th>\n",
       "      <td>2018</td>\n",
       "      <td>Democrat</td>\n",
       "      <td>4174212.0</td>\n",
       "    </tr>\n",
       "    <tr>\n",
       "      <th>15</th>\n",
       "      <td>2020</td>\n",
       "      <td>Democrat</td>\n",
       "      <td>1874333.0</td>\n",
       "    </tr>\n",
       "  </tbody>\n",
       "</table>\n",
       "</div>"
      ],
      "text/plain": [
       "    Election Year     Party     Amount\n",
       "3            2016  Democrat  4065094.0\n",
       "9            2018  Democrat  4174212.0\n",
       "15           2020  Democrat  1874333.0"
      ]
     },
     "execution_count": 127,
     "metadata": {},
     "output_type": "execute_result"
    }
   ],
   "source": [
    "df123=dfgroup.loc[df1['Party'] == 'Democrat']\n",
    "df123"
   ]
  },
  {
   "cell_type": "code",
   "execution_count": 128,
   "id": "83ce72e1",
   "metadata": {
    "scrolled": true
   },
   "outputs": [
    {
     "data": {
      "text/plain": [
       "46129747.0"
      ]
     },
     "execution_count": 128,
     "metadata": {},
     "output_type": "execute_result"
    }
   ],
   "source": [
    "#Total Sum of all 3 years \n",
    "df_sum = dfgroup[\"Amount\"].sum()\n",
    "df_sum"
   ]
  },
  {
   "cell_type": "code",
   "execution_count": 129,
   "id": "02edb5a8",
   "metadata": {},
   "outputs": [
    {
     "data": {
      "text/plain": [
       "5    73.226103\n",
       "Name: Amount, dtype: float64"
      ]
     },
     "execution_count": 129,
     "metadata": {},
     "output_type": "execute_result"
    }
   ],
   "source": [
    "#Calculations for Percentage of Donations By Party For a Specific Year\n",
    "#Republicans2016\n",
    "dfx = dfgroup.loc[(dfgroup[\"Election Year\"]) == 2016] \n",
    "dfy = dfx[\"Amount\"].sum() #Total Amount Donated in only 2016\n",
    "dfz = dfx.loc[(dfx[\"Party\"]) == \"Republican\"] [\"Amount\"]\n",
    "dfz #dfz.info()#dfz[\"Amount\"]\n",
    "r2016 = dfz/dfy*100 #Percent=TotalPartyAmount/TotalAmt2020\n",
    "r2016"
   ]
  },
  {
   "cell_type": "code",
   "execution_count": 130,
   "id": "a4c23fca",
   "metadata": {},
   "outputs": [
    {
     "data": {
      "text/plain": [
       "3    23.003027\n",
       "Name: Amount, dtype: float64"
      ]
     },
     "execution_count": 130,
     "metadata": {},
     "output_type": "execute_result"
    }
   ],
   "source": [
    "#Democrat-2016\n",
    "dfg = dfgroup.loc[(dfgroup[\"Election Year\"]) == 2016] \n",
    "dfh = dfg[\"Amount\"].sum()\n",
    "dfi = dfg.loc[(dfg[\"Party\"]) == \"Democrat\"] [\"Amount\"]\n",
    "dfi \n",
    "d2016 = dfi/dfh * 100\n",
    "d2016"
   ]
  },
  {
   "cell_type": "code",
   "execution_count": 139,
   "id": "6d9f65fd",
   "metadata": {},
   "outputs": [
    {
     "data": {
      "text/plain": [
       "11    70.022544\n",
       "Name: Amount, dtype: float64"
      ]
     },
     "execution_count": 139,
     "metadata": {},
     "output_type": "execute_result"
    }
   ],
   "source": [
    "#Republicans-2018\n",
    "dfa = dfgroup.loc[(dfgroup[\"Election Year\"]) == 2018] \n",
    "dfb = dfa[\"Amount\"].sum()\n",
    "dfc = dfa.loc[(dfa[\"Party\"]) == \"Republican\"] [\"Amount\"]\n",
    "dfc \n",
    "r2018 = dfc/dfb * 100\n",
    "r2018"
   ]
  },
  {
   "cell_type": "code",
   "execution_count": 132,
   "id": "a7b3e5c7",
   "metadata": {},
   "outputs": [
    {
     "data": {
      "text/plain": [
       "16    81.190326\n",
       "Name: Amount, dtype: float64"
      ]
     },
     "execution_count": 132,
     "metadata": {},
     "output_type": "execute_result"
    }
   ],
   "source": [
    "#Republicans-2020\n",
    "dfd = dfgroup.loc[(dfgroup[\"Election Year\"]) == 2020] \n",
    "dfe = dfd[\"Amount\"].sum()\n",
    "dff = dfd.loc[(dfd[\"Party\"]) == \"Republican\"] [\"Amount\"]\n",
    "dff \n",
    "r2020 = dff/dfe*100\n",
    "r2020"
   ]
  },
  {
   "cell_type": "code",
   "execution_count": 140,
   "id": "43e7c91e",
   "metadata": {},
   "outputs": [
    {
     "ename": "TypeError",
     "evalue": "bar() takes from 3 to 5 positional arguments but 6 were given",
     "output_type": "error",
     "traceback": [
      "\u001b[1;31m---------------------------------------------------------------------------\u001b[0m",
      "\u001b[1;31mTypeError\u001b[0m                                 Traceback (most recent call last)",
      "\u001b[1;32m<ipython-input-140-ad4a40f89103>\u001b[0m in \u001b[0;36m<module>\u001b[1;34m\u001b[0m\n\u001b[0;32m      7\u001b[0m \u001b[1;33m\u001b[0m\u001b[0m\n\u001b[0;32m      8\u001b[0m \u001b[0mfig\u001b[0m\u001b[1;33m,\u001b[0m \u001b[0max\u001b[0m \u001b[1;33m=\u001b[0m \u001b[0mplt\u001b[0m\u001b[1;33m.\u001b[0m\u001b[0msubplots\u001b[0m\u001b[1;33m(\u001b[0m\u001b[1;33m)\u001b[0m\u001b[1;33m\u001b[0m\u001b[1;33m\u001b[0m\u001b[0m\n\u001b[1;32m----> 9\u001b[1;33m \u001b[0max\u001b[0m\u001b[1;33m.\u001b[0m\u001b[0mbar\u001b[0m\u001b[1;33m(\u001b[0m\u001b[0mlabels\u001b[0m\u001b[1;33m,\u001b[0m\u001b[0mr2016\u001b[0m\u001b[1;33m,\u001b[0m\u001b[0mr2018\u001b[0m\u001b[1;33m,\u001b[0m\u001b[0mr2020\u001b[0m\u001b[1;33m,\u001b[0m\u001b[0mwidth\u001b[0m\u001b[1;33m,\u001b[0m \u001b[0mlabel\u001b[0m \u001b[1;33m=\u001b[0m \u001b[1;34m'Republican'\u001b[0m\u001b[1;33m,\u001b[0m\u001b[0mcolor\u001b[0m \u001b[1;33m=\u001b[0m \u001b[1;34m'r'\u001b[0m\u001b[1;33m)\u001b[0m\u001b[1;33m\u001b[0m\u001b[1;33m\u001b[0m\u001b[0m\n\u001b[0m\u001b[0;32m     10\u001b[0m \u001b[0max\u001b[0m\u001b[1;33m.\u001b[0m\u001b[0mbar\u001b[0m\u001b[1;33m(\u001b[0m\u001b[0mlabels\u001b[0m\u001b[1;33m,\u001b[0m\u001b[0md2016\u001b[0m\u001b[1;33m,\u001b[0m\u001b[0mwidth\u001b[0m\u001b[1;33m,\u001b[0m \u001b[0mlabel\u001b[0m \u001b[1;33m=\u001b[0m \u001b[1;34m'Democrat'\u001b[0m\u001b[1;33m,\u001b[0m\u001b[0mcolor\u001b[0m \u001b[1;33m=\u001b[0m \u001b[1;34m'b'\u001b[0m\u001b[1;33m,\u001b[0m \u001b[0mbottom\u001b[0m \u001b[1;33m=\u001b[0m \u001b[0mr2016\u001b[0m\u001b[1;33m)\u001b[0m\u001b[1;33m\u001b[0m\u001b[1;33m\u001b[0m\u001b[0m\n\u001b[0;32m     11\u001b[0m \u001b[1;33m\u001b[0m\u001b[0m\n",
      "\u001b[1;32m~\\anaconda3\\lib\\site-packages\\matplotlib\\__init__.py\u001b[0m in \u001b[0;36minner\u001b[1;34m(ax, data, *args, **kwargs)\u001b[0m\n\u001b[0;32m   1445\u001b[0m     \u001b[1;32mdef\u001b[0m \u001b[0minner\u001b[0m\u001b[1;33m(\u001b[0m\u001b[0max\u001b[0m\u001b[1;33m,\u001b[0m \u001b[1;33m*\u001b[0m\u001b[0margs\u001b[0m\u001b[1;33m,\u001b[0m \u001b[0mdata\u001b[0m\u001b[1;33m=\u001b[0m\u001b[1;32mNone\u001b[0m\u001b[1;33m,\u001b[0m \u001b[1;33m**\u001b[0m\u001b[0mkwargs\u001b[0m\u001b[1;33m)\u001b[0m\u001b[1;33m:\u001b[0m\u001b[1;33m\u001b[0m\u001b[1;33m\u001b[0m\u001b[0m\n\u001b[0;32m   1446\u001b[0m         \u001b[1;32mif\u001b[0m \u001b[0mdata\u001b[0m \u001b[1;32mis\u001b[0m \u001b[1;32mNone\u001b[0m\u001b[1;33m:\u001b[0m\u001b[1;33m\u001b[0m\u001b[1;33m\u001b[0m\u001b[0m\n\u001b[1;32m-> 1447\u001b[1;33m             \u001b[1;32mreturn\u001b[0m \u001b[0mfunc\u001b[0m\u001b[1;33m(\u001b[0m\u001b[0max\u001b[0m\u001b[1;33m,\u001b[0m \u001b[1;33m*\u001b[0m\u001b[0mmap\u001b[0m\u001b[1;33m(\u001b[0m\u001b[0msanitize_sequence\u001b[0m\u001b[1;33m,\u001b[0m \u001b[0margs\u001b[0m\u001b[1;33m)\u001b[0m\u001b[1;33m,\u001b[0m \u001b[1;33m**\u001b[0m\u001b[0mkwargs\u001b[0m\u001b[1;33m)\u001b[0m\u001b[1;33m\u001b[0m\u001b[1;33m\u001b[0m\u001b[0m\n\u001b[0m\u001b[0;32m   1448\u001b[0m \u001b[1;33m\u001b[0m\u001b[0m\n\u001b[0;32m   1449\u001b[0m         \u001b[0mbound\u001b[0m \u001b[1;33m=\u001b[0m \u001b[0mnew_sig\u001b[0m\u001b[1;33m.\u001b[0m\u001b[0mbind\u001b[0m\u001b[1;33m(\u001b[0m\u001b[0max\u001b[0m\u001b[1;33m,\u001b[0m \u001b[1;33m*\u001b[0m\u001b[0margs\u001b[0m\u001b[1;33m,\u001b[0m \u001b[1;33m**\u001b[0m\u001b[0mkwargs\u001b[0m\u001b[1;33m)\u001b[0m\u001b[1;33m\u001b[0m\u001b[1;33m\u001b[0m\u001b[0m\n",
      "\u001b[1;31mTypeError\u001b[0m: bar() takes from 3 to 5 positional arguments but 6 were given"
     ]
    },
    {
     "data": {
      "image/png": "[encoded data removed]",
      "text/plain": [
       "<Figure size 432x288 with 1 Axes>"
      ]
     },
     "metadata": {
      "needs_background": "light"
     },
     "output_type": "display_data"
    }
   ],
   "source": [
    "#Main Stackbar Graph\n",
    "labels =['2016','2018','2020']\n",
    "width = 0.35 \n",
    "#2016 - r2016,d2016\n",
    "#2018 - r2018,d2018\n",
    "#2020 - r2020,d2020\n",
    "\n",
    "fig, ax = plt.subplots()\n",
    "ax.bar(labels,r2016,r2018,r2020,width, label = 'Republican',color = 'r')\n",
    "ax.bar(labels,d2016,width, label = 'Democrat',color = 'b', bottom = r2016)\n",
    "\n",
    "ax.set_ylabel('Percentage')\n",
    "ax.set_title('Percent of Donation By Party')\n",
    "ax.legend()\n",
    "plt.show()"
   ]
  },
  {
   "cell_type": "code",
   "execution_count": 134,
   "id": "de2e2df4",
   "metadata": {},
   "outputs": [],
   "source": [
    "#6 mini subplots\n",
    "#subplots with different leagues  [3,2] "
   ]
  }
 ],
 "metadata": {
  "kernelspec": {
   "display_name": "Python 3",
   "language": "python",
   "name": "python3"
  },
  "language_info": {
   "codemirror_mode": {
    "name": "ipython",
    "version": 3
   },
   "file_extension": ".py",
   "mimetype": "text/x-python",
   "name": "python",
   "nbconvert_exporter": "python",
   "pygments_lexer": "ipython3",
   "version": "3.8.8"
  }
 },
 "nbformat": 4,
 "nbformat_minor": 5
}

{
 "cells": [
  {
   "cell_type": "code",
   "execution_count": 1,
   "id": "328c1798",
   "metadata": {},
   "outputs": [],
   "source": [
    "import pandas as pd\n",
    "import numpy as np\n",
    "import matplotlib.pyplot as plt\n"
   ]
  },
  {
   "cell_type": "code",
   "execution_count": 2,
   "id": "a5ed6ad0",
   "metadata": {},
   "outputs": [],
   "source": [
    "sports= \"SPD.csv\"\n",
    "sport= 'SPD(League only).csv'"
   ]
  },
  {
   "cell_type": "code",
   "execution_count": 3,
   "id": "f937d569",
   "metadata": {},
   "outputs": [],
   "source": [
    "df = pd.read_csv(sports,index_col=0, parse_dates=True)\n",
    "dfd = pd.read_csv(sport)\n"
   ]
  },
  {
   "cell_type": "code",
   "execution_count": 4,
   "id": "89659bb2",
   "metadata": {},
   "outputs": [
    {
     "data": {
      "text/plain": [
       "0        NBA\n",
       "1        NBA\n",
       "2        NBA\n",
       "3        NBA\n",
       "4        NBA\n",
       "        ... \n",
       "3275    WNBA\n",
       "3276    WNBA\n",
       "3277    WNBA\n",
       "3278    WNBA\n",
       "3279    WNBA\n",
       "Name: League, Length: 3280, dtype: object"
      ]
     },
     "execution_count": 4,
     "metadata": {},
     "output_type": "execute_result"
    }
   ],
   "source": [
    "dfd['League'].str.strip()"
   ]
  },
  {
   "cell_type": "code",
   "execution_count": 5,
   "id": "49d1d8af",
   "metadata": {},
   "outputs": [
    {
     "name": "stdout",
     "output_type": "stream",
     "text": [
      "<class 'pandas.core.frame.DataFrame'>\n",
      "Index: 2798 entries, Adam Silver to Zygi Wilf\n",
      "Data columns (total 6 columns):\n",
      " #   Column         Non-Null Count  Dtype  \n",
      "---  ------         --------------  -----  \n",
      " 0   Team           2798 non-null   object \n",
      " 1   League         2798 non-null   object \n",
      " 2   Recipient      2798 non-null   object \n",
      " 3   Amount         2798 non-null   float64\n",
      " 4   Election Year  2798 non-null   object \n",
      " 5   Party          2789 non-null   object \n",
      "dtypes: float64(1), object(5)\n",
      "memory usage: 153.0+ KB\n"
     ]
    }
   ],
   "source": [
    "df[\"Election Year\"]= df[\"Election Year\"].astype(object)\n",
    "df.head(20)\n",
    "df.info()"
   ]
  },
  {
   "cell_type": "code",
   "execution_count": 6,
   "id": "c3232f82",
   "metadata": {},
   "outputs": [
    {
     "data": {
      "text/html": [
       "<div>\n",
       "<style scoped>\n",
       "    .dataframe tbody tr th:only-of-type {\n",
       "        vertical-align: middle;\n",
       "    }\n",
       "\n",
       "    .dataframe tbody tr th {\n",
       "        vertical-align: top;\n",
       "    }\n",
       "\n",
       "    .dataframe thead th {\n",
       "        text-align: right;\n",
       "    }\n",
       "</style>\n",
       "<table border=\"1\" class=\"dataframe\">\n",
       "  <thead>\n",
       "    <tr style=\"text-align: right;\">\n",
       "      <th></th>\n",
       "      <th>Amount</th>\n",
       "    </tr>\n",
       "    <tr>\n",
       "      <th>Election Year</th>\n",
       "      <th></th>\n",
       "    </tr>\n",
       "  </thead>\n",
       "  <tbody>\n",
       "    <tr>\n",
       "      <th>2016</th>\n",
       "      <td>17679696.0</td>\n",
       "    </tr>\n",
       "    <tr>\n",
       "      <th>2018</th>\n",
       "      <td>16932768.0</td>\n",
       "    </tr>\n",
       "    <tr>\n",
       "      <th>2020</th>\n",
       "      <td>12366233.0</td>\n",
       "    </tr>\n",
       "  </tbody>\n",
       "</table>\n",
       "</div>"
      ],
      "text/plain": [
       "                   Amount\n",
       "Election Year            \n",
       "2016           17679696.0\n",
       "2018           16932768.0\n",
       "2020           12366233.0"
      ]
     },
     "execution_count": 6,
     "metadata": {},
     "output_type": "execute_result"
    }
   ],
   "source": [
    "dfyr=df.groupby(['Election Year'], as_index=False)['Amount'].sum()\n",
    "dfyr=dfyr.set_index('Election Year')\n",
    "dfyr\n",
    "# put percent of of total by party by year in timeseries to see if republicans get more or less % by year\n",
    "\n",
    "# how all leagues donate by year, how speficic leagues donate by year time series all in one graph\n",
    "\n",
    "# how does the location of the team affect the donation patterns\n",
    "\n",
    "# do owners that own multiple teams donate differently than owners in that only have one team  \n",
    "# in terms of size or amount but also in who the who they donate to.\n"
   ]
  },
  {
   "cell_type": "code",
   "execution_count": 7,
   "id": "4dd490de",
   "metadata": {},
   "outputs": [
    {
     "data": {
      "text/html": [
       "<div>\n",
       "<style scoped>\n",
       "    .dataframe tbody tr th:only-of-type {\n",
       "        vertical-align: middle;\n",
       "    }\n",
       "\n",
       "    .dataframe tbody tr th {\n",
       "        vertical-align: top;\n",
       "    }\n",
       "\n",
       "    .dataframe thead th {\n",
       "        text-align: right;\n",
       "    }\n",
       "</style>\n",
       "<table border=\"1\" class=\"dataframe\">\n",
       "  <thead>\n",
       "    <tr style=\"text-align: right;\">\n",
       "      <th></th>\n",
       "      <th>League</th>\n",
       "      <th>Amount</th>\n",
       "    </tr>\n",
       "  </thead>\n",
       "  <tbody>\n",
       "    <tr>\n",
       "      <th>0</th>\n",
       "      <td>MLB</td>\n",
       "      <td>21680048</td>\n",
       "    </tr>\n",
       "    <tr>\n",
       "      <th>1</th>\n",
       "      <td>NASCAR</td>\n",
       "      <td>731093</td>\n",
       "    </tr>\n",
       "    <tr>\n",
       "      <th>2</th>\n",
       "      <td>NBA</td>\n",
       "      <td>12026887</td>\n",
       "    </tr>\n",
       "    <tr>\n",
       "      <th>3</th>\n",
       "      <td>NFL</td>\n",
       "      <td>6629120</td>\n",
       "    </tr>\n",
       "    <tr>\n",
       "      <th>4</th>\n",
       "      <td>NHL</td>\n",
       "      <td>9087615</td>\n",
       "    </tr>\n",
       "    <tr>\n",
       "      <th>5</th>\n",
       "      <td>WNBA</td>\n",
       "      <td>3162455</td>\n",
       "    </tr>\n",
       "  </tbody>\n",
       "</table>\n",
       "</div>"
      ],
      "text/plain": [
       "   League    Amount\n",
       "0     MLB  21680048\n",
       "1  NASCAR    731093\n",
       "2     NBA  12026887\n",
       "3     NFL   6629120\n",
       "4     NHL   9087615\n",
       "5    WNBA   3162455"
      ]
     },
     "execution_count": 7,
     "metadata": {},
     "output_type": "execute_result"
    }
   ],
   "source": [
    "dfd2= dfd.groupby(['League'], as_index=False)['Amount'].sum()\n",
    "dfd2"
   ]
  },
  {
   "cell_type": "code",
   "execution_count": 8,
   "id": "3569b984",
   "metadata": {},
   "outputs": [
    {
     "data": {
      "text/plain": [
       "0       Adam Silver\n",
       "1       Adam Silver\n",
       "2       Adam Silver\n",
       "3       Adam Silver\n",
       "4       Adam Silver\n",
       "           ...     \n",
       "3275    Ted Leonsis\n",
       "3276    Ted Leonsis\n",
       "3277    Ted Leonsis\n",
       "3278    Ted Leonsis\n",
       "3279    Ted Leonsis\n",
       "Name: Owner, Length: 3280, dtype: object"
      ]
     },
     "execution_count": 8,
     "metadata": {},
     "output_type": "execute_result"
    }
   ],
   "source": [
    "dfl=dfd['Owner']\n",
    "dfl"
   ]
  },
  {
   "cell_type": "code",
   "execution_count": 9,
   "id": "6e33b554",
   "metadata": {},
   "outputs": [
    {
     "data": {
      "text/html": [
       "<div>\n",
       "<style scoped>\n",
       "    .dataframe tbody tr th:only-of-type {\n",
       "        vertical-align: middle;\n",
       "    }\n",
       "\n",
       "    .dataframe tbody tr th {\n",
       "        vertical-align: top;\n",
       "    }\n",
       "\n",
       "    .dataframe thead th {\n",
       "        text-align: right;\n",
       "    }\n",
       "</style>\n",
       "<table border=\"1\" class=\"dataframe\">\n",
       "  <thead>\n",
       "    <tr style=\"text-align: right;\">\n",
       "      <th></th>\n",
       "      <th>Election Year</th>\n",
       "      <th>Party</th>\n",
       "      <th>Amount</th>\n",
       "    </tr>\n",
       "  </thead>\n",
       "  <tbody>\n",
       "    <tr>\n",
       "      <th>0</th>\n",
       "      <td>2016</td>\n",
       "      <td>Bipartisan</td>\n",
       "      <td>578050.0</td>\n",
       "    </tr>\n",
       "    <tr>\n",
       "      <th>1</th>\n",
       "      <td>2016</td>\n",
       "      <td>Bipartisan, but mostly Democratic</td>\n",
       "      <td>2000.0</td>\n",
       "    </tr>\n",
       "    <tr>\n",
       "      <th>2</th>\n",
       "      <td>2016</td>\n",
       "      <td>Bipartisan, but mostly Republican</td>\n",
       "      <td>83638.0</td>\n",
       "    </tr>\n",
       "    <tr>\n",
       "      <th>3</th>\n",
       "      <td>2016</td>\n",
       "      <td>Democrat</td>\n",
       "      <td>4065094.0</td>\n",
       "    </tr>\n",
       "    <tr>\n",
       "      <th>4</th>\n",
       "      <td>2016</td>\n",
       "      <td>Independent</td>\n",
       "      <td>2700.0</td>\n",
       "    </tr>\n",
       "    <tr>\n",
       "      <th>5</th>\n",
       "      <td>2016</td>\n",
       "      <td>Republican</td>\n",
       "      <td>12940514.0</td>\n",
       "    </tr>\n",
       "    <tr>\n",
       "      <th>6</th>\n",
       "      <td>2018</td>\n",
       "      <td>Bipartisan</td>\n",
       "      <td>540083.0</td>\n",
       "    </tr>\n",
       "    <tr>\n",
       "      <th>7</th>\n",
       "      <td>2018</td>\n",
       "      <td>Bipartisan, but mostly Democratic</td>\n",
       "      <td>6000.0</td>\n",
       "    </tr>\n",
       "    <tr>\n",
       "      <th>8</th>\n",
       "      <td>2018</td>\n",
       "      <td>Bipartisan, but mostly Republican</td>\n",
       "      <td>99103.0</td>\n",
       "    </tr>\n",
       "    <tr>\n",
       "      <th>9</th>\n",
       "      <td>2018</td>\n",
       "      <td>Democrat</td>\n",
       "      <td>4174212.0</td>\n",
       "    </tr>\n",
       "    <tr>\n",
       "      <th>10</th>\n",
       "      <td>2018</td>\n",
       "      <td>Independent</td>\n",
       "      <td>10800.0</td>\n",
       "    </tr>\n",
       "    <tr>\n",
       "      <th>11</th>\n",
       "      <td>2018</td>\n",
       "      <td>Republican</td>\n",
       "      <td>11282570.0</td>\n",
       "    </tr>\n",
       "    <tr>\n",
       "      <th>12</th>\n",
       "      <td>2020</td>\n",
       "      <td>Bipartisan</td>\n",
       "      <td>356566.0</td>\n",
       "    </tr>\n",
       "    <tr>\n",
       "      <th>13</th>\n",
       "      <td>2020</td>\n",
       "      <td>Bipartisan, but mostly Democratic</td>\n",
       "      <td>2800.0</td>\n",
       "    </tr>\n",
       "    <tr>\n",
       "      <th>14</th>\n",
       "      <td>2020</td>\n",
       "      <td>Bipartisan, but mostly Republican</td>\n",
       "      <td>88352.0</td>\n",
       "    </tr>\n",
       "    <tr>\n",
       "      <th>15</th>\n",
       "      <td>2020</td>\n",
       "      <td>Democrat</td>\n",
       "      <td>1874333.0</td>\n",
       "    </tr>\n",
       "    <tr>\n",
       "      <th>16</th>\n",
       "      <td>2020</td>\n",
       "      <td>Republican</td>\n",
       "      <td>10022932.0</td>\n",
       "    </tr>\n",
       "  </tbody>\n",
       "</table>\n",
       "</div>"
      ],
      "text/plain": [
       "    Election Year                              Party      Amount\n",
       "0            2016                         Bipartisan    578050.0\n",
       "1            2016  Bipartisan, but mostly Democratic      2000.0\n",
       "2            2016  Bipartisan, but mostly Republican     83638.0\n",
       "3            2016                           Democrat   4065094.0\n",
       "4            2016                        Independent      2700.0\n",
       "5            2016                         Republican  12940514.0\n",
       "6            2018                         Bipartisan    540083.0\n",
       "7            2018  Bipartisan, but mostly Democratic      6000.0\n",
       "8            2018  Bipartisan, but mostly Republican     99103.0\n",
       "9            2018                           Democrat   4174212.0\n",
       "10           2018                        Independent     10800.0\n",
       "11           2018                         Republican  11282570.0\n",
       "12           2020                         Bipartisan    356566.0\n",
       "13           2020  Bipartisan, but mostly Democratic      2800.0\n",
       "14           2020  Bipartisan, but mostly Republican     88352.0\n",
       "15           2020                           Democrat   1874333.0\n",
       "16           2020                         Republican  10022932.0"
      ]
     },
     "execution_count": 9,
     "metadata": {},
     "output_type": "execute_result"
    }
   ],
   "source": [
    "dfe= df.groupby(['Election Year',\"Party\"],as_index=False)['Amount'].sum()\n",
    "dfe\n"
   ]
  },
  {
   "cell_type": "code",
   "execution_count": 10,
   "id": "b4384af8",
   "metadata": {},
   "outputs": [
    {
     "data": {
      "text/html": [
       "<div>\n",
       "<style scoped>\n",
       "    .dataframe tbody tr th:only-of-type {\n",
       "        vertical-align: middle;\n",
       "    }\n",
       "\n",
       "    .dataframe tbody tr th {\n",
       "        vertical-align: top;\n",
       "    }\n",
       "\n",
       "    .dataframe thead th {\n",
       "        text-align: right;\n",
       "    }\n",
       "</style>\n",
       "<table border=\"1\" class=\"dataframe\">\n",
       "  <thead>\n",
       "    <tr style=\"text-align: right;\">\n",
       "      <th></th>\n",
       "      <th>Election Year</th>\n",
       "      <th>Party</th>\n",
       "      <th>Amount</th>\n",
       "    </tr>\n",
       "  </thead>\n",
       "  <tbody>\n",
       "    <tr>\n",
       "      <th>5</th>\n",
       "      <td>2016</td>\n",
       "      <td>Republican</td>\n",
       "      <td>12940514.0</td>\n",
       "    </tr>\n",
       "    <tr>\n",
       "      <th>11</th>\n",
       "      <td>2018</td>\n",
       "      <td>Republican</td>\n",
       "      <td>11282570.0</td>\n",
       "    </tr>\n",
       "    <tr>\n",
       "      <th>16</th>\n",
       "      <td>2020</td>\n",
       "      <td>Republican</td>\n",
       "      <td>10022932.0</td>\n",
       "    </tr>\n",
       "  </tbody>\n",
       "</table>\n",
       "</div>"
      ],
      "text/plain": [
       "    Election Year       Party      Amount\n",
       "5            2016  Republican  12940514.0\n",
       "11           2018  Republican  11282570.0\n",
       "16           2020  Republican  10022932.0"
      ]
     },
     "execution_count": 10,
     "metadata": {},
     "output_type": "execute_result"
    }
   ],
   "source": [
    "dfer=dfe.loc[dfe['Party'] =='Republican']\n",
    "dfer"
   ]
  },
  {
   "cell_type": "code",
   "execution_count": 11,
   "id": "fe752dc9",
   "metadata": {},
   "outputs": [
    {
     "data": {
      "text/html": [
       "<div>\n",
       "<style scoped>\n",
       "    .dataframe tbody tr th:only-of-type {\n",
       "        vertical-align: middle;\n",
       "    }\n",
       "\n",
       "    .dataframe tbody tr th {\n",
       "        vertical-align: top;\n",
       "    }\n",
       "\n",
       "    .dataframe thead th {\n",
       "        text-align: right;\n",
       "    }\n",
       "</style>\n",
       "<table border=\"1\" class=\"dataframe\">\n",
       "  <thead>\n",
       "    <tr style=\"text-align: right;\">\n",
       "      <th></th>\n",
       "      <th>Election Year</th>\n",
       "      <th>Party</th>\n",
       "      <th>Amount</th>\n",
       "    </tr>\n",
       "  </thead>\n",
       "  <tbody>\n",
       "    <tr>\n",
       "      <th>3</th>\n",
       "      <td>2016</td>\n",
       "      <td>Democrat</td>\n",
       "      <td>4065094.0</td>\n",
       "    </tr>\n",
       "    <tr>\n",
       "      <th>9</th>\n",
       "      <td>2018</td>\n",
       "      <td>Democrat</td>\n",
       "      <td>4174212.0</td>\n",
       "    </tr>\n",
       "    <tr>\n",
       "      <th>15</th>\n",
       "      <td>2020</td>\n",
       "      <td>Democrat</td>\n",
       "      <td>1874333.0</td>\n",
       "    </tr>\n",
       "  </tbody>\n",
       "</table>\n",
       "</div>"
      ],
      "text/plain": [
       "    Election Year     Party     Amount\n",
       "3            2016  Democrat  4065094.0\n",
       "9            2018  Democrat  4174212.0\n",
       "15           2020  Democrat  1874333.0"
      ]
     },
     "execution_count": 11,
     "metadata": {},
     "output_type": "execute_result"
    }
   ],
   "source": [
    "dfed=dfe.loc[dfe['Party'] =='Democrat']\n",
    "dfed"
   ]
  },
  {
   "cell_type": "code",
   "execution_count": 12,
   "id": "1aad00e4",
   "metadata": {},
   "outputs": [
    {
     "name": "stdout",
     "output_type": "stream",
     "text": [
      "<class 'pandas.core.frame.DataFrame'>\n",
      "Index: 2798 entries, Adam Silver to Zygi Wilf\n",
      "Data columns (total 6 columns):\n",
      " #   Column         Non-Null Count  Dtype  \n",
      "---  ------         --------------  -----  \n",
      " 0   Team           2798 non-null   object \n",
      " 1   League         2798 non-null   object \n",
      " 2   Recipient      2798 non-null   object \n",
      " 3   Amount         2798 non-null   float64\n",
      " 4   Election Year  2798 non-null   object \n",
      " 5   Party          2789 non-null   object \n",
      "dtypes: float64(1), object(5)\n",
      "memory usage: 153.0+ KB\n"
     ]
    }
   ],
   "source": [
    "dfsum=df[\"Amount\"].sum()\n",
    "\n",
    "dfsum\n",
    "df.info()"
   ]
  },
  {
   "cell_type": "code",
   "execution_count": 13,
   "id": "24237e7e",
   "metadata": {},
   "outputs": [
    {
     "data": {
      "text/plain": [
       "12366233.0"
      ]
     },
     "execution_count": 13,
     "metadata": {},
     "output_type": "execute_result"
    }
   ],
   "source": [
    "dfy=df.loc[(df[\"Election Year\"] == 2020)]\n",
    "dfq= dfy[\"Amount\"].sum()\n",
    "dfq"
   ]
  },
  {
   "cell_type": "code",
   "execution_count": 14,
   "id": "320ec91f",
   "metadata": {},
   "outputs": [
    {
     "data": {
      "text/html": [
       "<div>\n",
       "<style scoped>\n",
       "    .dataframe tbody tr th:only-of-type {\n",
       "        vertical-align: middle;\n",
       "    }\n",
       "\n",
       "    .dataframe tbody tr th {\n",
       "        vertical-align: top;\n",
       "    }\n",
       "\n",
       "    .dataframe thead th {\n",
       "        text-align: right;\n",
       "    }\n",
       "</style>\n",
       "<table border=\"1\" class=\"dataframe\">\n",
       "  <thead>\n",
       "    <tr style=\"text-align: right;\">\n",
       "      <th></th>\n",
       "      <th>Election Year</th>\n",
       "      <th>Party</th>\n",
       "      <th>Amount</th>\n",
       "    </tr>\n",
       "  </thead>\n",
       "  <tbody>\n",
       "    <tr>\n",
       "      <th>3</th>\n",
       "      <td>2016</td>\n",
       "      <td>Democrat</td>\n",
       "      <td>4065094.0</td>\n",
       "    </tr>\n",
       "    <tr>\n",
       "      <th>9</th>\n",
       "      <td>2018</td>\n",
       "      <td>Democrat</td>\n",
       "      <td>4174212.0</td>\n",
       "    </tr>\n",
       "    <tr>\n",
       "      <th>15</th>\n",
       "      <td>2020</td>\n",
       "      <td>Democrat</td>\n",
       "      <td>1874333.0</td>\n",
       "    </tr>\n",
       "  </tbody>\n",
       "</table>\n",
       "</div>"
      ],
      "text/plain": [
       "    Election Year     Party     Amount\n",
       "3            2016  Democrat  4065094.0\n",
       "9            2018  Democrat  4174212.0\n",
       "15           2020  Democrat  1874333.0"
      ]
     },
     "execution_count": 14,
     "metadata": {},
     "output_type": "execute_result"
    }
   ],
   "source": [
    "dfed[\"Amount\"].sum()\n",
    "dfed"
   ]
  },
  {
   "cell_type": "code",
   "execution_count": 15,
   "id": "a393bc9e",
   "metadata": {},
   "outputs": [
    {
     "data": {
      "text/plain": [
       "1874333.0"
      ]
     },
     "execution_count": 15,
     "metadata": {},
     "output_type": "execute_result"
    }
   ],
   "source": [
    "dfy2=df.loc[(df[\"Election Year\"] == 2020)& (df[\"Party\"] == \"Democrat\")]\n",
    "dfq2= dfy2[\"Amount\"].sum()\n",
    "dfq2"
   ]
  },
  {
   "cell_type": "code",
   "execution_count": 16,
   "id": "561054c0",
   "metadata": {},
   "outputs": [],
   "source": [
    "dfq3=dfq2/dfq\n",
    "\n",
    "\n"
   ]
  },
  {
   "cell_type": "code",
   "execution_count": 17,
   "id": "b07dbb3a",
   "metadata": {},
   "outputs": [
    {
     "data": {
      "text/plain": [
       "0.15156863047946775"
      ]
     },
     "execution_count": 17,
     "metadata": {},
     "output_type": "execute_result"
    }
   ],
   "source": [
    "dfq3"
   ]
  },
  {
   "cell_type": "code",
   "execution_count": 18,
   "id": "659469e4",
   "metadata": {},
   "outputs": [
    {
     "data": {
      "text/html": [
       "<div>\n",
       "<style scoped>\n",
       "    .dataframe tbody tr th:only-of-type {\n",
       "        vertical-align: middle;\n",
       "    }\n",
       "\n",
       "    .dataframe tbody tr th {\n",
       "        vertical-align: top;\n",
       "    }\n",
       "\n",
       "    .dataframe thead th {\n",
       "        text-align: right;\n",
       "    }\n",
       "</style>\n",
       "<table border=\"1\" class=\"dataframe\">\n",
       "  <thead>\n",
       "    <tr style=\"text-align: right;\">\n",
       "      <th></th>\n",
       "      <th>Election Year</th>\n",
       "      <th>Amount</th>\n",
       "    </tr>\n",
       "  </thead>\n",
       "  <tbody>\n",
       "    <tr>\n",
       "      <th>0</th>\n",
       "      <td>2016</td>\n",
       "      <td>17679696.0</td>\n",
       "    </tr>\n",
       "    <tr>\n",
       "      <th>1</th>\n",
       "      <td>2018</td>\n",
       "      <td>16932768.0</td>\n",
       "    </tr>\n",
       "    <tr>\n",
       "      <th>2</th>\n",
       "      <td>2020</td>\n",
       "      <td>12366233.0</td>\n",
       "    </tr>\n",
       "  </tbody>\n",
       "</table>\n",
       "</div>"
      ],
      "text/plain": [
       "   Election Year      Amount\n",
       "0           2016  17679696.0\n",
       "1           2018  16932768.0\n",
       "2           2020  12366233.0"
      ]
     },
     "execution_count": 18,
     "metadata": {},
     "output_type": "execute_result"
    }
   ],
   "source": [
    "dfyr=df.groupby(['Election Year'], as_index=False)['Amount'].sum()\n",
    "\n",
    "dfyr"
   ]
  },
  {
   "cell_type": "code",
   "execution_count": null,
   "id": "8c2a8cca",
   "metadata": {},
   "outputs": [],
   "source": [
    "y=dfyr[\"Amount\"]\n",
    "x=dfyr[\"Election Year\"]\n",
    "plt.bar(dfyr[\"Election Year\"],dfyr[\"Amount\"])\n",
    "plt.xticks(np.arange(min(x), max(x)+1, 2.0))\n",
    "plt.yticks(np.arange(min(1), max(y)+1, 2.0))\n",
    "plt.show()"
   ]
  },
  {
   "cell_type": "code",
   "execution_count": null,
   "id": "574fba44",
   "metadata": {},
   "outputs": [],
   "source": [
    "df.info()"
   ]
  },
  {
   "cell_type": "code",
   "execution_count": null,
   "id": "9f6a97f6",
   "metadata": {},
   "outputs": [],
   "source": []
  }
 ],
 "metadata": {
  "kernelspec": {
   "display_name": "Python 3",
   "language": "python",
   "name": "python3"
  },
  "language_info": {
   "codemirror_mode": {
    "name": "ipython",
    "version": 3
   },
   "file_extension": ".py",
   "mimetype": "text/x-python",
   "name": "python",
   "nbconvert_exporter": "python",
   "pygments_lexer": "ipython3",
   "version": "3.8.8"
  }
 },
 "nbformat": 4,
 "nbformat_minor": 5
}

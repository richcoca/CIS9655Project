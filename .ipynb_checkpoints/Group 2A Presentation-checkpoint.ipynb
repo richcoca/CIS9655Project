{
 "cells": [
  {
   "cell_type": "code",
   "execution_count": 154,
   "id": "663ab958",
   "metadata": {},
   "outputs": [
    {
     "data": {
      "text/plain": [
       "Owner\n",
       "Adam Silver    NBA\n",
       "Adam Silver    NBA\n",
       "Adam Silver    NBA\n",
       "Adam Silver    NBA\n",
       "Adam Silver    NBA\n",
       "              ... \n",
       "Zygi Wilf      NFL\n",
       "Zygi Wilf      NFL\n",
       "Zygi Wilf      NFL\n",
       "Zygi Wilf      NFL\n",
       "Zygi Wilf      NFL\n",
       "Name: League, Length: 2798, dtype: object"
      ]
     },
     "execution_count": 154,
     "metadata": {},
     "output_type": "execute_result"
    }
   ],
   "source": [
    "import pandas as pd\n",
    "import numpy as np\n",
    "import matplotlib.pyplot as plt\n",
    "import matplotlib.patches as mpatches\n",
    "\n",
    "sports= \"SPD.csv\"\n",
    "sport= 'SPD(League only) .csv'\n",
    "\n",
    "df = pd.read_csv(sports,index_col=0, parse_dates=True)\n",
    "dfd = pd.read_csv(sport)\n",
    "dfd['League'].str.strip()\n",
    "df['League'].str.strip()"
   ]
  },
  {
   "cell_type": "code",
   "execution_count": 155,
   "id": "f9d9d8c3",
   "metadata": {},
   "outputs": [
    {
     "data": {
      "text/html": [
       "<div>\n",
       "<style scoped>\n",
       "    .dataframe tbody tr th:only-of-type {\n",
       "        vertical-align: middle;\n",
       "    }\n",
       "\n",
       "    .dataframe tbody tr th {\n",
       "        vertical-align: top;\n",
       "    }\n",
       "\n",
       "    .dataframe thead th {\n",
       "        text-align: right;\n",
       "    }\n",
       "</style>\n",
       "<table border=\"1\" class=\"dataframe\">\n",
       "  <thead>\n",
       "    <tr style=\"text-align: right;\">\n",
       "      <th></th>\n",
       "      <th>Election Year</th>\n",
       "      <th>Amount</th>\n",
       "    </tr>\n",
       "  </thead>\n",
       "  <tbody>\n",
       "    <tr>\n",
       "      <th>0</th>\n",
       "      <td>2016</td>\n",
       "      <td>17679696.0</td>\n",
       "    </tr>\n",
       "    <tr>\n",
       "      <th>1</th>\n",
       "      <td>2018</td>\n",
       "      <td>16932768.0</td>\n",
       "    </tr>\n",
       "    <tr>\n",
       "      <th>2</th>\n",
       "      <td>2020</td>\n",
       "      <td>12366233.0</td>\n",
       "    </tr>\n",
       "  </tbody>\n",
       "</table>\n",
       "</div>"
      ],
      "text/plain": [
       "   Election Year      Amount\n",
       "0           2016  17679696.0\n",
       "1           2018  16932768.0\n",
       "2           2020  12366233.0"
      ]
     },
     "execution_count": 155,
     "metadata": {},
     "output_type": "execute_result"
    }
   ],
   "source": [
    "df[\"Amount\"].sum()\n",
    "dfyr= df.groupby(['Election Year'],as_index=False)['Amount'].sum()\n",
    "dfyr"
   ]
  },
  {
   "cell_type": "code",
   "execution_count": 156,
   "id": "ed92ecdb",
   "metadata": {},
   "outputs": [
    {
     "data": {
      "image/png": "[encoded data removed]",
      "text/plain": [
       "<Figure size 432x288 with 1 Axes>"
      ]
     },
     "metadata": {
      "needs_background": "light"
     },
     "output_type": "display_data"
    }
   ],
   "source": [
    "x = dfyr ['Election Year']\n",
    "plt.bar(dfyr['Election Year'],dfyr['Amount'],color =\"cyan\", width=1.5)\n",
    "plt.ticklabel_format(axis=\"y\",style='plain')\n",
    "plt.xticks(np.arange(min(x),max(x)+1, 2.0))\n",
    "plt.xlabel('Election Year')\n",
    "plt.ylabel('Political Donations ($)')\n",
    "plt.title('Sports Owners Political Donations by Year',fontweight=\"bold\")\n",
    "bbox = dict(boxstyle =\"round\", fc =\"purple\")\n",
    "plt.annotate(\"$17,679,696\",xy=(2016,17500000),xytext=(2015.4,10000000))\n",
    "plt.annotate(\"$16,932,768\",xy=(2018,16932768),xytext=(2017.4,10000000))\n",
    "plt.annotate(\"$12,366,233\",xy=(2016,12366233),xytext=(2019.4,10000000))\n",
    "plt.show()"
   ]
  },
  {
   "cell_type": "code",
   "execution_count": 157,
   "id": "77ad3dff",
   "metadata": {},
   "outputs": [
    {
     "data": {
      "text/html": [
       "<div>\n",
       "<style scoped>\n",
       "    .dataframe tbody tr th:only-of-type {\n",
       "        vertical-align: middle;\n",
       "    }\n",
       "\n",
       "    .dataframe tbody tr th {\n",
       "        vertical-align: top;\n",
       "    }\n",
       "\n",
       "    .dataframe thead th {\n",
       "        text-align: right;\n",
       "    }\n",
       "</style>\n",
       "<table border=\"1\" class=\"dataframe\">\n",
       "  <thead>\n",
       "    <tr style=\"text-align: right;\">\n",
       "      <th></th>\n",
       "      <th>Owner</th>\n",
       "      <th>Team</th>\n",
       "      <th>League</th>\n",
       "      <th>Recipient</th>\n",
       "      <th>Amount</th>\n",
       "      <th>Election Year</th>\n",
       "      <th>Party</th>\n",
       "      <th>City</th>\n",
       "      <th>State</th>\n",
       "    </tr>\n",
       "  </thead>\n",
       "  <tbody>\n",
       "    <tr>\n",
       "      <th>22</th>\n",
       "      <td>Andrew Murstein</td>\n",
       "      <td>Richard Petty Motorsports</td>\n",
       "      <td>NASCAR</td>\n",
       "      <td>Right to Rise USA</td>\n",
       "      <td>1000</td>\n",
       "      <td>2016</td>\n",
       "      <td>Republican</td>\n",
       "      <td>Statesville</td>\n",
       "      <td>North Carolina</td>\n",
       "    </tr>\n",
       "    <tr>\n",
       "      <th>23</th>\n",
       "      <td>Andrew Murstein</td>\n",
       "      <td>Richard Petty Motorsports</td>\n",
       "      <td>NASCAR</td>\n",
       "      <td>Hillary Victory Fund</td>\n",
       "      <td>1000</td>\n",
       "      <td>2016</td>\n",
       "      <td>Democrat</td>\n",
       "      <td>Statesville</td>\n",
       "      <td>North Carolina</td>\n",
       "    </tr>\n",
       "    <tr>\n",
       "      <th>370</th>\n",
       "      <td>Chip Ganassi</td>\n",
       "      <td>Chip Ganassi Racing</td>\n",
       "      <td>NASCAR</td>\n",
       "      <td>Republican Federal Committee of Pennsylvania</td>\n",
       "      <td>5000</td>\n",
       "      <td>2016</td>\n",
       "      <td>Republican</td>\n",
       "      <td>Concord</td>\n",
       "      <td>North Carolina</td>\n",
       "    </tr>\n",
       "    <tr>\n",
       "      <th>371</th>\n",
       "      <td>Chip Ganassi</td>\n",
       "      <td>Chip Ganassi Racing</td>\n",
       "      <td>NASCAR</td>\n",
       "      <td>Republican Federal Committee of Pennsylvania</td>\n",
       "      <td>5000</td>\n",
       "      <td>2020</td>\n",
       "      <td>Republican</td>\n",
       "      <td>Concord</td>\n",
       "      <td>North Carolina</td>\n",
       "    </tr>\n",
       "    <tr>\n",
       "      <th>372</th>\n",
       "      <td>Chip Ganassi</td>\n",
       "      <td>Chip Ganassi Racing</td>\n",
       "      <td>NASCAR</td>\n",
       "      <td>Republican National Committee</td>\n",
       "      <td>1300</td>\n",
       "      <td>2020</td>\n",
       "      <td>Republican</td>\n",
       "      <td>Concord</td>\n",
       "      <td>North Carolina</td>\n",
       "    </tr>\n",
       "    <tr>\n",
       "      <th>...</th>\n",
       "      <td>...</td>\n",
       "      <td>...</td>\n",
       "      <td>...</td>\n",
       "      <td>...</td>\n",
       "      <td>...</td>\n",
       "      <td>...</td>\n",
       "      <td>...</td>\n",
       "      <td>...</td>\n",
       "      <td>...</td>\n",
       "    </tr>\n",
       "    <tr>\n",
       "      <th>2021</th>\n",
       "      <td>Roger Penske</td>\n",
       "      <td>Team Penske</td>\n",
       "      <td>NASCAR</td>\n",
       "      <td>Brenda Lawrence for Congress</td>\n",
       "      <td>2433</td>\n",
       "      <td>2016</td>\n",
       "      <td>Democrat</td>\n",
       "      <td>Mooresville</td>\n",
       "      <td>North Carolina</td>\n",
       "    </tr>\n",
       "    <tr>\n",
       "      <th>2022</th>\n",
       "      <td>Roger Penske</td>\n",
       "      <td>Team Penske</td>\n",
       "      <td>NASCAR</td>\n",
       "      <td>Brenda Lawrence for Congress</td>\n",
       "      <td>2000</td>\n",
       "      <td>2020</td>\n",
       "      <td>Democrat</td>\n",
       "      <td>Mooresville</td>\n",
       "      <td>North Carolina</td>\n",
       "    </tr>\n",
       "    <tr>\n",
       "      <th>2023</th>\n",
       "      <td>Roger Penske</td>\n",
       "      <td>Team Penske</td>\n",
       "      <td>NASCAR</td>\n",
       "      <td>Caruso-Cabrera for New York</td>\n",
       "      <td>2000</td>\n",
       "      <td>2020</td>\n",
       "      <td>Democrat</td>\n",
       "      <td>Mooresville</td>\n",
       "      <td>North Carolina</td>\n",
       "    </tr>\n",
       "    <tr>\n",
       "      <th>2294</th>\n",
       "      <td>Troy Stafford</td>\n",
       "      <td>Premium Motorsports</td>\n",
       "      <td>NASCAR</td>\n",
       "      <td>THE RICHARD BURR COMMITTEE</td>\n",
       "      <td>250</td>\n",
       "      <td>2016</td>\n",
       "      <td>Republican</td>\n",
       "      <td>Mooresville</td>\n",
       "      <td>North Carolina</td>\n",
       "    </tr>\n",
       "    <tr>\n",
       "      <th>3131</th>\n",
       "      <td>John W. Henry</td>\n",
       "      <td>Roush Fenway Racing</td>\n",
       "      <td>NASCAR</td>\n",
       "      <td>Dodson for Senate - Wyoming First</td>\n",
       "      <td>2700</td>\n",
       "      <td>2018</td>\n",
       "      <td>Republican</td>\n",
       "      <td>Concord</td>\n",
       "      <td>North Carolina</td>\n",
       "    </tr>\n",
       "  </tbody>\n",
       "</table>\n",
       "<p>80 rows × 9 columns</p>\n",
       "</div>"
      ],
      "text/plain": [
       "                Owner                       Team  League  \\\n",
       "22    Andrew Murstein  Richard Petty Motorsports  NASCAR   \n",
       "23    Andrew Murstein  Richard Petty Motorsports  NASCAR   \n",
       "370      Chip Ganassi        Chip Ganassi Racing  NASCAR   \n",
       "371      Chip Ganassi        Chip Ganassi Racing  NASCAR   \n",
       "372      Chip Ganassi        Chip Ganassi Racing  NASCAR   \n",
       "...               ...                        ...     ...   \n",
       "2021     Roger Penske                Team Penske  NASCAR   \n",
       "2022     Roger Penske                Team Penske  NASCAR   \n",
       "2023     Roger Penske                Team Penske  NASCAR   \n",
       "2294    Troy Stafford        Premium Motorsports  NASCAR   \n",
       "3131    John W. Henry        Roush Fenway Racing  NASCAR   \n",
       "\n",
       "                                         Recipient  Amount  Election Year  \\\n",
       "22                               Right to Rise USA    1000           2016   \n",
       "23                            Hillary Victory Fund    1000           2016   \n",
       "370   Republican Federal Committee of Pennsylvania    5000           2016   \n",
       "371   Republican Federal Committee of Pennsylvania    5000           2020   \n",
       "372                  Republican National Committee    1300           2020   \n",
       "...                                            ...     ...            ...   \n",
       "2021                  Brenda Lawrence for Congress    2433           2016   \n",
       "2022                  Brenda Lawrence for Congress    2000           2020   \n",
       "2023                   Caruso-Cabrera for New York    2000           2020   \n",
       "2294                    THE RICHARD BURR COMMITTEE     250           2016   \n",
       "3131             Dodson for Senate - Wyoming First    2700           2018   \n",
       "\n",
       "           Party         City            State  \n",
       "22    Republican  Statesville   North Carolina  \n",
       "23      Democrat  Statesville   North Carolina  \n",
       "370   Republican      Concord   North Carolina  \n",
       "371   Republican      Concord   North Carolina  \n",
       "372   Republican      Concord   North Carolina  \n",
       "...          ...          ...              ...  \n",
       "2021    Democrat  Mooresville   North Carolina  \n",
       "2022    Democrat  Mooresville   North Carolina  \n",
       "2023    Democrat  Mooresville   North Carolina  \n",
       "2294  Republican  Mooresville   North Carolina  \n",
       "3131  Republican      Concord   North Carolina  \n",
       "\n",
       "[80 rows x 9 columns]"
      ]
     },
     "execution_count": 157,
     "metadata": {},
     "output_type": "execute_result"
    }
   ],
   "source": [
    "dfmlb2= dfd.loc[dfd[\"League\"]==\"MLB\"]\n",
    "dfmlb= dfmlb2.groupby(['Election Year'], as_index = False)['Amount'].sum()\n",
    "dfmlb\n",
    "dfnba2= dfd.loc[dfd[\"League\"]==\"NBA\"]\n",
    "dfnba= dfnba2.groupby(['Election Year'], as_index = False)['Amount'].sum()\n",
    "dfnba\n",
    "dfnfl2= dfd.loc[dfd[\"League\"]==\"NFL\"]\n",
    "dfnfl= dfnfl2.groupby(['Election Year'], as_index = False)['Amount'].sum()\n",
    "dfnfl\n",
    "dfwnba2= dfd.loc[dfd[\"League\"]==\"WNBA\"]\n",
    "dfwnba= dfwnba2.groupby(['Election Year'], as_index = False)['Amount'].sum()\n",
    "dfwnba\n",
    "dfnhl2= dfd.loc[dfd[\"League\"]==\"NHL\"]\n",
    "dfnhl= dfnhl2.groupby(['Election Year'], as_index = False)['Amount'].sum()\n",
    "dfnhl\n",
    "dfnas2= dfd.loc[dfd[\"League\"]==\"NASCAR\"]\n",
    "dfnas= dfnas2.groupby(['Election Year'], as_index = False)['Amount'].sum()\n",
    "dfnas2"
   ]
  },
  {
   "cell_type": "code",
   "execution_count": 158,
   "id": "e21f3e21",
   "metadata": {},
   "outputs": [
    {
     "data": {
      "image/png": "[encoded data removed]",
      "text/plain": [
       "<Figure size 1200x600 with 6 Axes>"
      ]
     },
     "metadata": {
      "needs_background": "light"
     },
     "output_type": "display_data"
    }
   ],
   "source": [
    "x = dfyr ['Election Year']\n",
    "fig, ax = plt.subplots(1,6,sharex=True, sharey=True,figsize=(12,6))\n",
    "lo=ax[0].bar(dfmlb['Election Year'],dfmlb['Amount'],color =\"blue\", width=1.5)\n",
    "ll=ax[1].bar(dfnba['Election Year'],dfnba['Amount'],color ='red', width=1.5)\n",
    "a=ax[3].bar(dfnfl['Election Year'],dfnfl['Amount'],color ='green', width=1.5)\n",
    "l=ax[2].bar(dfnhl['Election Year'],dfnhl['Amount'],color ='teal', width=1.5)\n",
    "h=ax[4].bar(dfwnba['Election Year'],dfwnba['Amount'],color ='purple', width=1.5)\n",
    "hh=ax[5].bar(dfnas['Election Year'],dfnas['Amount'],color ='pink', width=1.5)\n",
    "ax[0].ticklabel_format(axis=\"y\",style='plain')\n",
    "plt.subplots_adjust(wspace=.1)\n",
    "ax[0].ticklabel_format(axis=\"x\",style='plain')\n",
    "ax[2].set_xlabel('Election Year')\n",
    "ax[0].set_ylabel('Political Donations ($)')\n",
    "ax[2].set_title('Sports Leagues Political Donations by Year',fontweight=\"bold\")\n",
    "\n",
    "ax[0].spines['right'].set_visible(False)\n",
    "ax[0].spines['top'].set_visible(False)\n",
    "ax[1].spines['right'].set_visible(False)\n",
    "ax[1].spines['top'].set_visible(False)\n",
    "ax[2].spines['right'].set_visible(False)\n",
    "ax[2].spines['top'].set_visible(False)\n",
    "ax[3].spines['right'].set_visible(False)\n",
    "ax[3].spines['top'].set_visible(False)\n",
    "ax[4].spines['right'].set_visible(False)\n",
    "ax[4].spines['top'].set_visible(False)\n",
    "ax[5].spines['right'].set_visible(False)\n",
    "ax[5].spines['top'].set_visible(False)\n",
    "ax[1].spines['left'].set_visible(False)\n",
    "ax[2].spines['left'].set_visible(False)\n",
    "ax[3].spines['left'].set_visible(False)\n",
    "ax[4].spines['left'].set_visible(False)\n",
    "ax[5].spines['left'].set_visible(False)\n",
    "ax[1].tick_params(left = False)\n",
    "ax[2].tick_params(left = False)\n",
    "ax[3].tick_params(left = False)\n",
    "ax[4].tick_params(left = False)\n",
    "ax[5].tick_params(left = False)\n",
    "plt.xticks(np.arange(min(x),max(x)+1, 2.0))\n",
    "ax[4].legend((lo, ll, l, a, h, hh),\n",
    "           ('MLB', 'NBA', 'NHL', 'NFL', 'WNBA', 'NASCAR'),\n",
    "           scatterpoints=1,\n",
    "           loc='center right',\n",
    "           ncol=3,\n",
    "           fontsize=12)\n",
    "fig.set_dpi(100)\n",
    "plt.show\n",
    "plt.sca(ax[0])\n",
    "# Put percentage change by year in each subsequent bar\n",
    "# above each bar put the percent of all donation for the year\n",
    "# find out how to change annotation text colors\n",
    "#add league to the bars remove x label and add legend for colors\n",
    "#3 graphs leagues color coded "
   ]
  },
  {
   "cell_type": "code",
   "execution_count": 159,
   "id": "6b555aa5",
   "metadata": {},
   "outputs": [
    {
     "data": {
      "text/html": [
       "<div>\n",
       "<style scoped>\n",
       "    .dataframe tbody tr th:only-of-type {\n",
       "        vertical-align: middle;\n",
       "    }\n",
       "\n",
       "    .dataframe tbody tr th {\n",
       "        vertical-align: top;\n",
       "    }\n",
       "\n",
       "    .dataframe thead th {\n",
       "        text-align: right;\n",
       "    }\n",
       "</style>\n",
       "<table border=\"1\" class=\"dataframe\">\n",
       "  <thead>\n",
       "    <tr style=\"text-align: right;\">\n",
       "      <th></th>\n",
       "      <th>Team</th>\n",
       "      <th>League</th>\n",
       "      <th>Count</th>\n",
       "    </tr>\n",
       "  </thead>\n",
       "  <tbody>\n",
       "    <tr>\n",
       "      <th>0</th>\n",
       "      <td>Anaheim Ducks</td>\n",
       "      <td>NHL</td>\n",
       "      <td>11</td>\n",
       "    </tr>\n",
       "    <tr>\n",
       "      <th>1</th>\n",
       "      <td>Arizona Cardinals</td>\n",
       "      <td>NFL</td>\n",
       "      <td>31</td>\n",
       "    </tr>\n",
       "    <tr>\n",
       "      <th>2</th>\n",
       "      <td>Arizona Coyotes</td>\n",
       "      <td>NHL</td>\n",
       "      <td>3</td>\n",
       "    </tr>\n",
       "    <tr>\n",
       "      <th>3</th>\n",
       "      <td>Arizona Diamondbacks</td>\n",
       "      <td>MLB</td>\n",
       "      <td>86</td>\n",
       "    </tr>\n",
       "    <tr>\n",
       "      <th>4</th>\n",
       "      <td>Atlanta Dream</td>\n",
       "      <td>WNBA</td>\n",
       "      <td>44</td>\n",
       "    </tr>\n",
       "    <tr>\n",
       "      <th>...</th>\n",
       "      <td>...</td>\n",
       "      <td>...</td>\n",
       "      <td>...</td>\n",
       "    </tr>\n",
       "    <tr>\n",
       "      <th>126</th>\n",
       "      <td>Washington Capitals</td>\n",
       "      <td>NHL</td>\n",
       "      <td>15</td>\n",
       "    </tr>\n",
       "    <tr>\n",
       "      <th>127</th>\n",
       "      <td>Washington Football Team</td>\n",
       "      <td>NFL</td>\n",
       "      <td>7</td>\n",
       "    </tr>\n",
       "    <tr>\n",
       "      <th>128</th>\n",
       "      <td>Washington Mystics</td>\n",
       "      <td>WNBA</td>\n",
       "      <td>15</td>\n",
       "    </tr>\n",
       "    <tr>\n",
       "      <th>129</th>\n",
       "      <td>Washington Nationals</td>\n",
       "      <td>MLB</td>\n",
       "      <td>9</td>\n",
       "    </tr>\n",
       "    <tr>\n",
       "      <th>130</th>\n",
       "      <td>Washington Wizards</td>\n",
       "      <td>NBA</td>\n",
       "      <td>15</td>\n",
       "    </tr>\n",
       "  </tbody>\n",
       "</table>\n",
       "<p>130 rows × 3 columns</p>\n",
       "</div>"
      ],
      "text/plain": [
       "                         Team League  Count\n",
       "0               Anaheim Ducks    NHL     11\n",
       "1           Arizona Cardinals    NFL     31\n",
       "2             Arizona Coyotes    NHL      3\n",
       "3        Arizona Diamondbacks    MLB     86\n",
       "4               Atlanta Dream   WNBA     44\n",
       "..                        ...    ...    ...\n",
       "126       Washington Capitals    NHL     15\n",
       "127  Washington Football Team    NFL      7\n",
       "128        Washington Mystics   WNBA     15\n",
       "129      Washington Nationals    MLB      9\n",
       "130        Washington Wizards    NBA     15\n",
       "\n",
       "[130 rows x 3 columns]"
      ]
     },
     "execution_count": 159,
     "metadata": {},
     "output_type": "execute_result"
    }
   ],
   "source": [
    "x = dfd.groupby([\"Team\", \"League\"],as_index=False)[\"Amount\"].count()\n",
    "x = x.rename(columns={\"Amount\":\"Count\"})\n",
    "\n",
    "\n",
    "x2 = x[x['Team'] != 'San Francisco Giants']\n",
    "x2"
   ]
  },
  {
   "cell_type": "code",
   "execution_count": 160,
   "id": "12cba889",
   "metadata": {},
   "outputs": [
    {
     "name": "stdout",
     "output_type": "stream",
     "text": [
      "['yellow', 'green', 'yellow', 'blue', 'purple', 'green', 'red', 'blue', 'green', 'yellow', 'red', 'blue', 'green', 'yellow', 'yellow', 'green', 'green', 'yellow', 'red', 'blue', 'purple', 'blue', 'pink', 'green', 'blue', 'green', 'red', 'blue', 'yellow', 'blue', 'yellow', 'blue', 'red', 'green', 'yellow', 'purple', 'green', 'purple', 'green', 'red', 'green', 'red', 'yellow', 'blue', 'yellow', 'red', 'green', 'pink', 'blue', 'red', 'green', 'purple', 'red', 'green', 'pink', 'green', 'blue', 'red', 'purple', 'green', 'blue', 'green', 'blue', 'yellow', 'red', 'green', 'purple', 'green', 'red', 'blue', 'blue', 'red', 'purple', 'red', 'blue', 'green', 'yellow', 'yellow', 'green', 'yellow', 'red', 'green', 'green', 'yellow', 'green', 'red', 'blue', 'yellow', 'blue', 'blue', 'red', 'red', 'red', 'green', 'yellow', 'blue', 'purple', 'red', 'yellow', 'blue', 'green', 'red', 'pink', 'pink', 'pink', 'pink', 'red', 'yellow', 'blue', 'green', 'blue', 'yellow', 'blue', 'green', 'purple', 'pink', 'blue', 'pink', 'green', 'yellow', 'blue', 'pink', 'green', 'blue', 'red', 'yellow', 'yellow', 'green', 'purple', 'blue', 'red']\n",
      "131\n"
     ]
    },
    {
     "data": {
      "text/html": [
       "<div>\n",
       "<style scoped>\n",
       "    .dataframe tbody tr th:only-of-type {\n",
       "        vertical-align: middle;\n",
       "    }\n",
       "\n",
       "    .dataframe tbody tr th {\n",
       "        vertical-align: top;\n",
       "    }\n",
       "\n",
       "    .dataframe thead th {\n",
       "        text-align: right;\n",
       "    }\n",
       "</style>\n",
       "<table border=\"1\" class=\"dataframe\">\n",
       "  <thead>\n",
       "    <tr style=\"text-align: right;\">\n",
       "      <th></th>\n",
       "      <th>Team</th>\n",
       "      <th>League</th>\n",
       "      <th>Count</th>\n",
       "      <th>colors</th>\n",
       "    </tr>\n",
       "  </thead>\n",
       "  <tbody>\n",
       "    <tr>\n",
       "      <th>80</th>\n",
       "      <td>New Orleans Pelicans</td>\n",
       "      <td>NBA</td>\n",
       "      <td>1</td>\n",
       "      <td>red</td>\n",
       "    </tr>\n",
       "    <tr>\n",
       "      <th>15</th>\n",
       "      <td>Carolina Panthers</td>\n",
       "      <td>NFL</td>\n",
       "      <td>1</td>\n",
       "      <td>green</td>\n",
       "    </tr>\n",
       "    <tr>\n",
       "      <th>102</th>\n",
       "      <td>Premium Motorsports</td>\n",
       "      <td>NASCAR</td>\n",
       "      <td>1</td>\n",
       "      <td>pink</td>\n",
       "    </tr>\n",
       "    <tr>\n",
       "      <th>10</th>\n",
       "      <td>Boston Celtics</td>\n",
       "      <td>NBA</td>\n",
       "      <td>1</td>\n",
       "      <td>red</td>\n",
       "    </tr>\n",
       "    <tr>\n",
       "      <th>81</th>\n",
       "      <td>New Orleans Saints</td>\n",
       "      <td>NFL</td>\n",
       "      <td>1</td>\n",
       "      <td>green</td>\n",
       "    </tr>\n",
       "    <tr>\n",
       "      <th>...</th>\n",
       "      <td>...</td>\n",
       "      <td>...</td>\n",
       "      <td>...</td>\n",
       "      <td>...</td>\n",
       "    </tr>\n",
       "    <tr>\n",
       "      <th>94</th>\n",
       "      <td>Philadelphia Flyers</td>\n",
       "      <td>NHL</td>\n",
       "      <td>22</td>\n",
       "      <td>yellow</td>\n",
       "    </tr>\n",
       "    <tr>\n",
       "      <th>61</th>\n",
       "      <td>Los Angeles Chargers</td>\n",
       "      <td>NFL</td>\n",
       "      <td>23</td>\n",
       "      <td>green</td>\n",
       "    </tr>\n",
       "    <tr>\n",
       "      <th>74</th>\n",
       "      <td>Minnesota Twins</td>\n",
       "      <td>MLB</td>\n",
       "      <td>23</td>\n",
       "      <td>blue</td>\n",
       "    </tr>\n",
       "    <tr>\n",
       "      <th>17</th>\n",
       "      <td>Chicago Blackhawks</td>\n",
       "      <td>NHL</td>\n",
       "      <td>23</td>\n",
       "      <td>yellow</td>\n",
       "    </tr>\n",
       "    <tr>\n",
       "      <th>89</th>\n",
       "      <td>Oakland Athletics</td>\n",
       "      <td>MLB</td>\n",
       "      <td>23</td>\n",
       "      <td>blue</td>\n",
       "    </tr>\n",
       "  </tbody>\n",
       "</table>\n",
       "<p>100 rows × 4 columns</p>\n",
       "</div>"
      ],
      "text/plain": [
       "                     Team  League  Count  colors\n",
       "80   New Orleans Pelicans     NBA      1     red\n",
       "15      Carolina Panthers     NFL      1   green\n",
       "102   Premium Motorsports  NASCAR      1    pink\n",
       "10         Boston Celtics     NBA      1     red\n",
       "81     New Orleans Saints     NFL      1   green\n",
       "..                    ...     ...    ...     ...\n",
       "94    Philadelphia Flyers     NHL     22  yellow\n",
       "61   Los Angeles Chargers     NFL     23   green\n",
       "74        Minnesota Twins     MLB     23    blue\n",
       "17     Chicago Blackhawks     NHL     23  yellow\n",
       "89      Oakland Athletics     MLB     23    blue\n",
       "\n",
       "[100 rows x 4 columns]"
      ]
     },
     "execution_count": 160,
     "metadata": {},
     "output_type": "execute_result"
    }
   ],
   "source": [
    "colors = []\n",
    "for i in x[\"League\"]:\n",
    "    if i == \"MLB\" or i== \"MLB \":\n",
    "        colors.append(\"blue\")\n",
    "    elif i == \"NBA\" or i== \"NBA \":\n",
    "        colors.append(\"red\")\n",
    "    elif i == \"NFL\" or i== \"NFL \":\n",
    "        colors.append(\"green\")\n",
    "    elif i == \"NHL\" or i== \"NHL \":\n",
    "        colors.append(\"yellow\")\n",
    "    elif i == \"NASCAR\" or i== \"NASCAR \":\n",
    "        colors.append(\"pink\")\n",
    "    elif i == \"WNBA\" or i== \"WNBA \":\n",
    "        colors.append(\"purple\")\n",
    "    else:\n",
    "        print(i)\n",
    "print(colors)\n",
    "print(len(colors))\n",
    "x[\"colors\"] = colors\n",
    "q=x.sort_values(['Count'],ascending=True)\n",
    "q.head(100)"
   ]
  },
  {
   "cell_type": "code",
   "execution_count": 161,
   "id": "e7462cec",
   "metadata": {},
   "outputs": [
    {
     "name": "stdout",
     "output_type": "stream",
     "text": [
      "['yellow', 'green', 'yellow', 'blue', 'purple', 'green', 'red', 'blue', 'green', 'yellow', 'red', 'blue', 'green', 'yellow', 'yellow', 'green', 'green', 'yellow', 'red', 'blue', 'purple', 'blue', 'pink', 'green', 'blue', 'green', 'red', 'blue', 'yellow', 'blue', 'yellow', 'blue', 'red', 'green', 'yellow', 'purple', 'green', 'purple', 'green', 'red', 'green', 'red', 'yellow', 'blue', 'yellow', 'red', 'green', 'pink', 'blue', 'red', 'green', 'purple', 'red', 'green', 'pink', 'green', 'blue', 'red', 'purple', 'green', 'blue', 'green', 'blue', 'yellow', 'red', 'green', 'purple', 'green', 'red', 'blue', 'blue', 'red', 'purple', 'red', 'blue', 'green', 'yellow', 'yellow', 'green', 'yellow', 'red', 'green', 'green', 'yellow', 'green', 'red', 'blue', 'yellow', 'blue', 'blue', 'red', 'red', 'red', 'green', 'yellow', 'blue', 'purple', 'red', 'yellow', 'blue', 'green', 'red', 'pink', 'pink', 'pink', 'pink', 'red', 'yellow', 'blue', 'green', 'yellow', 'blue', 'green', 'purple', 'pink', 'blue', 'pink', 'green', 'yellow', 'blue', 'pink', 'green', 'blue', 'red', 'yellow', 'yellow', 'green', 'purple', 'blue', 'red']\n",
      "130\n"
     ]
    }
   ],
   "source": [
    "colors = []\n",
    "for i in x2[\"League\"]:\n",
    "    if i == \"MLB\" or i== \"MLB \":\n",
    "        colors.append(\"blue\")\n",
    "    elif i == \"NBA\" or i== \"NBA \":\n",
    "        colors.append(\"red\")\n",
    "    elif i == \"NFL\" or i== \"NFL \":\n",
    "        colors.append(\"green\")\n",
    "    elif i == \"NHL\" or i== \"NHL \":\n",
    "        colors.append(\"yellow\")\n",
    "    elif i == \"NASCAR\" or i== \"NASCAR \":\n",
    "        colors.append(\"pink\")\n",
    "    elif i == \"WNBA\" or i== \"WNBA \":\n",
    "        colors.append(\"purple\")\n",
    "    else:\n",
    "        print(i)\n",
    "print(colors)\n",
    "print(len(colors))"
   ]
  },
  {
   "cell_type": "code",
   "execution_count": 162,
   "id": "9914376e",
   "metadata": {},
   "outputs": [
    {
     "name": "stderr",
     "output_type": "stream",
     "text": [
      "<ipython-input-162-2b33b1da039f>:1: SettingWithCopyWarning: \n",
      "A value is trying to be set on a copy of a slice from a DataFrame.\n",
      "Try using .loc[row_indexer,col_indexer] = value instead\n",
      "\n",
      "See the caveats in the documentation: https://pandas.pydata.org/pandas-docs/stable/user_guide/indexing.html#returning-a-view-versus-a-copy\n",
      "  x2[\"colors\"] = colors\n"
     ]
    },
    {
     "data": {
      "text/html": [
       "<div>\n",
       "<style scoped>\n",
       "    .dataframe tbody tr th:only-of-type {\n",
       "        vertical-align: middle;\n",
       "    }\n",
       "\n",
       "    .dataframe tbody tr th {\n",
       "        vertical-align: top;\n",
       "    }\n",
       "\n",
       "    .dataframe thead th {\n",
       "        text-align: right;\n",
       "    }\n",
       "</style>\n",
       "<table border=\"1\" class=\"dataframe\">\n",
       "  <thead>\n",
       "    <tr style=\"text-align: right;\">\n",
       "      <th></th>\n",
       "      <th>Team</th>\n",
       "      <th>League</th>\n",
       "      <th>Count</th>\n",
       "      <th>colors</th>\n",
       "    </tr>\n",
       "  </thead>\n",
       "  <tbody>\n",
       "    <tr>\n",
       "      <th>0</th>\n",
       "      <td>Anaheim Ducks</td>\n",
       "      <td>NHL</td>\n",
       "      <td>11</td>\n",
       "      <td>yellow</td>\n",
       "    </tr>\n",
       "    <tr>\n",
       "      <th>1</th>\n",
       "      <td>Arizona Cardinals</td>\n",
       "      <td>NFL</td>\n",
       "      <td>31</td>\n",
       "      <td>green</td>\n",
       "    </tr>\n",
       "    <tr>\n",
       "      <th>2</th>\n",
       "      <td>Arizona Coyotes</td>\n",
       "      <td>NHL</td>\n",
       "      <td>3</td>\n",
       "      <td>yellow</td>\n",
       "    </tr>\n",
       "    <tr>\n",
       "      <th>3</th>\n",
       "      <td>Arizona Diamondbacks</td>\n",
       "      <td>MLB</td>\n",
       "      <td>86</td>\n",
       "      <td>blue</td>\n",
       "    </tr>\n",
       "    <tr>\n",
       "      <th>4</th>\n",
       "      <td>Atlanta Dream</td>\n",
       "      <td>WNBA</td>\n",
       "      <td>44</td>\n",
       "      <td>purple</td>\n",
       "    </tr>\n",
       "    <tr>\n",
       "      <th>...</th>\n",
       "      <td>...</td>\n",
       "      <td>...</td>\n",
       "      <td>...</td>\n",
       "      <td>...</td>\n",
       "    </tr>\n",
       "    <tr>\n",
       "      <th>126</th>\n",
       "      <td>Washington Capitals</td>\n",
       "      <td>NHL</td>\n",
       "      <td>15</td>\n",
       "      <td>yellow</td>\n",
       "    </tr>\n",
       "    <tr>\n",
       "      <th>127</th>\n",
       "      <td>Washington Football Team</td>\n",
       "      <td>NFL</td>\n",
       "      <td>7</td>\n",
       "      <td>green</td>\n",
       "    </tr>\n",
       "    <tr>\n",
       "      <th>128</th>\n",
       "      <td>Washington Mystics</td>\n",
       "      <td>WNBA</td>\n",
       "      <td>15</td>\n",
       "      <td>purple</td>\n",
       "    </tr>\n",
       "    <tr>\n",
       "      <th>129</th>\n",
       "      <td>Washington Nationals</td>\n",
       "      <td>MLB</td>\n",
       "      <td>9</td>\n",
       "      <td>blue</td>\n",
       "    </tr>\n",
       "    <tr>\n",
       "      <th>130</th>\n",
       "      <td>Washington Wizards</td>\n",
       "      <td>NBA</td>\n",
       "      <td>15</td>\n",
       "      <td>red</td>\n",
       "    </tr>\n",
       "  </tbody>\n",
       "</table>\n",
       "<p>130 rows × 4 columns</p>\n",
       "</div>"
      ],
      "text/plain": [
       "                         Team League  Count  colors\n",
       "0               Anaheim Ducks    NHL     11  yellow\n",
       "1           Arizona Cardinals    NFL     31   green\n",
       "2             Arizona Coyotes    NHL      3  yellow\n",
       "3        Arizona Diamondbacks    MLB     86    blue\n",
       "4               Atlanta Dream   WNBA     44  purple\n",
       "..                        ...    ...    ...     ...\n",
       "126       Washington Capitals    NHL     15  yellow\n",
       "127  Washington Football Team    NFL      7   green\n",
       "128        Washington Mystics   WNBA     15  purple\n",
       "129      Washington Nationals    MLB      9    blue\n",
       "130        Washington Wizards    NBA     15     red\n",
       "\n",
       "[130 rows x 4 columns]"
      ]
     },
     "execution_count": 162,
     "metadata": {},
     "output_type": "execute_result"
    }
   ],
   "source": [
    "x2[\"colors\"] = colors\n",
    "x2"
   ]
  },
  {
   "cell_type": "code",
   "execution_count": 163,
   "id": "22e33fc0",
   "metadata": {},
   "outputs": [
    {
     "data": {
      "text/html": [
       "<div>\n",
       "<style scoped>\n",
       "    .dataframe tbody tr th:only-of-type {\n",
       "        vertical-align: middle;\n",
       "    }\n",
       "\n",
       "    .dataframe tbody tr th {\n",
       "        vertical-align: top;\n",
       "    }\n",
       "\n",
       "    .dataframe thead th {\n",
       "        text-align: right;\n",
       "    }\n",
       "</style>\n",
       "<table border=\"1\" class=\"dataframe\">\n",
       "  <thead>\n",
       "    <tr style=\"text-align: right;\">\n",
       "      <th></th>\n",
       "      <th>Team</th>\n",
       "      <th>League</th>\n",
       "      <th>Amount</th>\n",
       "    </tr>\n",
       "  </thead>\n",
       "  <tbody>\n",
       "    <tr>\n",
       "      <th>0</th>\n",
       "      <td>Anaheim Ducks</td>\n",
       "      <td>NHL</td>\n",
       "      <td>163100</td>\n",
       "    </tr>\n",
       "    <tr>\n",
       "      <th>1</th>\n",
       "      <td>Arizona Cardinals</td>\n",
       "      <td>NFL</td>\n",
       "      <td>148900</td>\n",
       "    </tr>\n",
       "    <tr>\n",
       "      <th>2</th>\n",
       "      <td>Arizona Coyotes</td>\n",
       "      <td>NHL</td>\n",
       "      <td>8300</td>\n",
       "    </tr>\n",
       "    <tr>\n",
       "      <th>3</th>\n",
       "      <td>Arizona Diamondbacks</td>\n",
       "      <td>MLB</td>\n",
       "      <td>1379700</td>\n",
       "    </tr>\n",
       "    <tr>\n",
       "      <th>4</th>\n",
       "      <td>Atlanta Dream</td>\n",
       "      <td>WNBA</td>\n",
       "      <td>922350</td>\n",
       "    </tr>\n",
       "    <tr>\n",
       "      <th>...</th>\n",
       "      <td>...</td>\n",
       "      <td>...</td>\n",
       "      <td>...</td>\n",
       "    </tr>\n",
       "    <tr>\n",
       "      <th>126</th>\n",
       "      <td>Washington Capitals</td>\n",
       "      <td>NHL</td>\n",
       "      <td>163513</td>\n",
       "    </tr>\n",
       "    <tr>\n",
       "      <th>127</th>\n",
       "      <td>Washington Football Team</td>\n",
       "      <td>NFL</td>\n",
       "      <td>131200</td>\n",
       "    </tr>\n",
       "    <tr>\n",
       "      <th>128</th>\n",
       "      <td>Washington Mystics</td>\n",
       "      <td>WNBA</td>\n",
       "      <td>163513</td>\n",
       "    </tr>\n",
       "    <tr>\n",
       "      <th>129</th>\n",
       "      <td>Washington Nationals</td>\n",
       "      <td>MLB</td>\n",
       "      <td>17500</td>\n",
       "    </tr>\n",
       "    <tr>\n",
       "      <th>130</th>\n",
       "      <td>Washington Wizards</td>\n",
       "      <td>NBA</td>\n",
       "      <td>163513</td>\n",
       "    </tr>\n",
       "  </tbody>\n",
       "</table>\n",
       "<p>130 rows × 3 columns</p>\n",
       "</div>"
      ],
      "text/plain": [
       "                         Team League   Amount\n",
       "0               Anaheim Ducks    NHL   163100\n",
       "1           Arizona Cardinals    NFL   148900\n",
       "2             Arizona Coyotes    NHL     8300\n",
       "3        Arizona Diamondbacks    MLB  1379700\n",
       "4               Atlanta Dream   WNBA   922350\n",
       "..                        ...    ...      ...\n",
       "126       Washington Capitals    NHL   163513\n",
       "127  Washington Football Team    NFL   131200\n",
       "128        Washington Mystics   WNBA   163513\n",
       "129      Washington Nationals    MLB    17500\n",
       "130        Washington Wizards    NBA   163513\n",
       "\n",
       "[130 rows x 3 columns]"
      ]
     },
     "execution_count": 163,
     "metadata": {},
     "output_type": "execute_result"
    }
   ],
   "source": [
    "y=dfd.groupby([\"Team\", \"League\"],as_index=True)[\"Amount\"].sum().reset_index()\n",
    "y = pd.DataFrame(y)\n",
    "y\n",
    "y2= y[y['Team'] != 'San Francisco Giants']\n",
    "y2"
   ]
  },
  {
   "cell_type": "code",
   "execution_count": 164,
   "id": "c37d388b",
   "metadata": {},
   "outputs": [
    {
     "data": {
      "image/png": "[encoded data removed]",
      "text/plain": [
       "<Figure size 720x576 with 1 Axes>"
      ]
     },
     "metadata": {
      "needs_background": "light"
     },
     "output_type": "display_data"
    }
   ],
   "source": [
    "plt.figure(figsize=(10,8))\n",
    "scatter = plt.scatter(x2[\"Count\"],y2[\"Amount\"], color= x2[\"colors\"])\n",
    "plt.xlabel('Number of Donations')\n",
    "plt.ylabel('Political Donations ($)')\n",
    "plt.title('Political Donations by Team',fontweight=\"bold\")\n",
    "\n",
    "blue = mpatches.Patch(color='blue', label='MLB')\n",
    "red = mpatches.Patch(color='red', label='NBA')\n",
    "green = mpatches.Patch(color='green', label='NFL')\n",
    "yellow = mpatches.Patch(color='yellow', label='NHL')\n",
    "pink = mpatches.Patch(color='pink', label='NASCAR')\n",
    "purple = mpatches.Patch(color='purple', label='WNBA')\n",
    "plt.legend(handles=[blue, red, green, yellow, pink, purple])\n",
    "plt.ticklabel_format(axis=\"y\",style='plain')\n",
    "fig.set_dpi(100)\n",
    "plt.show()"
   ]
  },
  {
   "cell_type": "code",
   "execution_count": 165,
   "id": "45c15c7e",
   "metadata": {},
   "outputs": [
    {
     "data": {
      "text/plain": [
       "<Figure size 600x400 with 0 Axes>"
      ]
     },
     "metadata": {},
     "output_type": "display_data"
    },
    {
     "data": {
      "image/png": "[encoded data removed]",
      "text/plain": [
       "<Figure size 720x576 with 1 Axes>"
      ]
     },
     "metadata": {
      "needs_background": "light"
     },
     "output_type": "display_data"
    }
   ],
   "source": [
    "fig =plt.figure()\n",
    "plt.figure(figsize=(10,8))\n",
    "scatter = plt.scatter(x[\"Count\"],y[\"Amount\"], color= x[\"colors\"])\n",
    "blue = mpatches.Patch(color='blue', label='MLB')\n",
    "red = mpatches.Patch(color='red', label='NBA')\n",
    "green = mpatches.Patch(color='green', label='NFL')\n",
    "yellow = mpatches.Patch(color='yellow', label='NHL')\n",
    "pink = mpatches.Patch(color='pink', label='NASCAR')\n",
    "purple = mpatches.Patch(color='purple', label='WNBA')\n",
    "plt.legend(handles=[blue, red, green, yellow, pink, purple])\n",
    "plt.ticklabel_format(axis=\"y\",style='plain')\n",
    "fig.set_dpi(100)\n",
    "plt.show()"
   ]
  },
  {
   "cell_type": "code",
   "execution_count": 166,
   "id": "9582330e",
   "metadata": {},
   "outputs": [],
   "source": [
    "#Kimi's Work\n",
    "\n",
    "# https://public.tableau.com/app/profile/austin2553/viz/Project_16455761147640/PoliticalDonationAmountperState"
   ]
  },
  {
   "cell_type": "code",
   "execution_count": 167,
   "id": "a299f27c",
   "metadata": {},
   "outputs": [],
   "source": [
    "file ='spd.csv'\n",
    "df = pd.read_csv(file, index_col=0, parse_dates=True)"
   ]
  },
  {
   "cell_type": "code",
   "execution_count": 168,
   "id": "91f26f36",
   "metadata": {},
   "outputs": [
    {
     "data": {
      "text/html": [
       "<div>\n",
       "<style scoped>\n",
       "    .dataframe tbody tr th:only-of-type {\n",
       "        vertical-align: middle;\n",
       "    }\n",
       "\n",
       "    .dataframe tbody tr th {\n",
       "        vertical-align: top;\n",
       "    }\n",
       "\n",
       "    .dataframe thead th {\n",
       "        text-align: right;\n",
       "    }\n",
       "</style>\n",
       "<table border=\"1\" class=\"dataframe\">\n",
       "  <thead>\n",
       "    <tr style=\"text-align: right;\">\n",
       "      <th></th>\n",
       "      <th>Election Year</th>\n",
       "      <th>Party</th>\n",
       "      <th>Amount</th>\n",
       "    </tr>\n",
       "  </thead>\n",
       "  <tbody>\n",
       "    <tr>\n",
       "      <th>0</th>\n",
       "      <td>2016</td>\n",
       "      <td>Bipartisan</td>\n",
       "      <td>578050.0</td>\n",
       "    </tr>\n",
       "    <tr>\n",
       "      <th>1</th>\n",
       "      <td>2016</td>\n",
       "      <td>Bipartisan, but mostly Democratic</td>\n",
       "      <td>2000.0</td>\n",
       "    </tr>\n",
       "    <tr>\n",
       "      <th>2</th>\n",
       "      <td>2016</td>\n",
       "      <td>Bipartisan, but mostly Republican</td>\n",
       "      <td>83638.0</td>\n",
       "    </tr>\n",
       "    <tr>\n",
       "      <th>3</th>\n",
       "      <td>2016</td>\n",
       "      <td>Democrat</td>\n",
       "      <td>4065094.0</td>\n",
       "    </tr>\n",
       "    <tr>\n",
       "      <th>4</th>\n",
       "      <td>2016</td>\n",
       "      <td>Independent</td>\n",
       "      <td>2700.0</td>\n",
       "    </tr>\n",
       "    <tr>\n",
       "      <th>5</th>\n",
       "      <td>2016</td>\n",
       "      <td>Republican</td>\n",
       "      <td>12940514.0</td>\n",
       "    </tr>\n",
       "    <tr>\n",
       "      <th>6</th>\n",
       "      <td>2018</td>\n",
       "      <td>Bipartisan</td>\n",
       "      <td>540083.0</td>\n",
       "    </tr>\n",
       "    <tr>\n",
       "      <th>7</th>\n",
       "      <td>2018</td>\n",
       "      <td>Bipartisan, but mostly Democratic</td>\n",
       "      <td>6000.0</td>\n",
       "    </tr>\n",
       "    <tr>\n",
       "      <th>8</th>\n",
       "      <td>2018</td>\n",
       "      <td>Bipartisan, but mostly Republican</td>\n",
       "      <td>99103.0</td>\n",
       "    </tr>\n",
       "    <tr>\n",
       "      <th>9</th>\n",
       "      <td>2018</td>\n",
       "      <td>Democrat</td>\n",
       "      <td>4174212.0</td>\n",
       "    </tr>\n",
       "    <tr>\n",
       "      <th>10</th>\n",
       "      <td>2018</td>\n",
       "      <td>Independent</td>\n",
       "      <td>10800.0</td>\n",
       "    </tr>\n",
       "    <tr>\n",
       "      <th>11</th>\n",
       "      <td>2018</td>\n",
       "      <td>Republican</td>\n",
       "      <td>11282570.0</td>\n",
       "    </tr>\n",
       "    <tr>\n",
       "      <th>12</th>\n",
       "      <td>2020</td>\n",
       "      <td>Bipartisan</td>\n",
       "      <td>356566.0</td>\n",
       "    </tr>\n",
       "    <tr>\n",
       "      <th>13</th>\n",
       "      <td>2020</td>\n",
       "      <td>Bipartisan, but mostly Democratic</td>\n",
       "      <td>2800.0</td>\n",
       "    </tr>\n",
       "    <tr>\n",
       "      <th>14</th>\n",
       "      <td>2020</td>\n",
       "      <td>Bipartisan, but mostly Republican</td>\n",
       "      <td>88352.0</td>\n",
       "    </tr>\n",
       "    <tr>\n",
       "      <th>15</th>\n",
       "      <td>2020</td>\n",
       "      <td>Democrat</td>\n",
       "      <td>1874333.0</td>\n",
       "    </tr>\n",
       "    <tr>\n",
       "      <th>16</th>\n",
       "      <td>2020</td>\n",
       "      <td>Republican</td>\n",
       "      <td>10022932.0</td>\n",
       "    </tr>\n",
       "  </tbody>\n",
       "</table>\n",
       "</div>"
      ],
      "text/plain": [
       "    Election Year                              Party      Amount\n",
       "0            2016                         Bipartisan    578050.0\n",
       "1            2016  Bipartisan, but mostly Democratic      2000.0\n",
       "2            2016  Bipartisan, but mostly Republican     83638.0\n",
       "3            2016                           Democrat   4065094.0\n",
       "4            2016                        Independent      2700.0\n",
       "5            2016                         Republican  12940514.0\n",
       "6            2018                         Bipartisan    540083.0\n",
       "7            2018  Bipartisan, but mostly Democratic      6000.0\n",
       "8            2018  Bipartisan, but mostly Republican     99103.0\n",
       "9            2018                           Democrat   4174212.0\n",
       "10           2018                        Independent     10800.0\n",
       "11           2018                         Republican  11282570.0\n",
       "12           2020                         Bipartisan    356566.0\n",
       "13           2020  Bipartisan, but mostly Democratic      2800.0\n",
       "14           2020  Bipartisan, but mostly Republican     88352.0\n",
       "15           2020                           Democrat   1874333.0\n",
       "16           2020                         Republican  10022932.0"
      ]
     },
     "execution_count": 168,
     "metadata": {},
     "output_type": "execute_result"
    }
   ],
   "source": [
    "dfgroup = df.groupby(['Election Year', 'Party'], as_index=False)['Amount'].sum()\n",
    "dfgroup"
   ]
  },
  {
   "cell_type": "code",
   "execution_count": 169,
   "id": "e7131b2b",
   "metadata": {},
   "outputs": [
    {
     "data": {
      "text/html": [
       "<div>\n",
       "<style scoped>\n",
       "    .dataframe tbody tr th:only-of-type {\n",
       "        vertical-align: middle;\n",
       "    }\n",
       "\n",
       "    .dataframe tbody tr th {\n",
       "        vertical-align: top;\n",
       "    }\n",
       "\n",
       "    .dataframe thead th {\n",
       "        text-align: right;\n",
       "    }\n",
       "</style>\n",
       "<table border=\"1\" class=\"dataframe\">\n",
       "  <thead>\n",
       "    <tr style=\"text-align: right;\">\n",
       "      <th></th>\n",
       "      <th>Election Year</th>\n",
       "      <th>Party</th>\n",
       "      <th>Amount</th>\n",
       "    </tr>\n",
       "  </thead>\n",
       "  <tbody>\n",
       "    <tr>\n",
       "      <th>5</th>\n",
       "      <td>2016</td>\n",
       "      <td>Republican</td>\n",
       "      <td>12940514.0</td>\n",
       "    </tr>\n",
       "    <tr>\n",
       "      <th>11</th>\n",
       "      <td>2018</td>\n",
       "      <td>Republican</td>\n",
       "      <td>11282570.0</td>\n",
       "    </tr>\n",
       "    <tr>\n",
       "      <th>16</th>\n",
       "      <td>2020</td>\n",
       "      <td>Republican</td>\n",
       "      <td>10022932.0</td>\n",
       "    </tr>\n",
       "  </tbody>\n",
       "</table>\n",
       "</div>"
      ],
      "text/plain": [
       "    Election Year       Party      Amount\n",
       "5            2016  Republican  12940514.0\n",
       "11           2018  Republican  11282570.0\n",
       "16           2020  Republican  10022932.0"
      ]
     },
     "execution_count": 169,
     "metadata": {},
     "output_type": "execute_result"
    }
   ],
   "source": [
    "df12=dfgroup.loc[dfgroup['Party'] == 'Republican']\n",
    "df12"
   ]
  },
  {
   "cell_type": "code",
   "execution_count": 170,
   "id": "be90661f",
   "metadata": {},
   "outputs": [
    {
     "data": {
      "text/html": [
       "<div>\n",
       "<style scoped>\n",
       "    .dataframe tbody tr th:only-of-type {\n",
       "        vertical-align: middle;\n",
       "    }\n",
       "\n",
       "    .dataframe tbody tr th {\n",
       "        vertical-align: top;\n",
       "    }\n",
       "\n",
       "    .dataframe thead th {\n",
       "        text-align: right;\n",
       "    }\n",
       "</style>\n",
       "<table border=\"1\" class=\"dataframe\">\n",
       "  <thead>\n",
       "    <tr style=\"text-align: right;\">\n",
       "      <th></th>\n",
       "      <th>Election Year</th>\n",
       "      <th>Party</th>\n",
       "      <th>Amount</th>\n",
       "    </tr>\n",
       "  </thead>\n",
       "  <tbody>\n",
       "    <tr>\n",
       "      <th>3</th>\n",
       "      <td>2016</td>\n",
       "      <td>Democrat</td>\n",
       "      <td>4065094.0</td>\n",
       "    </tr>\n",
       "    <tr>\n",
       "      <th>9</th>\n",
       "      <td>2018</td>\n",
       "      <td>Democrat</td>\n",
       "      <td>4174212.0</td>\n",
       "    </tr>\n",
       "    <tr>\n",
       "      <th>15</th>\n",
       "      <td>2020</td>\n",
       "      <td>Democrat</td>\n",
       "      <td>1874333.0</td>\n",
       "    </tr>\n",
       "  </tbody>\n",
       "</table>\n",
       "</div>"
      ],
      "text/plain": [
       "    Election Year     Party     Amount\n",
       "3            2016  Democrat  4065094.0\n",
       "9            2018  Democrat  4174212.0\n",
       "15           2020  Democrat  1874333.0"
      ]
     },
     "execution_count": 170,
     "metadata": {},
     "output_type": "execute_result"
    }
   ],
   "source": [
    "df123=dfgroup.loc[dfgroup['Party'] == 'Democrat']\n",
    "df123"
   ]
  },
  {
   "cell_type": "code",
   "execution_count": 171,
   "id": "93f7bb7a",
   "metadata": {},
   "outputs": [
    {
     "data": {
      "text/plain": [
       "46129747.0"
      ]
     },
     "execution_count": 171,
     "metadata": {},
     "output_type": "execute_result"
    }
   ],
   "source": [
    "#Total Sum of all 3 years \n",
    "df_sum = dfgroup[\"Amount\"].sum()\n",
    "df_sum"
   ]
  },
  {
   "cell_type": "code",
   "execution_count": 172,
   "id": "1d56aabd",
   "metadata": {},
   "outputs": [
    {
     "data": {
      "text/plain": [
       "73.22610303895497"
      ]
     },
     "execution_count": 172,
     "metadata": {},
     "output_type": "execute_result"
    }
   ],
   "source": [
    "#Calculations for Percentage of Donations By Party For a Specific Year\n",
    "#Republicans2016\n",
    "dfx = dfgroup.loc[(dfgroup[\"Election Year\"]) == 2016] \n",
    "dfy = dfx[\"Amount\"].sum() #Total Amount Donated in only 2016\n",
    "dfz = dfx.loc[(dfx[\"Party\"]) == \"Republican\"] [\"Amount\"].sum()\n",
    "dfz #dfz.info()#dfz[\"Amount\"]\n",
    "r2016 = dfz/dfy*100 #Percent=TotalPartyAmount/TotalAmt2020\n",
    "r2016"
   ]
  },
  {
   "cell_type": "code",
   "execution_count": 173,
   "id": "99502cfa",
   "metadata": {},
   "outputs": [
    {
     "data": {
      "text/plain": [
       "23.003026935949965"
      ]
     },
     "execution_count": 173,
     "metadata": {},
     "output_type": "execute_result"
    }
   ],
   "source": [
    "#Democrat-2016\n",
    "dfg = dfgroup.loc[(dfgroup[\"Election Year\"]) == 2016] \n",
    "dfh = dfg[\"Amount\"].sum()\n",
    "dfi = dfg.loc[(dfg[\"Party\"]) == \"Democrat\"] [\"Amount\"].sum()\n",
    "dfi \n",
    "d2016 = dfi/dfh * 100\n",
    "d2016"
   ]
  },
  {
   "cell_type": "code",
   "execution_count": 174,
   "id": "0f6a4e6f",
   "metadata": {},
   "outputs": [
    {
     "data": {
      "text/plain": [
       "70.02254361261826"
      ]
     },
     "execution_count": 174,
     "metadata": {},
     "output_type": "execute_result"
    }
   ],
   "source": [
    "#Republicans-2018\n",
    "dfa = dfgroup.loc[(dfgroup[\"Election Year\"]) == 2018] \n",
    "dfb = dfa[\"Amount\"].sum()\n",
    "dfc = dfa.loc[(dfa[\"Party\"]) == \"Republican\"] [\"Amount\"].sum()\n",
    "dfc \n",
    "r2018 = dfc/dfb * 100\n",
    "r2018"
   ]
  },
  {
   "cell_type": "code",
   "execution_count": 175,
   "id": "796224bb",
   "metadata": {},
   "outputs": [
    {
     "data": {
      "text/plain": [
       "25.906237835733748"
      ]
     },
     "execution_count": 175,
     "metadata": {},
     "output_type": "execute_result"
    }
   ],
   "source": [
    "#Democrat-2018\n",
    "dfj = dfgroup.loc[(dfgroup[\"Election Year\"]) == 2018] \n",
    "dfk = dfj[\"Amount\"].sum()\n",
    "dfl = dfj.loc[(dfj[\"Party\"]) == \"Democrat\"] [\"Amount\"].sum()\n",
    "dfl \n",
    "d2018 = dfl/dfk * 100\n",
    "d2018"
   ]
  },
  {
   "cell_type": "code",
   "execution_count": 176,
   "id": "7a047982",
   "metadata": {},
   "outputs": [
    {
     "data": {
      "text/plain": [
       "81.19032646703523"
      ]
     },
     "execution_count": 176,
     "metadata": {},
     "output_type": "execute_result"
    }
   ],
   "source": [
    "#Republicans-2020\n",
    "dfd = dfgroup.loc[(dfgroup[\"Election Year\"]) == 2020] \n",
    "dfe = dfd[\"Amount\"].sum()\n",
    "dff = dfd.loc[(dfd[\"Party\"]) == \"Republican\"] [\"Amount\"].sum()\n",
    "dff \n",
    "r2020 = dff/dfe*100\n",
    "r2020 "
   ]
  },
  {
   "cell_type": "code",
   "execution_count": 177,
   "id": "5558842a",
   "metadata": {},
   "outputs": [
    {
     "data": {
      "text/plain": [
       "15.182953269356467"
      ]
     },
     "execution_count": 177,
     "metadata": {},
     "output_type": "execute_result"
    }
   ],
   "source": [
    "#Democrat-2020\n",
    "dfm = dfgroup.loc[(dfgroup[\"Election Year\"]) == 2020] \n",
    "dfn = dfm[\"Amount\"].sum()\n",
    "dfo = dfm.loc[(dfm[\"Party\"]) == \"Democrat\"] [\"Amount\"].sum()\n",
    "dfo \n",
    "d2020 = dfo/dfn * 100\n",
    "d2020"
   ]
  },
  {
   "cell_type": "markdown",
   "id": "0a0a2e9d",
   "metadata": {},
   "source": [
    "## Political Donations by Sports Owners"
   ]
  },
  {
   "cell_type": "code",
   "execution_count": 178,
   "id": "b5543c31",
   "metadata": {},
   "outputs": [
    {
     "data": {
      "image/png": "[encoded data removed]",
      "text/plain": [
       "<Figure size 498x332 with 1 Axes>"
      ]
     },
     "metadata": {
      "needs_background": "light"
     },
     "output_type": "display_data"
    }
   ],
   "source": [
    "#Main Stacked bargraph\n",
    "#DataFrame for Republican\n",
    "data = { 'year': ['2016','2018','2020'], 'values' :[r2016,r2018,r2020]}\n",
    "info = pd.DataFrame(data)\n",
    "info\n",
    "#DataFrame for Democrat\n",
    "data0 = { 'year': ['2016','2018','2020'], 'values' :[d2016,d2018,d2020]}\n",
    "info0 = pd.DataFrame(data0)\n",
    "info0\n",
    "\n",
    "labels =['2016','2018','2020']\n",
    "width = 0.80\n",
    "fig, ax = plt.subplots()\n",
    "ax.bar(data ['year'], data ['values'],width, label = 'Republican',color = '#DE0100')\n",
    "ax.bar(data0 ['year'], data0 ['values'],width, label = 'Democrat',color = '#1405BD', bottom = data['values'])\n",
    "\n",
    "#label percentages on bars\n",
    "for p in ax.patches:\n",
    "        width, height = p.get_width(), p.get_height() \n",
    "        x, y = p.get_xy() \n",
    "        ax.text(x+width/2, \n",
    "                y+height/2, \n",
    "                '{:.0f} %'.format(height), \n",
    "                horizontalalignment='center', \n",
    "                verticalalignment='center',\n",
    "                color = '#FFFFFF')\n",
    "#Remove Figure borders\n",
    "ax.spines['top'].set_visible(False)\n",
    "ax.spines['right'].set_visible(False)\n",
    "ax.spines['left'].set_visible(False)\n",
    "ax.spines['bottom'].set_color('#1f1f1f')\n",
    "ax.tick_params(bottom=False, left=False)\n",
    "\n",
    "\n",
    "# grid lines\n",
    "ax.set_axisbelow(True)\n",
    "#ax.yaxis.grid(color='black', linestyle='dashed', alpha=0.2)\n",
    "ax.yaxis.grid(True, color='#c4c4c4')\n",
    "ax.xaxis.grid(False)\n",
    "        \n",
    "#labels\n",
    "#plt.xticks(rotation=30, horizontalalignment=\"center\")\n",
    "ax.set_xlabel('Year', labelpad=15, color='#212121')\n",
    "ax.set_ylabel('Amount Donated (%)', labelpad=15, color='#212121')\n",
    "ax.set_title('Political Donations by Sports Owners', pad=15, color='#1f1f1f',  weight='bold')\n",
    "             #size = 15, )\n",
    "ax.legend(bbox_to_anchor = (1.05,1.0),loc = 'upper left')\n",
    "fig.set_dpi(83)\n",
    "plt.show()"
   ]
  },
  {
   "cell_type": "code",
   "execution_count": 179,
   "id": "ca751dee",
   "metadata": {},
   "outputs": [],
   "source": [
    "dfgroup2 = df.groupby(['League', 'Party'], as_index=False)['Amount'].sum()\n",
    "#dfgroup2"
   ]
  },
  {
   "cell_type": "code",
   "execution_count": 180,
   "id": "a86fdeaf",
   "metadata": {},
   "outputs": [
    {
     "data": {
      "text/plain": [
       "22.939567289448394"
      ]
     },
     "execution_count": 180,
     "metadata": {},
     "output_type": "execute_result"
    }
   ],
   "source": [
    "#MLB-Democrat\n",
    "MLB= dfgroup2.loc[(dfgroup2[\"League\"]) == 'MLB'] \n",
    "MLB2 = MLB[\"Amount\"].sum()\n",
    "MLB3 = MLB.loc[(MLB[\"Party\"]) == \"Democrat\"] [\"Amount\"].sum()\n",
    "MLB3\n",
    "New_MLB = MLB3/MLB2 * 100\n",
    "New_MLB"
   ]
  },
  {
   "cell_type": "code",
   "execution_count": 181,
   "id": "c6888811",
   "metadata": {},
   "outputs": [
    {
     "data": {
      "text/plain": [
       "17.750203444318853"
      ]
     },
     "execution_count": 181,
     "metadata": {},
     "output_type": "execute_result"
    }
   ],
   "source": [
    "#NBA-Democrat\n",
    "NBA= dfgroup2.loc[(dfgroup2[\"League\"]) == 'NBA'] \n",
    "NBA2 = NBA[\"Amount\"].sum()\n",
    "NBA3 = NBA.loc[(NBA[\"Party\"]) == \"Democrat\"] [\"Amount\"].sum()\n",
    "NBA3\n",
    "New_NBA = NBA3/NBA2 * 100\n",
    "New_NBA"
   ]
  },
  {
   "cell_type": "code",
   "execution_count": 182,
   "id": "22b02246",
   "metadata": {},
   "outputs": [
    {
     "data": {
      "text/plain": [
       "10.283028770133507"
      ]
     },
     "execution_count": 182,
     "metadata": {},
     "output_type": "execute_result"
    }
   ],
   "source": [
    "#NFL-Democrat\n",
    "NFL= dfgroup2.loc[(dfgroup2[\"League\"]) == 'NFL'] \n",
    "NFL2 = NFL[\"Amount\"].sum()\n",
    "NFL3 = NFL.loc[(NFL[\"Party\"]) == \"Democrat\"] [\"Amount\"].sum()\n",
    "NFL3\n",
    "New_NFL = NFL3/NFL2 * 100\n",
    "New_NFL"
   ]
  },
  {
   "cell_type": "code",
   "execution_count": 183,
   "id": "5efdc63b",
   "metadata": {},
   "outputs": [
    {
     "data": {
      "text/plain": [
       "18.512229899640214"
      ]
     },
     "execution_count": 183,
     "metadata": {},
     "output_type": "execute_result"
    }
   ],
   "source": [
    "#NHL-Democrat\n",
    "NHL = dfgroup2.loc[(dfgroup2[\"League\"]) == 'NHL'] \n",
    "NHL2 = NHL[\"Amount\"].sum()\n",
    "NHL3 = NHL.loc[(NHL[\"Party\"]) == \"Democrat\"] [\"Amount\"].sum()\n",
    "NHL3\n",
    "New_NHL = NHL3/NHL2 * 100\n",
    "New_NHL"
   ]
  },
  {
   "cell_type": "code",
   "execution_count": 184,
   "id": "5378728e",
   "metadata": {},
   "outputs": [
    {
     "data": {
      "text/plain": [
       "12.90278736890662"
      ]
     },
     "execution_count": 184,
     "metadata": {},
     "output_type": "execute_result"
    }
   ],
   "source": [
    "#NASCAR-Democrat\n",
    "NASCAR = dfgroup2.loc[(dfgroup2[\"League\"]) == 'NASCAR'] \n",
    "NASCAR2 = NASCAR[\"Amount\"].sum()\n",
    "NASCAR3 = NASCAR.loc[(NASCAR[\"Party\"]) == \"Democrat\"] [\"Amount\"].sum()\n",
    "NASCAR3\n",
    "New_NASCAR = NASCAR3/NASCAR2 * 100\n",
    "New_NASCAR"
   ]
  },
  {
   "cell_type": "code",
   "execution_count": 185,
   "id": "a3be10d2",
   "metadata": {},
   "outputs": [
    {
     "data": {
      "text/plain": [
       "43.77204818407361"
      ]
     },
     "execution_count": 185,
     "metadata": {},
     "output_type": "execute_result"
    }
   ],
   "source": [
    "#WNBA-Democrat\n",
    "WNBA = dfgroup2.loc[(dfgroup2[\"League\"]) == 'WNBA'] \n",
    "WNBA2 = WNBA[\"Amount\"].sum()\n",
    "WNBA3 = WNBA.loc[(WNBA[\"Party\"]) == \"Democrat\"] [\"Amount\"].sum()\n",
    "WNBA3\n",
    "New_WNBA = WNBA3/WNBA2 * 100\n",
    "New_WNBA"
   ]
  },
  {
   "cell_type": "code",
   "execution_count": 186,
   "id": "e345f515",
   "metadata": {},
   "outputs": [
    {
     "data": {
      "text/plain": [
       "74.89147724626115"
      ]
     },
     "execution_count": 186,
     "metadata": {},
     "output_type": "execute_result"
    }
   ],
   "source": [
    "#MLB-Republican\n",
    "RMLB= dfgroup2.loc[(dfgroup2[\"League\"]) == 'MLB'] \n",
    "RMLB2 = RMLB[\"Amount\"].sum()\n",
    "RMLB3 = RMLB.loc[(RMLB[\"Party\"]) == \"Republican\"] [\"Amount\"].sum()\n",
    "RMLB3\n",
    "New_RMLB = RMLB3/RMLB2 * 100\n",
    "New_RMLB"
   ]
  },
  {
   "cell_type": "code",
   "execution_count": 187,
   "id": "a5501529",
   "metadata": {},
   "outputs": [
    {
     "data": {
      "text/plain": [
       "80.36415879407774"
      ]
     },
     "execution_count": 187,
     "metadata": {},
     "output_type": "execute_result"
    }
   ],
   "source": [
    "#NBA-Republican\n",
    "RNBA = dfgroup2.loc[(dfgroup2[\"League\"]) == 'NBA'] \n",
    "RNBA2 = RNBA[\"Amount\"].sum()\n",
    "RNBA3 = RNBA.loc[(RNBA[\"Party\"]) == \"Republican\"] [\"Amount\"].sum()\n",
    "RNBA3\n",
    "New_RNBA = RNBA3/RNBA2 * 100\n",
    "New_RNBA"
   ]
  },
  {
   "cell_type": "code",
   "execution_count": 188,
   "id": "791d23a5",
   "metadata": {},
   "outputs": [
    {
     "data": {
      "text/plain": [
       "78.23617445596784"
      ]
     },
     "execution_count": 188,
     "metadata": {},
     "output_type": "execute_result"
    }
   ],
   "source": [
    "#NFL-Republican\n",
    "RNFL= dfgroup2.loc[(dfgroup2[\"League\"]) == 'NFL'] \n",
    "RNFL2 = RNFL[\"Amount\"].sum()\n",
    "RNFL3 = RNFL.loc[(RNFL[\"Party\"]) == \"Republican\"] [\"Amount\"].sum()\n",
    "RNFL3\n",
    "New_RNFL = RNFL3/RNFL2 * 100\n",
    "New_RNFL"
   ]
  },
  {
   "cell_type": "code",
   "execution_count": 189,
   "id": "0de7140c",
   "metadata": {},
   "outputs": [
    {
     "data": {
      "text/plain": [
       "77.97105337778551"
      ]
     },
     "execution_count": 189,
     "metadata": {},
     "output_type": "execute_result"
    }
   ],
   "source": [
    "#NHL-Republican\n",
    "RNHL = dfgroup2.loc[(dfgroup2[\"League\"]) == 'NHL'] \n",
    "RNHL2 = RNHL[\"Amount\"].sum()\n",
    "RNHL3 = RNHL.loc[(RNHL[\"Party\"]) == \"Republican\"] [\"Amount\"].sum()\n",
    "RNHL3\n",
    "New_RNHL = RNHL3/RNHL2 * 100\n",
    "New_RNHL"
   ]
  },
  {
   "cell_type": "code",
   "execution_count": 190,
   "id": "35a84ebc",
   "metadata": {},
   "outputs": [
    {
     "data": {
      "text/plain": [
       "78.72261265553074"
      ]
     },
     "execution_count": 190,
     "metadata": {},
     "output_type": "execute_result"
    }
   ],
   "source": [
    "#NASCAR-Republican\n",
    "RNASCAR = dfgroup2.loc[(dfgroup2[\"League\"]) == 'NASCAR'] \n",
    "RNASCAR2 = RNASCAR[\"Amount\"].sum()\n",
    "RNASCAR3 = RNASCAR.loc[(RNASCAR[\"Party\"]) == \"Republican\"] [\"Amount\"].sum()\n",
    "RNASCAR3\n",
    "New_RNASCAR = RNASCAR3/RNASCAR2 * 100\n",
    "New_RNASCAR"
   ]
  },
  {
   "cell_type": "code",
   "execution_count": 191,
   "id": "90512d75",
   "metadata": {},
   "outputs": [
    {
     "data": {
      "text/plain": [
       "51.67138903426963"
      ]
     },
     "execution_count": 191,
     "metadata": {},
     "output_type": "execute_result"
    }
   ],
   "source": [
    "#WNBA-Republican\n",
    "RWNBA = dfgroup2.loc[(dfgroup2[\"League\"]) == 'WNBA'] \n",
    "RWNBA2 = RWNBA[\"Amount\"].sum()\n",
    "RWNBA3 = RWNBA.loc[(RWNBA[\"Party\"]) == \"Republican\"] [\"Amount\"].sum()\n",
    "RWNBA3\n",
    "New_RWNBA = RWNBA3/RWNBA2 * 100\n",
    "New_RWNBA"
   ]
  },
  {
   "cell_type": "code",
   "execution_count": 192,
   "id": "cc392499",
   "metadata": {},
   "outputs": [
    {
     "data": {
      "image/png": "[encoded data removed]",
      "text/plain": [
       "<Figure size 640x640 with 6 Axes>"
      ]
     },
     "metadata": {
      "needs_background": "light"
     },
     "output_type": "display_data"
    }
   ],
   "source": [
    "#DataFrame for  League-MLB\n",
    "data1 = {'party':['Democrat','Republican', ], 'values': [New_MLB, New_RMLB]}\n",
    "info1 = pd.DataFrame(data1)\n",
    "info1\n",
    "data2 = {'party':['Democrat','Republican', ], 'values': [New_NBA, New_RNBA]}\n",
    "info2 = pd.DataFrame(data2)\n",
    "info2\n",
    "data3 = {'party':['Democrat','Republican', ], 'values': [New_NFL, New_RNFL]}\n",
    "info3 = pd.DataFrame(data3)\n",
    "info3\n",
    "data4 = {'party':['Democrat','Republican', ], 'values': [New_NHL, New_RNHL]}\n",
    "info4 = pd.DataFrame(data4)\n",
    "info4\n",
    "data5 = {'party':['Democrat','Republican', ], 'values': [New_NASCAR, New_RNASCAR]}\n",
    "info5 = pd.DataFrame(data5)\n",
    "info5\n",
    "data6 = {'party':['Democrat','Republican', ], 'values': [New_WNBA, New_RWNBA]}\n",
    "info6 = pd.DataFrame(data6)\n",
    "info6\n",
    "\n",
    "fig, ax = plt.subplots(3,2,figsize=(8,8),tight_layout=True)\n",
    "                       #facecolor='#DCDCDC', edgecolor='k'\n",
    "ax[0,0].bar(info1 ['party'], info1 ['values'], label = ['Democrat','Republican'],color = ['#1405BD', '#DE0100'])\n",
    "ax[0,1].bar(info2 ['party'], info2 ['values'], label = ['Democrat','Republican'],color = ['#1405BD', '#DE0100'])\n",
    "ax[1,0].bar(info3 ['party'], info3 ['values'], label = ['Democrat','Republican'],color = ['#1405BD', '#DE0100'])\n",
    "ax[1,1].bar(info4 ['party'], info4 ['values'], label = ['Democrat','Republican'],color = ['#1405BD', '#DE0100'])\n",
    "ax[2,0].bar(info5 ['party'], info5 ['values'], label = ['Democrat','Republican'],color = ['#1405BD', '#DE0100'])\n",
    "ax[2,1].bar(info6 ['party'], info6 ['values'], label = ['Democrat','Republican'],color = ['#1405BD', '#DE0100'])\n",
    "\n",
    "fig.suptitle('Donations By League', size = 18,  fontweight=\"bold\")\n",
    "#ax[0, 0].title.set_text('MLB')\n",
    "ax[0, 0].set_title('MLB', fontweight=\"bold\")\n",
    "ax[0, 1].set_title('NBA', fontweight=\"bold\")\n",
    "ax[1, 0].set_title('NFL', fontweight=\"bold\")\n",
    "ax[1, 1].set_title('NHL', fontweight=\"bold\")\n",
    "ax[2, 0].set_title('NASCAR', fontweight=\"bold\")\n",
    "ax[2, 1].set_title('WNBA', fontweight=\"bold\")\n",
    "\n",
    "ax[0, 0].set_yticks([0,25,50,75])\n",
    "ax[0, 1].set_yticks([0,25,50,75])\n",
    "ax[1, 0].set_yticks([0,25,50,75])\n",
    "ax[1, 1].set_yticks([0,25,50,75])\n",
    "ax[2, 0].set_yticks([0,25,50,75])\n",
    "ax[2, 1].set_yticks([0,25,50,75])\n",
    "#ax[2, 1].set_yticklabels(['0%','25%','50%','75%'])\n",
    "\n",
    "ax[0, 0].set_xlabel('Party')\n",
    "ax[0, 1].set_xlabel('Party')\n",
    "ax[1, 0].set_xlabel('Party')\n",
    "ax[1, 0].set_xlabel('Party')\n",
    "ax[0, 1].set_xlabel('Party')\n",
    "ax[2, 0].set_xlabel('Party')\n",
    "ax[2, 1].set_xlabel('Party')\n",
    "\n",
    "ax[0, 0].set_ylabel('% of Donations')\n",
    "ax[0, 1].set_ylabel('% of Donations')\n",
    "ax[1, 0].set_ylabel('% of Donations')\n",
    "ax[1, 1].set_ylabel('% of Donations')\n",
    "ax[2, 0].set_ylabel('% of Donations')\n",
    "ax[2, 1].set_ylabel('% of Donations')\n",
    "#ax[2, 1].set_ylabel('Percentage of Donations')\n",
    "\n",
    "ax[0, 0].set_axisbelow(True)\n",
    "ax[0, 0].yaxis.grid(True, color='#EEEEEE')\n",
    "ax[0, 0].xaxis.grid(False)\n",
    "\n",
    "ax[0, 1].set_axisbelow(True)\n",
    "ax[0, 1].yaxis.grid(True, color='#EEEEEE')\n",
    "ax[0, 1].xaxis.grid(False)\n",
    "\n",
    "ax[1, 0].set_axisbelow(True)\n",
    "ax[1, 0].yaxis.grid(True, color='#EEEEEE')\n",
    "ax[1, 0].xaxis.grid(False)\n",
    "\n",
    "ax[1, 1].set_axisbelow(True)\n",
    "ax[1, 1].yaxis.grid(True, color='#EEEEEE')\n",
    "ax[1, 1].xaxis.grid(False)\n",
    "\n",
    "ax[2, 0].set_axisbelow(True)\n",
    "ax[2, 0].yaxis.grid(True, color='#EEEEEE')\n",
    "ax[2, 0].xaxis.grid(False)\n",
    "\n",
    "ax[2, 1].set_axisbelow(True)\n",
    "ax[2, 1].yaxis.grid(True, color='#EEEEEE')\n",
    "ax[2, 1].xaxis.grid(False)\n",
    "\n",
    "fig.set_dpi(80)\n",
    "plt.show()"
   ]
  },
  {
   "cell_type": "code",
   "execution_count": null,
   "id": "4873bb1a",
   "metadata": {},
   "outputs": [],
   "source": []
  }
 ],
 "metadata": {
  "kernelspec": {
   "display_name": "Python 3",
   "language": "python",
   "name": "python3"
  },
  "language_info": {
   "codemirror_mode": {
    "name": "ipython",
    "version": 3
   },
   "file_extension": ".py",
   "mimetype": "text/x-python",
   "name": "python",
   "nbconvert_exporter": "python",
   "pygments_lexer": "ipython3",
   "version": "3.8.8"
  }
 },
 "nbformat": 4,
 "nbformat_minor": 5
}
